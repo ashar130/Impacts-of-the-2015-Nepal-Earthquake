{
 "cells": [
  {
   "cell_type": "markdown",
   "metadata": {},
   "source": [
    "<h1> Impacts of the 2015 Nepal Earthquake"
   ]
  },
  {
   "cell_type": "markdown",
   "metadata": {},
   "source": [
    "On April 25, 2015 an earthquake with a magnitude of 7.8 struck Nepal. The earthquake killed nearly 9,000 people and injured nearly 22,000. \n",
    "\n",
    "The datasets used in this Notebook contain the responses of the community perceptions survey carried out by the Mobile Helpdesks in Nepal - led by Accountability Lab and Local Interventions Group as part of the Inter-Agency Common Feedback Project. The survey includes information on the biggest problems and concerns and the general satisfaction towards the Government and NGOs in relation to the earthquake response. <sup>1</sup>"
   ]
  },
  {
   "cell_type": "code",
   "execution_count": 1,
   "metadata": {},
   "outputs": [],
   "source": [
    "import numpy as np\n",
    "import pandas as pd\n",
    "import matplotlib.pyplot as plt\n",
    "import seaborn as sns"
   ]
  },
  {
   "cell_type": "markdown",
   "metadata": {},
   "source": [
    "<h2> Load the Datasets </h2>"
   ]
  },
  {
   "cell_type": "code",
   "execution_count": 2,
   "metadata": {},
   "outputs": [],
   "source": [
    "df1 = pd.read_excel('community-perceptions-in-earthquake-affected-nepal-round-3-1.xlsx', \n",
    "                   sheet_name='uploaded_form_g54cmb')\n",
    "df2 = pd.read_excel('community-perceptions-in-earthquake-affected-nepal-round-2-1.xlsx', \n",
    "                    sheet_name='CPS Round 2 - Final (3)')"
   ]
  },
  {
   "cell_type": "code",
   "execution_count": 3,
   "metadata": {},
   "outputs": [
    {
     "data": {
      "text/plain": [
       "(1400, 64)"
      ]
     },
     "execution_count": 3,
     "metadata": {},
     "output_type": "execute_result"
    }
   ],
   "source": [
    "df1.shape"
   ]
  },
  {
   "cell_type": "code",
   "execution_count": 4,
   "metadata": {},
   "outputs": [
    {
     "data": {
      "text/plain": [
       "(1398, 75)"
      ]
     },
     "execution_count": 4,
     "metadata": {},
     "output_type": "execute_result"
    }
   ],
   "source": [
    "df2.shape"
   ]
  },
  {
   "cell_type": "code",
   "execution_count": 5,
   "metadata": {},
   "outputs": [],
   "source": [
    "df = pd.concat([df1, df2], join='inner', ignore_index=True)"
   ]
  },
  {
   "cell_type": "code",
   "execution_count": 6,
   "metadata": {},
   "outputs": [
    {
     "data": {
      "text/html": [
       "<div>\n",
       "<style scoped>\n",
       "    .dataframe tbody tr th:only-of-type {\n",
       "        vertical-align: middle;\n",
       "    }\n",
       "\n",
       "    .dataframe tbody tr th {\n",
       "        vertical-align: top;\n",
       "    }\n",
       "\n",
       "    .dataframe thead th {\n",
       "        text-align: right;\n",
       "    }\n",
       "</style>\n",
       "<table border=\"1\" class=\"dataframe\">\n",
       "  <thead>\n",
       "    <tr style=\"text-align: right;\">\n",
       "      <th></th>\n",
       "      <th>Name_of_interviewer</th>\n",
       "      <th>Agency</th>\n",
       "      <th>Date</th>\n",
       "      <th>Record_Location</th>\n",
       "      <th>_Record_Location_latitude</th>\n",
       "      <th>_Record_Location_longitude</th>\n",
       "      <th>_Record_Location_altitude</th>\n",
       "      <th>_Record_Location_precision</th>\n",
       "      <th>District</th>\n",
       "      <th>VDC_Municipality</th>\n",
       "      <th>...</th>\n",
       "      <th>_9_Main_problems_women</th>\n",
       "      <th>_9a_Top_problem_women</th>\n",
       "      <th>_9a_If_other_top_problem_women</th>\n",
       "      <th>_9b_Second_problem_women</th>\n",
       "      <th>_9b_If_other_second_problem_wom</th>\n",
       "      <th>meta/instanceID</th>\n",
       "      <th>_uuid</th>\n",
       "      <th>_submission_time</th>\n",
       "      <th>_tags</th>\n",
       "      <th>_notes</th>\n",
       "    </tr>\n",
       "  </thead>\n",
       "  <tbody>\n",
       "    <tr>\n",
       "      <th>0</th>\n",
       "      <td>Suruchi Pant</td>\n",
       "      <td>accountability</td>\n",
       "      <td>2015-09-30 00:00:00</td>\n",
       "      <td>NaN</td>\n",
       "      <td>NaN</td>\n",
       "      <td>NaN</td>\n",
       "      <td>NaN</td>\n",
       "      <td>NaN</td>\n",
       "      <td>Kathmandu</td>\n",
       "      <td>Satungal</td>\n",
       "      <td>...</td>\n",
       "      <td>1___not_at_all</td>\n",
       "      <td>long_term_shelter__housing</td>\n",
       "      <td>NaN</td>\n",
       "      <td>livelihoods</td>\n",
       "      <td>NaN</td>\n",
       "      <td>uuid:e729f3e9-0cd8-41e3-8a86-2ef3465b6110</td>\n",
       "      <td>e729f3e9-0cd8-41e3-8a86-2ef3465b6110</td>\n",
       "      <td>2015-09-30T12:25:57</td>\n",
       "      <td>NaN</td>\n",
       "      <td>NaN</td>\n",
       "    </tr>\n",
       "    <tr>\n",
       "      <th>1</th>\n",
       "      <td>Suruchi Pant</td>\n",
       "      <td>accountability</td>\n",
       "      <td>2015-09-26 00:00:00</td>\n",
       "      <td>NaN</td>\n",
       "      <td>NaN</td>\n",
       "      <td>NaN</td>\n",
       "      <td>NaN</td>\n",
       "      <td>NaN</td>\n",
       "      <td>Kathmandu</td>\n",
       "      <td>Satungal</td>\n",
       "      <td>...</td>\n",
       "      <td>NaN</td>\n",
       "      <td>NaN</td>\n",
       "      <td>NaN</td>\n",
       "      <td>NaN</td>\n",
       "      <td>NaN</td>\n",
       "      <td>uuid:c7a0ec0f-2773-4947-8b2b-050eb6b4d659</td>\n",
       "      <td>c7a0ec0f-2773-4947-8b2b-050eb6b4d659</td>\n",
       "      <td>2015-09-30T12:23:55</td>\n",
       "      <td>NaN</td>\n",
       "      <td>NaN</td>\n",
       "    </tr>\n",
       "    <tr>\n",
       "      <th>2</th>\n",
       "      <td>Suruchi Pant</td>\n",
       "      <td>accountability</td>\n",
       "      <td>2015-09-26 00:00:00</td>\n",
       "      <td>NaN</td>\n",
       "      <td>NaN</td>\n",
       "      <td>NaN</td>\n",
       "      <td>NaN</td>\n",
       "      <td>NaN</td>\n",
       "      <td>Kathmandu</td>\n",
       "      <td>Satungal</td>\n",
       "      <td>...</td>\n",
       "      <td>NaN</td>\n",
       "      <td>NaN</td>\n",
       "      <td>NaN</td>\n",
       "      <td>NaN</td>\n",
       "      <td>NaN</td>\n",
       "      <td>uuid:f1c63191-cbdb-4e52-ba33-5cf125939c8b</td>\n",
       "      <td>f1c63191-cbdb-4e52-ba33-5cf125939c8b</td>\n",
       "      <td>2015-09-30T12:21:46</td>\n",
       "      <td>NaN</td>\n",
       "      <td>NaN</td>\n",
       "    </tr>\n",
       "    <tr>\n",
       "      <th>3</th>\n",
       "      <td>Jharana RaI</td>\n",
       "      <td>accountability</td>\n",
       "      <td>2015-09-28 00:00:00</td>\n",
       "      <td>NaN</td>\n",
       "      <td>NaN</td>\n",
       "      <td>NaN</td>\n",
       "      <td>NaN</td>\n",
       "      <td>NaN</td>\n",
       "      <td>Kathmandu</td>\n",
       "      <td>Jhormahankal</td>\n",
       "      <td>...</td>\n",
       "      <td>4___mostly_yes</td>\n",
       "      <td>NaN</td>\n",
       "      <td>NaN</td>\n",
       "      <td>NaN</td>\n",
       "      <td>NaN</td>\n",
       "      <td>uuid:83625573-4b20-4876-b18d-c75789103218</td>\n",
       "      <td>83625573-4b20-4876-b18d-c75789103218</td>\n",
       "      <td>2015-09-30T12:17:23</td>\n",
       "      <td>NaN</td>\n",
       "      <td>NaN</td>\n",
       "    </tr>\n",
       "    <tr>\n",
       "      <th>4</th>\n",
       "      <td>Anjal Bhatta</td>\n",
       "      <td>accountability</td>\n",
       "      <td>2015-09-28 00:00:00</td>\n",
       "      <td>NaN</td>\n",
       "      <td>NaN</td>\n",
       "      <td>NaN</td>\n",
       "      <td>NaN</td>\n",
       "      <td>NaN</td>\n",
       "      <td>Kathmandu</td>\n",
       "      <td>Jhormahankal</td>\n",
       "      <td>...</td>\n",
       "      <td>4___mostly_yes</td>\n",
       "      <td>NaN</td>\n",
       "      <td>NaN</td>\n",
       "      <td>NaN</td>\n",
       "      <td>NaN</td>\n",
       "      <td>uuid:508a6969-7f7b-4fac-8803-c1993fc410fe</td>\n",
       "      <td>508a6969-7f7b-4fac-8803-c1993fc410fe</td>\n",
       "      <td>2015-09-30T12:15:20</td>\n",
       "      <td>NaN</td>\n",
       "      <td>NaN</td>\n",
       "    </tr>\n",
       "  </tbody>\n",
       "</table>\n",
       "<p>5 rows × 57 columns</p>\n",
       "</div>"
      ],
      "text/plain": [
       "  Name_of_interviewer          Agency                 Date  Record_Location  \\\n",
       "0        Suruchi Pant  accountability  2015-09-30 00:00:00              NaN   \n",
       "1        Suruchi Pant  accountability  2015-09-26 00:00:00              NaN   \n",
       "2        Suruchi Pant  accountability  2015-09-26 00:00:00              NaN   \n",
       "3         Jharana RaI  accountability  2015-09-28 00:00:00              NaN   \n",
       "4        Anjal Bhatta  accountability  2015-09-28 00:00:00              NaN   \n",
       "\n",
       "   _Record_Location_latitude  _Record_Location_longitude  \\\n",
       "0                        NaN                         NaN   \n",
       "1                        NaN                         NaN   \n",
       "2                        NaN                         NaN   \n",
       "3                        NaN                         NaN   \n",
       "4                        NaN                         NaN   \n",
       "\n",
       "   _Record_Location_altitude  _Record_Location_precision   District  \\\n",
       "0                        NaN                         NaN  Kathmandu   \n",
       "1                        NaN                         NaN  Kathmandu   \n",
       "2                        NaN                         NaN  Kathmandu   \n",
       "3                        NaN                         NaN  Kathmandu   \n",
       "4                        NaN                         NaN  Kathmandu   \n",
       "\n",
       "  VDC_Municipality  ...  _9_Main_problems_women       _9a_Top_problem_women  \\\n",
       "0         Satungal  ...          1___not_at_all  long_term_shelter__housing   \n",
       "1         Satungal  ...                     NaN                         NaN   \n",
       "2         Satungal  ...                     NaN                         NaN   \n",
       "3     Jhormahankal  ...          4___mostly_yes                         NaN   \n",
       "4     Jhormahankal  ...          4___mostly_yes                         NaN   \n",
       "\n",
       "  _9a_If_other_top_problem_women _9b_Second_problem_women  \\\n",
       "0                            NaN              livelihoods   \n",
       "1                            NaN                      NaN   \n",
       "2                            NaN                      NaN   \n",
       "3                            NaN                      NaN   \n",
       "4                            NaN                      NaN   \n",
       "\n",
       "  _9b_If_other_second_problem_wom                            meta/instanceID  \\\n",
       "0                             NaN  uuid:e729f3e9-0cd8-41e3-8a86-2ef3465b6110   \n",
       "1                             NaN  uuid:c7a0ec0f-2773-4947-8b2b-050eb6b4d659   \n",
       "2                             NaN  uuid:f1c63191-cbdb-4e52-ba33-5cf125939c8b   \n",
       "3                             NaN  uuid:83625573-4b20-4876-b18d-c75789103218   \n",
       "4                             NaN  uuid:508a6969-7f7b-4fac-8803-c1993fc410fe   \n",
       "\n",
       "                                  _uuid     _submission_time _tags _notes  \n",
       "0  e729f3e9-0cd8-41e3-8a86-2ef3465b6110  2015-09-30T12:25:57   NaN    NaN  \n",
       "1  c7a0ec0f-2773-4947-8b2b-050eb6b4d659  2015-09-30T12:23:55   NaN    NaN  \n",
       "2  f1c63191-cbdb-4e52-ba33-5cf125939c8b  2015-09-30T12:21:46   NaN    NaN  \n",
       "3  83625573-4b20-4876-b18d-c75789103218  2015-09-30T12:17:23   NaN    NaN  \n",
       "4  508a6969-7f7b-4fac-8803-c1993fc410fe  2015-09-30T12:15:20   NaN    NaN  \n",
       "\n",
       "[5 rows x 57 columns]"
      ]
     },
     "execution_count": 6,
     "metadata": {},
     "output_type": "execute_result"
    }
   ],
   "source": [
    "df.head()"
   ]
  },
  {
   "cell_type": "code",
   "execution_count": 7,
   "metadata": {},
   "outputs": [
    {
     "data": {
      "text/plain": [
       "(2798, 57)"
      ]
     },
     "execution_count": 7,
     "metadata": {},
     "output_type": "execute_result"
    }
   ],
   "source": [
    "df.shape"
   ]
  },
  {
   "cell_type": "markdown",
   "metadata": {},
   "source": [
    "<h2> Cleaning Data </h2>"
   ]
  },
  {
   "cell_type": "markdown",
   "metadata": {},
   "source": [
    "Drop Columns where 70% of the values are NaN"
   ]
  },
  {
   "cell_type": "code",
   "execution_count": 8,
   "metadata": {},
   "outputs": [
    {
     "name": "stdout",
     "output_type": "stream",
     "text": [
      "<class 'pandas.core.frame.DataFrame'>\n",
      "RangeIndex: 2798 entries, 0 to 2797\n",
      "Data columns (total 33 columns):\n",
      "Name_of_interviewer                2798 non-null object\n",
      "Agency                             2798 non-null object\n",
      "Date                               2798 non-null object\n",
      "District                           2798 non-null object\n",
      "VDC_Municipality                   2798 non-null object\n",
      "Ward_                              2798 non-null int64\n",
      "Age                                2798 non-null object\n",
      "Gender                             2798 non-null object\n",
      "Caste_ethnicity                    2798 non-null object\n",
      "Occupation                         2798 non-null object\n",
      "Do_you_have_any_health_problem     2798 non-null object\n",
      "_1_Are_your_main_problems_bein     2798 non-null object\n",
      "_1a_What_is_your_biggest_probl     2295 non-null object\n",
      "_1b_What_is_your_second_biggest    2295 non-null object\n",
      "_1c_What_is_your_third_biggest_    2295 non-null object\n",
      "_2_Satisfied_with_gov              2798 non-null object\n",
      "_2a_Top_thing_gov                  1985 non-null object\n",
      "_2b_Second_thing_gov               1985 non-null object\n",
      "_3_Do_you_have_information         2798 non-null object\n",
      "_3a_Top_need_info                  1748 non-null object\n",
      "_3b_Second_need_info               1748 non-null object\n",
      "_4_Satisfied_with_NGOs             2798 non-null object\n",
      "_4a_Top_need_NGOs                  1609 non-null object\n",
      "_4b_Second_need_NGOs               1609 non-null object\n",
      "_5_Is_support_fair                 2798 non-null object\n",
      "_5a_Top_reason_not_fair            1477 non-null object\n",
      "_5b_Second_reason_not_fair         1477 non-null object\n",
      "_7_Have_been_heard                 2798 non-null object\n",
      "_8_Relief_effort_progress          2798 non-null object\n",
      "_9_Main_problems_women             1134 non-null object\n",
      "meta/instanceID                    2798 non-null object\n",
      "_uuid                              2798 non-null object\n",
      "_submission_time                   2798 non-null object\n",
      "dtypes: int64(1), object(32)\n",
      "memory usage: 721.5+ KB\n"
     ]
    }
   ],
   "source": [
    "df = df.loc[:, df.isnull().sum() < 0.7*df.shape[0]]\n",
    "df.info()"
   ]
  },
  {
   "cell_type": "markdown",
   "metadata": {},
   "source": [
    "<h3> Drop irrelevant columns </h3>"
   ]
  },
  {
   "cell_type": "code",
   "execution_count": 9,
   "metadata": {},
   "outputs": [
    {
     "data": {
      "text/plain": [
       "Int64Index([2015], dtype='int64', name='Date')"
      ]
     },
     "execution_count": 9,
     "metadata": {},
     "output_type": "execute_result"
    }
   ],
   "source": [
    "# All data from 2015\n",
    "(pd.DatetimeIndex(df['Date']).year).unique()"
   ]
  },
  {
   "cell_type": "code",
   "execution_count": 10,
   "metadata": {},
   "outputs": [],
   "source": [
    "df.drop(['Name_of_interviewer', 'Agency', 'Date', 'meta/instanceID', '_uuid',\\\n",
    "         '_submission_time'], axis=1, inplace=True)"
   ]
  },
  {
   "cell_type": "code",
   "execution_count": 11,
   "metadata": {},
   "outputs": [
    {
     "data": {
      "text/html": [
       "<div>\n",
       "<style scoped>\n",
       "    .dataframe tbody tr th:only-of-type {\n",
       "        vertical-align: middle;\n",
       "    }\n",
       "\n",
       "    .dataframe tbody tr th {\n",
       "        vertical-align: top;\n",
       "    }\n",
       "\n",
       "    .dataframe thead th {\n",
       "        text-align: right;\n",
       "    }\n",
       "</style>\n",
       "<table border=\"1\" class=\"dataframe\">\n",
       "  <thead>\n",
       "    <tr style=\"text-align: right;\">\n",
       "      <th></th>\n",
       "      <th>District</th>\n",
       "      <th>VDC_Municipality</th>\n",
       "      <th>Ward_</th>\n",
       "      <th>Age</th>\n",
       "      <th>Gender</th>\n",
       "      <th>Caste_ethnicity</th>\n",
       "      <th>Occupation</th>\n",
       "      <th>Do_you_have_any_health_problem</th>\n",
       "      <th>_1_Are_your_main_problems_bein</th>\n",
       "      <th>_1a_What_is_your_biggest_probl</th>\n",
       "      <th>...</th>\n",
       "      <th>_3b_Second_need_info</th>\n",
       "      <th>_4_Satisfied_with_NGOs</th>\n",
       "      <th>_4a_Top_need_NGOs</th>\n",
       "      <th>_4b_Second_need_NGOs</th>\n",
       "      <th>_5_Is_support_fair</th>\n",
       "      <th>_5a_Top_reason_not_fair</th>\n",
       "      <th>_5b_Second_reason_not_fair</th>\n",
       "      <th>_7_Have_been_heard</th>\n",
       "      <th>_8_Relief_effort_progress</th>\n",
       "      <th>_9_Main_problems_women</th>\n",
       "    </tr>\n",
       "  </thead>\n",
       "  <tbody>\n",
       "    <tr>\n",
       "      <th>0</th>\n",
       "      <td>Kathmandu</td>\n",
       "      <td>Satungal</td>\n",
       "      <td>1</td>\n",
       "      <td>40_54</td>\n",
       "      <td>female</td>\n",
       "      <td>Newar</td>\n",
       "      <td>other</td>\n",
       "      <td>no_difficulty</td>\n",
       "      <td>1___not_at_all</td>\n",
       "      <td>long_term_shelter__housing</td>\n",
       "      <td>...</td>\n",
       "      <td>NaN</td>\n",
       "      <td>4___mostly_yes</td>\n",
       "      <td>NaN</td>\n",
       "      <td>NaN</td>\n",
       "      <td>don_t_know</td>\n",
       "      <td>NaN</td>\n",
       "      <td>NaN</td>\n",
       "      <td>1___not_at_all</td>\n",
       "      <td>don_t_know</td>\n",
       "      <td>1___not_at_all</td>\n",
       "    </tr>\n",
       "    <tr>\n",
       "      <th>1</th>\n",
       "      <td>Kathmandu</td>\n",
       "      <td>Satungal</td>\n",
       "      <td>1</td>\n",
       "      <td>55_greater</td>\n",
       "      <td>male</td>\n",
       "      <td>Newar</td>\n",
       "      <td>skilled_worker</td>\n",
       "      <td>no_difficulty</td>\n",
       "      <td>2___very_little</td>\n",
       "      <td>long_term_shelter__housing</td>\n",
       "      <td>...</td>\n",
       "      <td>how_to_get_shelter_materials</td>\n",
       "      <td>2___very_little</td>\n",
       "      <td>building_mater</td>\n",
       "      <td>food_aid</td>\n",
       "      <td>2___very_little</td>\n",
       "      <td>based_on_caste</td>\n",
       "      <td>based_on_polit</td>\n",
       "      <td>2___not_very_m</td>\n",
       "      <td>2___very_little</td>\n",
       "      <td>NaN</td>\n",
       "    </tr>\n",
       "    <tr>\n",
       "      <th>2</th>\n",
       "      <td>Kathmandu</td>\n",
       "      <td>Satungal</td>\n",
       "      <td>1</td>\n",
       "      <td>55_greater</td>\n",
       "      <td>male</td>\n",
       "      <td>Newar</td>\n",
       "      <td>skilled_worker</td>\n",
       "      <td>no_difficulty</td>\n",
       "      <td>2___very_little</td>\n",
       "      <td>long_term_shelter__housing</td>\n",
       "      <td>...</td>\n",
       "      <td>how_to_get_shelter_materials</td>\n",
       "      <td>4___mostly_yes</td>\n",
       "      <td>NaN</td>\n",
       "      <td>NaN</td>\n",
       "      <td>2___very_little</td>\n",
       "      <td>based_on_caste</td>\n",
       "      <td>based_on_polit</td>\n",
       "      <td>1___not_at_all</td>\n",
       "      <td>1___not_at_all</td>\n",
       "      <td>NaN</td>\n",
       "    </tr>\n",
       "    <tr>\n",
       "      <th>3</th>\n",
       "      <td>Kathmandu</td>\n",
       "      <td>Jhormahankal</td>\n",
       "      <td>2</td>\n",
       "      <td>15_24</td>\n",
       "      <td>female</td>\n",
       "      <td>Tamang</td>\n",
       "      <td>other</td>\n",
       "      <td>yes__some_diff</td>\n",
       "      <td>3___neutral</td>\n",
       "      <td>long_term_shelter__housing</td>\n",
       "      <td>...</td>\n",
       "      <td>NaN</td>\n",
       "      <td>3___neutral</td>\n",
       "      <td>building_mater</td>\n",
       "      <td>cash_for_work</td>\n",
       "      <td>3___neutral</td>\n",
       "      <td>based_on_dista</td>\n",
       "      <td>first_come__fi</td>\n",
       "      <td>3___neutral</td>\n",
       "      <td>3___neutral</td>\n",
       "      <td>4___mostly_yes</td>\n",
       "    </tr>\n",
       "    <tr>\n",
       "      <th>4</th>\n",
       "      <td>Kathmandu</td>\n",
       "      <td>Jhormahankal</td>\n",
       "      <td>2</td>\n",
       "      <td>25_39</td>\n",
       "      <td>female</td>\n",
       "      <td>Tamang</td>\n",
       "      <td>other</td>\n",
       "      <td>no_difficulty</td>\n",
       "      <td>3___neutral</td>\n",
       "      <td>short_term_she</td>\n",
       "      <td>...</td>\n",
       "      <td>how_to_get_shelter_materials</td>\n",
       "      <td>3___neutral</td>\n",
       "      <td>building_mater</td>\n",
       "      <td>cash_for_work</td>\n",
       "      <td>3___neutral</td>\n",
       "      <td>based_on_polit</td>\n",
       "      <td>first_come__fi</td>\n",
       "      <td>3___neutral</td>\n",
       "      <td>2___very_little</td>\n",
       "      <td>4___mostly_yes</td>\n",
       "    </tr>\n",
       "  </tbody>\n",
       "</table>\n",
       "<p>5 rows × 27 columns</p>\n",
       "</div>"
      ],
      "text/plain": [
       "    District VDC_Municipality  Ward_         Age  Gender Caste_ethnicity  \\\n",
       "0  Kathmandu         Satungal      1       40_54  female           Newar   \n",
       "1  Kathmandu         Satungal      1  55_greater    male           Newar   \n",
       "2  Kathmandu         Satungal      1  55_greater    male           Newar   \n",
       "3  Kathmandu     Jhormahankal      2       15_24  female          Tamang   \n",
       "4  Kathmandu     Jhormahankal      2       25_39  female          Tamang   \n",
       "\n",
       "       Occupation Do_you_have_any_health_problem  \\\n",
       "0           other                  no_difficulty   \n",
       "1  skilled_worker                  no_difficulty   \n",
       "2  skilled_worker                  no_difficulty   \n",
       "3           other                 yes__some_diff   \n",
       "4           other                  no_difficulty   \n",
       "\n",
       "  _1_Are_your_main_problems_bein _1a_What_is_your_biggest_probl  ...  \\\n",
       "0                 1___not_at_all     long_term_shelter__housing  ...   \n",
       "1                2___very_little     long_term_shelter__housing  ...   \n",
       "2                2___very_little     long_term_shelter__housing  ...   \n",
       "3                    3___neutral     long_term_shelter__housing  ...   \n",
       "4                    3___neutral                 short_term_she  ...   \n",
       "\n",
       "           _3b_Second_need_info _4_Satisfied_with_NGOs _4a_Top_need_NGOs  \\\n",
       "0                           NaN         4___mostly_yes               NaN   \n",
       "1  how_to_get_shelter_materials        2___very_little    building_mater   \n",
       "2  how_to_get_shelter_materials         4___mostly_yes               NaN   \n",
       "3                           NaN            3___neutral    building_mater   \n",
       "4  how_to_get_shelter_materials            3___neutral    building_mater   \n",
       "\n",
       "  _4b_Second_need_NGOs _5_Is_support_fair _5a_Top_reason_not_fair  \\\n",
       "0                  NaN         don_t_know                     NaN   \n",
       "1             food_aid    2___very_little          based_on_caste   \n",
       "2                  NaN    2___very_little          based_on_caste   \n",
       "3        cash_for_work        3___neutral          based_on_dista   \n",
       "4        cash_for_work        3___neutral          based_on_polit   \n",
       "\n",
       "  _5b_Second_reason_not_fair _7_Have_been_heard _8_Relief_effort_progress  \\\n",
       "0                        NaN     1___not_at_all                don_t_know   \n",
       "1             based_on_polit     2___not_very_m           2___very_little   \n",
       "2             based_on_polit     1___not_at_all            1___not_at_all   \n",
       "3             first_come__fi        3___neutral               3___neutral   \n",
       "4             first_come__fi        3___neutral           2___very_little   \n",
       "\n",
       "  _9_Main_problems_women  \n",
       "0         1___not_at_all  \n",
       "1                    NaN  \n",
       "2                    NaN  \n",
       "3         4___mostly_yes  \n",
       "4         4___mostly_yes  \n",
       "\n",
       "[5 rows x 27 columns]"
      ]
     },
     "execution_count": 11,
     "metadata": {},
     "output_type": "execute_result"
    }
   ],
   "source": [
    "df.head(5)"
   ]
  },
  {
   "cell_type": "code",
   "execution_count": 12,
   "metadata": {},
   "outputs": [
    {
     "data": {
      "text/plain": [
       "Index(['District', 'VDC_Municipality', 'Ward_', 'Age', 'Gender',\n",
       "       'Caste_ethnicity', 'Occupation', 'Do_you_have_any_health_problem',\n",
       "       '_1_Are_your_main_problems_bein', '_1a_What_is_your_biggest_probl',\n",
       "       '_1b_What_is_your_second_biggest', '_1c_What_is_your_third_biggest_',\n",
       "       '_2_Satisfied_with_gov', '_2a_Top_thing_gov', '_2b_Second_thing_gov',\n",
       "       '_3_Do_you_have_information', '_3a_Top_need_info',\n",
       "       '_3b_Second_need_info', '_4_Satisfied_with_NGOs', '_4a_Top_need_NGOs',\n",
       "       '_4b_Second_need_NGOs', '_5_Is_support_fair', '_5a_Top_reason_not_fair',\n",
       "       '_5b_Second_reason_not_fair', '_7_Have_been_heard',\n",
       "       '_8_Relief_effort_progress', '_9_Main_problems_women'],\n",
       "      dtype='object')"
      ]
     },
     "execution_count": 12,
     "metadata": {},
     "output_type": "execute_result"
    }
   ],
   "source": [
    "df.columns"
   ]
  },
  {
   "cell_type": "markdown",
   "metadata": {},
   "source": [
    "<h3> Rename Columns </h3>"
   ]
  },
  {
   "cell_type": "code",
   "execution_count": 13,
   "metadata": {},
   "outputs": [],
   "source": [
    "df.columns = ['District', 'Municipality', 'Ward','Age', 'Gender', 'Caste', 'Occupation', \n",
    "              'Health Problem','Main Problems Met', 'Biggest Problem', 'Second Biggest Problem', \n",
    "              'Third Biggest Problem', 'GOV Satisfaction', 'Top Thing Gov', 'Second Thing Gov',\n",
    "              'Have Information', 'Top Need Info','Second Need Info', 'NGO Satisfaction', \n",
    "              'Top Need NGO', 'Second Need NGO', 'Support Fair','Top Reason Not Fair', \n",
    "              'Second Reason Not Fair', 'Heard','Relief Effort Progress', 'Main Women Problem']"
   ]
  },
  {
   "cell_type": "markdown",
   "metadata": {},
   "source": [
    "<h3> Municipality </h3>"
   ]
  },
  {
   "cell_type": "code",
   "execution_count": 14,
   "metadata": {},
   "outputs": [
    {
     "data": {
      "text/plain": [
       "269"
      ]
     },
     "execution_count": 14,
     "metadata": {},
     "output_type": "execute_result"
    }
   ],
   "source": [
    "df['Municipality'].nunique()"
   ]
  },
  {
   "cell_type": "code",
   "execution_count": 15,
   "metadata": {},
   "outputs": [
    {
     "data": {
      "text/plain": [
       "array(['Satungal', 'Jhormahankal', 'Sitapaila', 'Dharmasthali',\n",
       "       'Bajrayogini', 'Ghusel', 'Hetauda Submetropolitan City',\n",
       "       'changunarayan', 'Bhorle', 'Changunarayan', 'Gairi Bisauna Deupur',\n",
       "       'Dhaibung', 'Jibanpur', 'Makha', 'Jhaukhel', 'Thakre', 'Pangretar',\n",
       "       'Dandagaun', 'Jalkanya', 'Ratanchaura', 'chhaling', 'Phulpindada',\n",
       "       'Nibuwatar', 'Manthali', 'kushadevi', 'Goljung', 'Pipaldada',\n",
       "       'salyantar', 'kashigaun', 'Bhuwaneswari', 'Salyantar', 'Hanspur',\n",
       "       'Tilpung', 'sundawati', 'melung', 'Manahari', 'Khadga Bhanjyang',\n",
       "       'Salyankot', 'Saramthali', 'bhaktpur', 'Ambhanjyang',\n",
       "       'Chandeni Mandan', 'Prithivi Narayan NP', 'panchkhal', 'Goldhunga',\n",
       "       'Gotikhel', 'Manikhel', 'lamidada', 'Khalte', 'changunaran',\n",
       "       'susmachhemawati', 'Phulasi', 'Tupche', 'Thulosiruwari',\n",
       "       'Kamalamai', 'Barpak', 'Bhimeswor', 'Bhimeshwor', 'Manbu',\n",
       "       'BHorle', 'Kamalmai', 'Tasarpur', 'Chhatiwan', 'Chilime', 'ryale',\n",
       "       'Chhatredurali', 'Bhimphedi', 'Chhaling', 'Thulogaun',\n",
       "       'Ratanchura', 'Kashigaun', 'Simjung', 'Tripura', 'Sangachok',\n",
       "       'jhaukhel', 'Bhaise', 'Ramche', 'mangaltar', 'Ramechhap', 'bunkot',\n",
       "       'Laharepauwa', 'Chautara', 'Basheswar', 'Namtar', 'mangatar',\n",
       "       'Pakarbas', 'Sanosiruwari', 'bhimkhori', 'Samarthali',\n",
       "       'Sankhupati Chaur', 'Yarsa', 'Aginchok', 'Makwanpurgadhi', 'yarsa',\n",
       "       'sunakhani', 'sahare', 'Kabhre Nittya', 'Puranagau', 'Irkhu',\n",
       "       'Sitalpati', 'madhyapur', 'Mulpani', 'Jhangajholi Ratmata',\n",
       "       'Panchkhal', 'Kalleri', 'Taple', 'Khadha Bhanjyang', 'Hadikhola',\n",
       "       'Chanakhu', 'Kusheswar Dumja', 'Chhatredeurali', 'laduk', 'kavre',\n",
       "       'Khoplang', 'Salyankot ', 'nambdu', 'Dadhuwa', 'Nambdu', 'Khimti',\n",
       "       'Sundarijal', 'Kapan', 'Gailu', 'Gonggabu', 'Khokana', 'Ramkot',\n",
       "       'Harisiddhi', 'harisiddhi', 'Jhormahankal ', 'Nalang', 'Ratmate',\n",
       "       'Siddhipur', 'Matatirtha', 'Icchangunarayan', 'Bidur Municipality',\n",
       "       'Bageshwari', 'Khanigaun', 'badikhel', 'Khiji Phalate',\n",
       "       'Khiji Chandeshwari', 'Lele', 'Suryamati', 'Harkapur', 'Madanpur',\n",
       "       'Jharuwarasi', 'Chyanam', 'Lalitpur', 'Salang', 'Budhasing',\n",
       "       'Siddhicharan Np', 'Charghare', 'Badikhel', 'salang', 'Kunta Devi',\n",
       "       'Bhattedanda', 'Bigutar', 'Jantar Khani', 'Prapcha', 'Belkot',\n",
       "       'Baruneshwar', 'Baraneshwar', 'Bhaktapur NP', 'bhaktapur NP',\n",
       "       'madhyapur np', 'aginchok', 'chhatredurali', 'jibanpur', 'kalleri',\n",
       "       'khalte', 'mulpani', 'nalan', 'salan', 'salyakot', 'tasarpur',\n",
       "       'thakre', 'tripura', 'Bhimeshor', 'Kavre', 'Laduk', 'Lamidada',\n",
       "       'Melung', 'Namdu', 'namdu', 'Sahare', 'Sunakhani', 'Sundawati',\n",
       "       'sunkhani', 'Susmachhemawati', 'Bunkot', 'hetauda smc',\n",
       "       'bajrayogini', 'dharmasthali', 'gonggabu', 'ichangu narayan',\n",
       "       'Ichangu narayan', 'jhor mahankal', 'kapan', 'mahankal',\n",
       "       'matatirtha', 'matatritha', 'ramkot', 'satungal', 'sitapaila',\n",
       "       'sundarijal', 'Bhimkhori', 'Kabhre Nittya Chandeshwari',\n",
       "       'Kushadevi', 'Mangaltar', 'Ryale', 'Ghushel', 'ghushel',\n",
       "       'Harisiddihi', 'jharuwarasi', 'khokana', 'lele', 'Lubhu',\n",
       "       'siddhipur', 'bhaise', 'chhatiwan', 'hadikhola', 'hetauda',\n",
       "       'makwanpurgadhi', 'manahari', 'namtar', 'nibuwatar', 'Bageswari',\n",
       "       'Bidur', 'Khadkavanjayang', 'khadkavanjayang', 'Khanigau',\n",
       "       'Madanuur', 'Ratamate', 'baruneshwor', 'chyanam', 'harkapur',\n",
       "       'Jantarkhani', 'jantarkhani', 'khijichandeshwori', 'khijiphalate',\n",
       "       'kuntadevi', 'prapcha', 'Siddhicharan', 'bhorle', 'chilime',\n",
       "       'dhaibung', 'dhaidung', 'gatlang', 'goljung', 'laharepauwa',\n",
       "       'ramanthali', 'ramche', 'samarthali', 'saramthali', 'Basheswor',\n",
       "       'BHIMESWAR', 'bhuwaneswari', 'jhangajholi ratmata',\n",
       "       'KAMALAI MUNICIPALITY', 'KAMALAMAI MUIPALITY', 'chautara', 'irkhu',\n",
       "       'makha', 'pangratar', 'pangretar', 'papaldada', 'phulpindada',\n",
       "       'pipaldada', 'sangachok', 'sanosirubari', 'thulosirubari'],\n",
       "      dtype=object)"
      ]
     },
     "execution_count": 15,
     "metadata": {},
     "output_type": "execute_result"
    }
   ],
   "source": [
    "df['Municipality'].unique()"
   ]
  },
  {
   "cell_type": "code",
   "execution_count": 16,
   "metadata": {},
   "outputs": [],
   "source": [
    "# Capitalize first letter, small else\n",
    "df['Municipality'] = df['Municipality'].apply(lambda x: x.title())"
   ]
  },
  {
   "cell_type": "code",
   "execution_count": 17,
   "metadata": {},
   "outputs": [
    {
     "data": {
      "text/plain": [
       "189"
      ]
     },
     "execution_count": 17,
     "metadata": {},
     "output_type": "execute_result"
    }
   ],
   "source": [
    "df['Municipality'].nunique()"
   ]
  },
  {
   "cell_type": "code",
   "execution_count": 18,
   "metadata": {},
   "outputs": [
    {
     "data": {
      "text/html": [
       "<div>\n",
       "<style scoped>\n",
       "    .dataframe tbody tr th:only-of-type {\n",
       "        vertical-align: middle;\n",
       "    }\n",
       "\n",
       "    .dataframe tbody tr th {\n",
       "        vertical-align: top;\n",
       "    }\n",
       "\n",
       "    .dataframe thead th {\n",
       "        text-align: right;\n",
       "    }\n",
       "</style>\n",
       "<table border=\"1\" class=\"dataframe\">\n",
       "  <thead>\n",
       "    <tr style=\"text-align: right;\">\n",
       "      <th></th>\n",
       "      <th>Municipality</th>\n",
       "    </tr>\n",
       "  </thead>\n",
       "  <tbody>\n",
       "    <tr>\n",
       "      <th>Chhaling</th>\n",
       "      <td>40</td>\n",
       "    </tr>\n",
       "    <tr>\n",
       "      <th>Phulpindada</th>\n",
       "      <td>40</td>\n",
       "    </tr>\n",
       "    <tr>\n",
       "      <th>Panchkhal</th>\n",
       "      <td>40</td>\n",
       "    </tr>\n",
       "    <tr>\n",
       "      <th>Jhaukhel</th>\n",
       "      <td>40</td>\n",
       "    </tr>\n",
       "    <tr>\n",
       "      <th>Barpak</th>\n",
       "      <td>40</td>\n",
       "    </tr>\n",
       "    <tr>\n",
       "      <th>...</th>\n",
       "      <td>...</td>\n",
       "    </tr>\n",
       "    <tr>\n",
       "      <th>Papaldada</th>\n",
       "      <td>1</td>\n",
       "    </tr>\n",
       "    <tr>\n",
       "      <th>Ratanchaura</th>\n",
       "      <td>1</td>\n",
       "    </tr>\n",
       "    <tr>\n",
       "      <th>Khadha Bhanjyang</th>\n",
       "      <td>1</td>\n",
       "    </tr>\n",
       "    <tr>\n",
       "      <th>Matatritha</th>\n",
       "      <td>1</td>\n",
       "    </tr>\n",
       "    <tr>\n",
       "      <th>Khadga Bhanjyang</th>\n",
       "      <td>1</td>\n",
       "    </tr>\n",
       "  </tbody>\n",
       "</table>\n",
       "<p>189 rows × 1 columns</p>\n",
       "</div>"
      ],
      "text/plain": [
       "                  Municipality\n",
       "Chhaling                    40\n",
       "Phulpindada                 40\n",
       "Panchkhal                   40\n",
       "Jhaukhel                    40\n",
       "Barpak                      40\n",
       "...                        ...\n",
       "Papaldada                    1\n",
       "Ratanchaura                  1\n",
       "Khadha Bhanjyang             1\n",
       "Matatritha                   1\n",
       "Khadga Bhanjyang             1\n",
       "\n",
       "[189 rows x 1 columns]"
      ]
     },
     "execution_count": 18,
     "metadata": {},
     "output_type": "execute_result"
    }
   ],
   "source": [
    "df['Municipality'].value_counts().to_frame()"
   ]
  },
  {
   "cell_type": "markdown",
   "metadata": {},
   "source": [
    "Too many different values for Municipality. May do some reduction later."
   ]
  },
  {
   "cell_type": "code",
   "execution_count": 19,
   "metadata": {},
   "outputs": [],
   "source": [
    "df.drop(['Municipality', 'Ward'], axis=1, inplace=True)"
   ]
  },
  {
   "cell_type": "code",
   "execution_count": 20,
   "metadata": {},
   "outputs": [
    {
     "data": {
      "text/html": [
       "<div>\n",
       "<style scoped>\n",
       "    .dataframe tbody tr th:only-of-type {\n",
       "        vertical-align: middle;\n",
       "    }\n",
       "\n",
       "    .dataframe tbody tr th {\n",
       "        vertical-align: top;\n",
       "    }\n",
       "\n",
       "    .dataframe thead th {\n",
       "        text-align: right;\n",
       "    }\n",
       "</style>\n",
       "<table border=\"1\" class=\"dataframe\">\n",
       "  <thead>\n",
       "    <tr style=\"text-align: right;\">\n",
       "      <th></th>\n",
       "      <th>District</th>\n",
       "      <th>Age</th>\n",
       "      <th>Gender</th>\n",
       "      <th>Caste</th>\n",
       "      <th>Occupation</th>\n",
       "      <th>Health Problem</th>\n",
       "      <th>Main Problems Met</th>\n",
       "      <th>Biggest Problem</th>\n",
       "      <th>Second Biggest Problem</th>\n",
       "      <th>Third Biggest Problem</th>\n",
       "      <th>...</th>\n",
       "      <th>Second Need Info</th>\n",
       "      <th>NGO Satisfaction</th>\n",
       "      <th>Top Need NGO</th>\n",
       "      <th>Second Need NGO</th>\n",
       "      <th>Support Fair</th>\n",
       "      <th>Top Reason Not Fair</th>\n",
       "      <th>Second Reason Not Fair</th>\n",
       "      <th>Heard</th>\n",
       "      <th>Relief Effort Progress</th>\n",
       "      <th>Main Women Problem</th>\n",
       "    </tr>\n",
       "  </thead>\n",
       "  <tbody>\n",
       "    <tr>\n",
       "      <th>0</th>\n",
       "      <td>Kathmandu</td>\n",
       "      <td>40_54</td>\n",
       "      <td>female</td>\n",
       "      <td>Newar</td>\n",
       "      <td>other</td>\n",
       "      <td>no_difficulty</td>\n",
       "      <td>1___not_at_all</td>\n",
       "      <td>long_term_shelter__housing</td>\n",
       "      <td>financial_support</td>\n",
       "      <td>livelihoods</td>\n",
       "      <td>...</td>\n",
       "      <td>NaN</td>\n",
       "      <td>4___mostly_yes</td>\n",
       "      <td>NaN</td>\n",
       "      <td>NaN</td>\n",
       "      <td>don_t_know</td>\n",
       "      <td>NaN</td>\n",
       "      <td>NaN</td>\n",
       "      <td>1___not_at_all</td>\n",
       "      <td>don_t_know</td>\n",
       "      <td>1___not_at_all</td>\n",
       "    </tr>\n",
       "    <tr>\n",
       "      <th>1</th>\n",
       "      <td>Kathmandu</td>\n",
       "      <td>55_greater</td>\n",
       "      <td>male</td>\n",
       "      <td>Newar</td>\n",
       "      <td>skilled_worker</td>\n",
       "      <td>no_difficulty</td>\n",
       "      <td>2___very_little</td>\n",
       "      <td>long_term_shelter__housing</td>\n",
       "      <td>financial_support</td>\n",
       "      <td>livelihoods</td>\n",
       "      <td>...</td>\n",
       "      <td>how_to_get_shelter_materials</td>\n",
       "      <td>2___very_little</td>\n",
       "      <td>building_mater</td>\n",
       "      <td>food_aid</td>\n",
       "      <td>2___very_little</td>\n",
       "      <td>based_on_caste</td>\n",
       "      <td>based_on_polit</td>\n",
       "      <td>2___not_very_m</td>\n",
       "      <td>2___very_little</td>\n",
       "      <td>NaN</td>\n",
       "    </tr>\n",
       "    <tr>\n",
       "      <th>2</th>\n",
       "      <td>Kathmandu</td>\n",
       "      <td>55_greater</td>\n",
       "      <td>male</td>\n",
       "      <td>Newar</td>\n",
       "      <td>skilled_worker</td>\n",
       "      <td>no_difficulty</td>\n",
       "      <td>2___very_little</td>\n",
       "      <td>long_term_shelter__housing</td>\n",
       "      <td>financial_support</td>\n",
       "      <td>livelihoods</td>\n",
       "      <td>...</td>\n",
       "      <td>how_to_get_shelter_materials</td>\n",
       "      <td>4___mostly_yes</td>\n",
       "      <td>NaN</td>\n",
       "      <td>NaN</td>\n",
       "      <td>2___very_little</td>\n",
       "      <td>based_on_caste</td>\n",
       "      <td>based_on_polit</td>\n",
       "      <td>1___not_at_all</td>\n",
       "      <td>1___not_at_all</td>\n",
       "      <td>NaN</td>\n",
       "    </tr>\n",
       "    <tr>\n",
       "      <th>3</th>\n",
       "      <td>Kathmandu</td>\n",
       "      <td>15_24</td>\n",
       "      <td>female</td>\n",
       "      <td>Tamang</td>\n",
       "      <td>other</td>\n",
       "      <td>yes__some_diff</td>\n",
       "      <td>3___neutral</td>\n",
       "      <td>long_term_shelter__housing</td>\n",
       "      <td>education</td>\n",
       "      <td>financial_support</td>\n",
       "      <td>...</td>\n",
       "      <td>NaN</td>\n",
       "      <td>3___neutral</td>\n",
       "      <td>building_mater</td>\n",
       "      <td>cash_for_work</td>\n",
       "      <td>3___neutral</td>\n",
       "      <td>based_on_dista</td>\n",
       "      <td>first_come__fi</td>\n",
       "      <td>3___neutral</td>\n",
       "      <td>3___neutral</td>\n",
       "      <td>4___mostly_yes</td>\n",
       "    </tr>\n",
       "    <tr>\n",
       "      <th>4</th>\n",
       "      <td>Kathmandu</td>\n",
       "      <td>25_39</td>\n",
       "      <td>female</td>\n",
       "      <td>Tamang</td>\n",
       "      <td>other</td>\n",
       "      <td>no_difficulty</td>\n",
       "      <td>3___neutral</td>\n",
       "      <td>short_term_she</td>\n",
       "      <td>long_term_shelter__housing</td>\n",
       "      <td>financial_support</td>\n",
       "      <td>...</td>\n",
       "      <td>how_to_get_shelter_materials</td>\n",
       "      <td>3___neutral</td>\n",
       "      <td>building_mater</td>\n",
       "      <td>cash_for_work</td>\n",
       "      <td>3___neutral</td>\n",
       "      <td>based_on_polit</td>\n",
       "      <td>first_come__fi</td>\n",
       "      <td>3___neutral</td>\n",
       "      <td>2___very_little</td>\n",
       "      <td>4___mostly_yes</td>\n",
       "    </tr>\n",
       "  </tbody>\n",
       "</table>\n",
       "<p>5 rows × 25 columns</p>\n",
       "</div>"
      ],
      "text/plain": [
       "    District         Age  Gender   Caste      Occupation  Health Problem  \\\n",
       "0  Kathmandu       40_54  female   Newar           other   no_difficulty   \n",
       "1  Kathmandu  55_greater    male   Newar  skilled_worker   no_difficulty   \n",
       "2  Kathmandu  55_greater    male   Newar  skilled_worker   no_difficulty   \n",
       "3  Kathmandu       15_24  female  Tamang           other  yes__some_diff   \n",
       "4  Kathmandu       25_39  female  Tamang           other   no_difficulty   \n",
       "\n",
       "  Main Problems Met             Biggest Problem      Second Biggest Problem  \\\n",
       "0    1___not_at_all  long_term_shelter__housing           financial_support   \n",
       "1   2___very_little  long_term_shelter__housing           financial_support   \n",
       "2   2___very_little  long_term_shelter__housing           financial_support   \n",
       "3       3___neutral  long_term_shelter__housing                   education   \n",
       "4       3___neutral              short_term_she  long_term_shelter__housing   \n",
       "\n",
       "  Third Biggest Problem  ...              Second Need Info NGO Satisfaction  \\\n",
       "0           livelihoods  ...                           NaN   4___mostly_yes   \n",
       "1           livelihoods  ...  how_to_get_shelter_materials  2___very_little   \n",
       "2           livelihoods  ...  how_to_get_shelter_materials   4___mostly_yes   \n",
       "3     financial_support  ...                           NaN      3___neutral   \n",
       "4     financial_support  ...  how_to_get_shelter_materials      3___neutral   \n",
       "\n",
       "     Top Need NGO Second Need NGO     Support Fair Top Reason Not Fair  \\\n",
       "0             NaN             NaN       don_t_know                 NaN   \n",
       "1  building_mater        food_aid  2___very_little      based_on_caste   \n",
       "2             NaN             NaN  2___very_little      based_on_caste   \n",
       "3  building_mater   cash_for_work      3___neutral      based_on_dista   \n",
       "4  building_mater   cash_for_work      3___neutral      based_on_polit   \n",
       "\n",
       "  Second Reason Not Fair           Heard Relief Effort Progress  \\\n",
       "0                    NaN  1___not_at_all             don_t_know   \n",
       "1         based_on_polit  2___not_very_m        2___very_little   \n",
       "2         based_on_polit  1___not_at_all         1___not_at_all   \n",
       "3         first_come__fi     3___neutral            3___neutral   \n",
       "4         first_come__fi     3___neutral        2___very_little   \n",
       "\n",
       "  Main Women Problem  \n",
       "0     1___not_at_all  \n",
       "1                NaN  \n",
       "2                NaN  \n",
       "3     4___mostly_yes  \n",
       "4     4___mostly_yes  \n",
       "\n",
       "[5 rows x 25 columns]"
      ]
     },
     "execution_count": 20,
     "metadata": {},
     "output_type": "execute_result"
    }
   ],
   "source": [
    "df.head()"
   ]
  },
  {
   "cell_type": "markdown",
   "metadata": {},
   "source": [
    "<h2> Data Visualization </h2>"
   ]
  },
  {
   "cell_type": "code",
   "execution_count": 21,
   "metadata": {},
   "outputs": [
    {
     "data": {
      "text/plain": [
       "<matplotlib.axes._subplots.AxesSubplot at 0x11e459e10>"
      ]
     },
     "execution_count": 21,
     "metadata": {},
     "output_type": "execute_result"
    },
    {
     "data": {
      "image/png": "[encoded data removed]",
      "text/plain": [
       "<Figure size 504x360 with 1 Axes>"
      ]
     },
     "metadata": {
      "needs_background": "light"
     },
     "output_type": "display_data"
    }
   ],
   "source": [
    "plt.figure(figsize=(7,5))\n",
    "sns.countplot(x='Gender', data=df)"
   ]
  },
  {
   "cell_type": "code",
   "execution_count": 22,
   "metadata": {},
   "outputs": [
    {
     "data": {
      "text/plain": [
       "<matplotlib.axes._subplots.AxesSubplot at 0x11e0b4410>"
      ]
     },
     "execution_count": 22,
     "metadata": {},
     "output_type": "execute_result"
    },
    {
     "data": {
      "image/png": "[encoded data removed]",
      "text/plain": [
       "<Figure size 504x360 with 1 Axes>"
      ]
     },
     "metadata": {
      "needs_background": "light"
     },
     "output_type": "display_data"
    }
   ],
   "source": [
    "plt.figure(figsize=(7,5))\n",
    "sns.countplot(x='Age', data=df)"
   ]
  },
  {
   "cell_type": "code",
   "execution_count": 23,
   "metadata": {},
   "outputs": [
    {
     "data": {
      "text/plain": [
       "<matplotlib.axes._subplots.AxesSubplot at 0x11decf210>"
      ]
     },
     "execution_count": 23,
     "metadata": {},
     "output_type": "execute_result"
    },
    {
     "data": {
      "image/png": "[encoded data removed]",
      "text/plain": [
       "<Figure size 504x360 with 1 Axes>"
      ]
     },
     "metadata": {
      "needs_background": "light"
     },
     "output_type": "display_data"
    }
   ],
   "source": [
    "plt.figure(figsize=(7,5))\n",
    "sns.countplot(x='Caste', data=df)"
   ]
  },
  {
   "cell_type": "code",
   "execution_count": 24,
   "metadata": {},
   "outputs": [
    {
     "data": {
      "text/plain": [
       "<matplotlib.axes._subplots.AxesSubplot at 0x11e48b690>"
      ]
     },
     "execution_count": 24,
     "metadata": {},
     "output_type": "execute_result"
    },
    {
     "data": {
      "image/png": "[encoded data removed]",
      "text/plain": [
       "<Figure size 576x360 with 1 Axes>"
      ]
     },
     "metadata": {
      "needs_background": "light"
     },
     "output_type": "display_data"
    }
   ],
   "source": [
    "plt.figure(figsize=(8,5))\n",
    "sns.countplot(x='Occupation', data=df)"
   ]
  },
  {
   "cell_type": "code",
   "execution_count": 54,
   "metadata": {},
   "outputs": [
    {
     "data": {
      "text/plain": [
       "<matplotlib.axes._subplots.AxesSubplot at 0x1223bf410>"
      ]
     },
     "execution_count": 54,
     "metadata": {},
     "output_type": "execute_result"
    },
    {
     "data": {
      "image/png": "[encoded data removed]",
      "text/plain": [
       "<Figure size 576x360 with 1 Axes>"
      ]
     },
     "metadata": {
      "needs_background": "light"
     },
     "output_type": "display_data"
    }
   ],
   "source": [
    "plt.figure(figsize=(8,5))\n",
    "sns.countplot(x='Health Problem', data=df, hue='Age')"
   ]
  },
  {
   "cell_type": "code",
   "execution_count": 26,
   "metadata": {},
   "outputs": [
    {
     "data": {
      "text/plain": [
       "<matplotlib.axes._subplots.AxesSubplot at 0x120dbc310>"
      ]
     },
     "execution_count": 26,
     "metadata": {},
     "output_type": "execute_result"
    },
    {
     "data": {
      "image/png": "[encoded data removed]",
      "text/plain": [
       "<Figure size 1800x720 with 1 Axes>"
      ]
     },
     "metadata": {
      "needs_background": "light"
     },
     "output_type": "display_data"
    }
   ],
   "source": [
    "plt.figure(figsize=(25,10))\n",
    "sns.countplot(x='Biggest Problem', data=df, hue='Age')"
   ]
  },
  {
   "cell_type": "code",
   "execution_count": 59,
   "metadata": {},
   "outputs": [
    {
     "data": {
      "text/plain": [
       "<matplotlib.axes._subplots.AxesSubplot at 0x123eb4a90>"
      ]
     },
     "execution_count": 59,
     "metadata": {},
     "output_type": "execute_result"
    },
    {
     "data": {
      "image/png": "[encoded data removed]",
      "text/plain": [
       "<Figure size 2520x720 with 1 Axes>"
      ]
     },
     "metadata": {
      "needs_background": "light"
     },
     "output_type": "display_data"
    }
   ],
   "source": [
    "plt.figure(figsize=(35,10))\n",
    "sns.countplot(x='Second Biggest Problem', data=df, hue='Age')"
   ]
  },
  {
   "cell_type": "code",
   "execution_count": 27,
   "metadata": {},
   "outputs": [
    {
     "data": {
      "text/plain": [
       "<matplotlib.axes._subplots.AxesSubplot at 0x120b67810>"
      ]
     },
     "execution_count": 27,
     "metadata": {},
     "output_type": "execute_result"
    },
    {
     "data": {
      "image/png": "[encoded data removed]",
      "text/plain": [
       "<Figure size 1800x720 with 1 Axes>"
      ]
     },
     "metadata": {
      "needs_background": "light"
     },
     "output_type": "display_data"
    }
   ],
   "source": [
    "plt.figure(figsize=(25,10))\n",
    "sns.countplot(x='Biggest Problem', data=df, hue='Gender')"
   ]
  },
  {
   "cell_type": "code",
   "execution_count": 28,
   "metadata": {},
   "outputs": [
    {
     "data": {
      "text/plain": [
       "<matplotlib.axes._subplots.AxesSubplot at 0x11e2a3090>"
      ]
     },
     "execution_count": 28,
     "metadata": {},
     "output_type": "execute_result"
    },
    {
     "data": {
      "image/png": "[encoded data removed]",
      "text/plain": [
       "<Figure size 1800x720 with 1 Axes>"
      ]
     },
     "metadata": {
      "needs_background": "light"
     },
     "output_type": "display_data"
    }
   ],
   "source": [
    "plt.figure(figsize=(25,10))\n",
    "sns.countplot(x='GOV Satisfaction', data=df, hue='Age')"
   ]
  },
  {
   "cell_type": "code",
   "execution_count": 29,
   "metadata": {},
   "outputs": [
    {
     "data": {
      "text/plain": [
       "<matplotlib.axes._subplots.AxesSubplot at 0x11e2a3310>"
      ]
     },
     "execution_count": 29,
     "metadata": {},
     "output_type": "execute_result"
    },
    {
     "data": {
      "image/png": "[encoded data removed]",
      "text/plain": [
       "<Figure size 1800x720 with 1 Axes>"
      ]
     },
     "metadata": {
      "needs_background": "light"
     },
     "output_type": "display_data"
    }
   ],
   "source": [
    "plt.figure(figsize=(25,10))\n",
    "sns.countplot(x='Top Thing Gov', data=df)"
   ]
  },
  {
   "cell_type": "code",
   "execution_count": 30,
   "metadata": {},
   "outputs": [
    {
     "data": {
      "text/plain": [
       "<matplotlib.axes._subplots.AxesSubplot at 0x121c12890>"
      ]
     },
     "execution_count": 30,
     "metadata": {},
     "output_type": "execute_result"
    },
    {
     "data": {
      "image/png": "[encoded data removed]",
      "text/plain": [
       "<Figure size 1800x720 with 1 Axes>"
      ]
     },
     "metadata": {
      "needs_background": "light"
     },
     "output_type": "display_data"
    }
   ],
   "source": [
    "plt.figure(figsize=(25,10))\n",
    "sns.countplot(x='Main Women Problem', data=df, hue='Gender')"
   ]
  },
  {
   "cell_type": "markdown",
   "metadata": {},
   "source": [
    "<h2> Null Values </h2>"
   ]
  },
  {
   "cell_type": "code",
   "execution_count": 31,
   "metadata": {},
   "outputs": [
    {
     "data": {
      "text/plain": [
       "male      1790\n",
       "female    1006\n",
       "other        2\n",
       "Name: Gender, dtype: int64"
      ]
     },
     "execution_count": 31,
     "metadata": {},
     "output_type": "execute_result"
    }
   ],
   "source": [
    "df['Gender'].value_counts()"
   ]
  },
  {
   "cell_type": "code",
   "execution_count": 32,
   "metadata": {},
   "outputs": [
    {
     "data": {
      "text/plain": [
       "1134"
      ]
     },
     "execution_count": 32,
     "metadata": {},
     "output_type": "execute_result"
    }
   ],
   "source": [
    "df['Main Women Problem'].count()"
   ]
  },
  {
   "cell_type": "code",
   "execution_count": 33,
   "metadata": {},
   "outputs": [
    {
     "data": {
      "text/plain": [
       "971"
      ]
     },
     "execution_count": 33,
     "metadata": {},
     "output_type": "execute_result"
    }
   ],
   "source": [
    "len(df[(df['Main Women Problem'].notnull()) & (df['Gender']=='female')])"
   ]
  },
  {
   "cell_type": "code",
   "execution_count": 34,
   "metadata": {},
   "outputs": [
    {
     "data": {
      "text/plain": [
       "0.8562610229276896"
      ]
     },
     "execution_count": 34,
     "metadata": {},
     "output_type": "execute_result"
    }
   ],
   "source": [
    "len(df[(df['Main Women Problem'].notnull()) & (df['Gender']=='female')])/df['Main Women Problem'].count()"
   ]
  },
  {
   "cell_type": "markdown",
   "metadata": {},
   "source": [
    "More than 85% of the non-null responses of Main Women Problem are answered by Females. "
   ]
  },
  {
   "cell_type": "code",
   "execution_count": 35,
   "metadata": {},
   "outputs": [],
   "source": [
    "df.drop(['Main Women Problem'], axis=1, inplace=True)"
   ]
  },
  {
   "cell_type": "code",
   "execution_count": 36,
   "metadata": {},
   "outputs": [
    {
     "data": {
      "text/plain": [
       "District                     0\n",
       "Age                          0\n",
       "Gender                       0\n",
       "Caste                        0\n",
       "Occupation                   0\n",
       "Health Problem               0\n",
       "Main Problems Met            0\n",
       "Biggest Problem            503\n",
       "Second Biggest Problem     503\n",
       "Third Biggest Problem      503\n",
       "GOV Satisfaction             0\n",
       "Top Thing Gov              813\n",
       "Second Thing Gov           813\n",
       "Have Information             0\n",
       "Top Need Info             1050\n",
       "Second Need Info          1050\n",
       "NGO Satisfaction             0\n",
       "Top Need NGO              1189\n",
       "Second Need NGO           1189\n",
       "Support Fair                 0\n",
       "Top Reason Not Fair       1321\n",
       "Second Reason Not Fair    1321\n",
       "Heard                        0\n",
       "Relief Effort Progress       0\n",
       "dtype: int64"
      ]
     },
     "execution_count": 36,
     "metadata": {},
     "output_type": "execute_result"
    }
   ],
   "source": [
    "df.isna().sum()"
   ]
  },
  {
   "cell_type": "markdown",
   "metadata": {},
   "source": [
    "Fill in null values with the most common value in the respective columns"
   ]
  },
  {
   "cell_type": "code",
   "execution_count": 37,
   "metadata": {},
   "outputs": [],
   "source": [
    "columns_with_null = [col for col in df.columns if df[col].isnull().any()]\n",
    "\n",
    "for col in columns_with_null:\n",
    "    df[col].fillna(df[col].value_counts().index[0], inplace=True)"
   ]
  },
  {
   "cell_type": "code",
   "execution_count": 38,
   "metadata": {},
   "outputs": [
    {
     "name": "stdout",
     "output_type": "stream",
     "text": [
      "<class 'pandas.core.frame.DataFrame'>\n",
      "RangeIndex: 2798 entries, 0 to 2797\n",
      "Data columns (total 24 columns):\n",
      "District                  2798 non-null object\n",
      "Age                       2798 non-null object\n",
      "Gender                    2798 non-null object\n",
      "Caste                     2798 non-null object\n",
      "Occupation                2798 non-null object\n",
      "Health Problem            2798 non-null object\n",
      "Main Problems Met         2798 non-null object\n",
      "Biggest Problem           2798 non-null object\n",
      "Second Biggest Problem    2798 non-null object\n",
      "Third Biggest Problem     2798 non-null object\n",
      "GOV Satisfaction          2798 non-null object\n",
      "Top Thing Gov             2798 non-null object\n",
      "Second Thing Gov          2798 non-null object\n",
      "Have Information          2798 non-null object\n",
      "Top Need Info             2798 non-null object\n",
      "Second Need Info          2798 non-null object\n",
      "NGO Satisfaction          2798 non-null object\n",
      "Top Need NGO              2798 non-null object\n",
      "Second Need NGO           2798 non-null object\n",
      "Support Fair              2798 non-null object\n",
      "Top Reason Not Fair       2798 non-null object\n",
      "Second Reason Not Fair    2798 non-null object\n",
      "Heard                     2798 non-null object\n",
      "Relief Effort Progress    2798 non-null object\n",
      "dtypes: object(24)\n",
      "memory usage: 524.8+ KB\n"
     ]
    }
   ],
   "source": [
    "df.info()"
   ]
  },
  {
   "cell_type": "markdown",
   "metadata": {},
   "source": [
    "<h2> Cluster Analysis </h2>"
   ]
  },
  {
   "cell_type": "markdown",
   "metadata": {},
   "source": [
    "<h3> One Hot Encoding </h3>"
   ]
  },
  {
   "cell_type": "code",
   "execution_count": 39,
   "metadata": {},
   "outputs": [],
   "source": [
    "one_hot_encoded_df = pd.DataFrame()\n",
    "\n",
    "for col in df.columns:\n",
    "    one_hot_encoded_df = pd.concat([one_hot_encoded_df, pd.get_dummies(df[col])], axis=1)"
   ]
  },
  {
   "cell_type": "code",
   "execution_count": 40,
   "metadata": {},
   "outputs": [
    {
     "data": {
      "text/html": [
       "<div>\n",
       "<style scoped>\n",
       "    .dataframe tbody tr th:only-of-type {\n",
       "        vertical-align: middle;\n",
       "    }\n",
       "\n",
       "    .dataframe tbody tr th {\n",
       "        vertical-align: top;\n",
       "    }\n",
       "\n",
       "    .dataframe thead th {\n",
       "        text-align: right;\n",
       "    }\n",
       "</style>\n",
       "<table border=\"1\" class=\"dataframe\">\n",
       "  <thead>\n",
       "    <tr style=\"text-align: right;\">\n",
       "      <th></th>\n",
       "      <th>Bhaktapur</th>\n",
       "      <th>Dhading</th>\n",
       "      <th>Dolakha</th>\n",
       "      <th>Gorkha</th>\n",
       "      <th>Kathmandu</th>\n",
       "      <th>Kavrepalanchok</th>\n",
       "      <th>Lalitpur</th>\n",
       "      <th>Makwanpur</th>\n",
       "      <th>Nuwakot</th>\n",
       "      <th>Okhaldhunga</th>\n",
       "      <th>...</th>\n",
       "      <th>5___completely</th>\n",
       "      <th>don_t_know</th>\n",
       "      <th>refused</th>\n",
       "      <th>1___not_at_all</th>\n",
       "      <th>2___very_little</th>\n",
       "      <th>3___neutral</th>\n",
       "      <th>4___mostly_yes</th>\n",
       "      <th>5___completely_yes</th>\n",
       "      <th>don_t_know</th>\n",
       "      <th>refused</th>\n",
       "    </tr>\n",
       "  </thead>\n",
       "  <tbody>\n",
       "    <tr>\n",
       "      <th>0</th>\n",
       "      <td>0</td>\n",
       "      <td>0</td>\n",
       "      <td>0</td>\n",
       "      <td>0</td>\n",
       "      <td>1</td>\n",
       "      <td>0</td>\n",
       "      <td>0</td>\n",
       "      <td>0</td>\n",
       "      <td>0</td>\n",
       "      <td>0</td>\n",
       "      <td>...</td>\n",
       "      <td>0</td>\n",
       "      <td>0</td>\n",
       "      <td>0</td>\n",
       "      <td>0</td>\n",
       "      <td>0</td>\n",
       "      <td>0</td>\n",
       "      <td>0</td>\n",
       "      <td>0</td>\n",
       "      <td>1</td>\n",
       "      <td>0</td>\n",
       "    </tr>\n",
       "    <tr>\n",
       "      <th>1</th>\n",
       "      <td>0</td>\n",
       "      <td>0</td>\n",
       "      <td>0</td>\n",
       "      <td>0</td>\n",
       "      <td>1</td>\n",
       "      <td>0</td>\n",
       "      <td>0</td>\n",
       "      <td>0</td>\n",
       "      <td>0</td>\n",
       "      <td>0</td>\n",
       "      <td>...</td>\n",
       "      <td>0</td>\n",
       "      <td>0</td>\n",
       "      <td>0</td>\n",
       "      <td>0</td>\n",
       "      <td>1</td>\n",
       "      <td>0</td>\n",
       "      <td>0</td>\n",
       "      <td>0</td>\n",
       "      <td>0</td>\n",
       "      <td>0</td>\n",
       "    </tr>\n",
       "    <tr>\n",
       "      <th>2</th>\n",
       "      <td>0</td>\n",
       "      <td>0</td>\n",
       "      <td>0</td>\n",
       "      <td>0</td>\n",
       "      <td>1</td>\n",
       "      <td>0</td>\n",
       "      <td>0</td>\n",
       "      <td>0</td>\n",
       "      <td>0</td>\n",
       "      <td>0</td>\n",
       "      <td>...</td>\n",
       "      <td>0</td>\n",
       "      <td>0</td>\n",
       "      <td>0</td>\n",
       "      <td>1</td>\n",
       "      <td>0</td>\n",
       "      <td>0</td>\n",
       "      <td>0</td>\n",
       "      <td>0</td>\n",
       "      <td>0</td>\n",
       "      <td>0</td>\n",
       "    </tr>\n",
       "    <tr>\n",
       "      <th>3</th>\n",
       "      <td>0</td>\n",
       "      <td>0</td>\n",
       "      <td>0</td>\n",
       "      <td>0</td>\n",
       "      <td>1</td>\n",
       "      <td>0</td>\n",
       "      <td>0</td>\n",
       "      <td>0</td>\n",
       "      <td>0</td>\n",
       "      <td>0</td>\n",
       "      <td>...</td>\n",
       "      <td>0</td>\n",
       "      <td>0</td>\n",
       "      <td>0</td>\n",
       "      <td>0</td>\n",
       "      <td>0</td>\n",
       "      <td>1</td>\n",
       "      <td>0</td>\n",
       "      <td>0</td>\n",
       "      <td>0</td>\n",
       "      <td>0</td>\n",
       "    </tr>\n",
       "    <tr>\n",
       "      <th>4</th>\n",
       "      <td>0</td>\n",
       "      <td>0</td>\n",
       "      <td>0</td>\n",
       "      <td>0</td>\n",
       "      <td>1</td>\n",
       "      <td>0</td>\n",
       "      <td>0</td>\n",
       "      <td>0</td>\n",
       "      <td>0</td>\n",
       "      <td>0</td>\n",
       "      <td>...</td>\n",
       "      <td>0</td>\n",
       "      <td>0</td>\n",
       "      <td>0</td>\n",
       "      <td>0</td>\n",
       "      <td>1</td>\n",
       "      <td>0</td>\n",
       "      <td>0</td>\n",
       "      <td>0</td>\n",
       "      <td>0</td>\n",
       "      <td>0</td>\n",
       "    </tr>\n",
       "  </tbody>\n",
       "</table>\n",
       "<p>5 rows × 183 columns</p>\n",
       "</div>"
      ],
      "text/plain": [
       "   Bhaktapur  Dhading  Dolakha  Gorkha  Kathmandu  Kavrepalanchok  Lalitpur  \\\n",
       "0          0        0        0       0          1               0         0   \n",
       "1          0        0        0       0          1               0         0   \n",
       "2          0        0        0       0          1               0         0   \n",
       "3          0        0        0       0          1               0         0   \n",
       "4          0        0        0       0          1               0         0   \n",
       "\n",
       "   Makwanpur  Nuwakot  Okhaldhunga  ...  5___completely  don_t_know  refused  \\\n",
       "0          0        0            0  ...               0           0        0   \n",
       "1          0        0            0  ...               0           0        0   \n",
       "2          0        0            0  ...               0           0        0   \n",
       "3          0        0            0  ...               0           0        0   \n",
       "4          0        0            0  ...               0           0        0   \n",
       "\n",
       "   1___not_at_all  2___very_little  3___neutral  4___mostly_yes  \\\n",
       "0               0                0            0               0   \n",
       "1               0                1            0               0   \n",
       "2               1                0            0               0   \n",
       "3               0                0            1               0   \n",
       "4               0                1            0               0   \n",
       "\n",
       "   5___completely_yes  don_t_know  refused  \n",
       "0                   0           1        0  \n",
       "1                   0           0        0  \n",
       "2                   0           0        0  \n",
       "3                   0           0        0  \n",
       "4                   0           0        0  \n",
       "\n",
       "[5 rows x 183 columns]"
      ]
     },
     "execution_count": 40,
     "metadata": {},
     "output_type": "execute_result"
    }
   ],
   "source": [
    "one_hot_encoded_df.head()"
   ]
  },
  {
   "cell_type": "code",
   "execution_count": 41,
   "metadata": {},
   "outputs": [],
   "source": [
    "from sklearn.cluster import KMeans"
   ]
  },
  {
   "cell_type": "markdown",
   "metadata": {},
   "source": [
    "<h3> Elbow Method </h3>"
   ]
  },
  {
   "cell_type": "code",
   "execution_count": 42,
   "metadata": {},
   "outputs": [
    {
     "data": {
      "image/png": "[encoded data removed]",
      "text/plain": [
       "<Figure size 720x360 with 1 Axes>"
      ]
     },
     "metadata": {
      "needs_background": "light"
     },
     "output_type": "display_data"
    }
   ],
   "source": [
    "Error =[]\n",
    "for i in range(1, 10):\n",
    "    kmeans = KMeans(n_clusters = i).fit(one_hot_encoded_df)\n",
    "    kmeans.fit(one_hot_encoded_df)\n",
    "    Error.append(kmeans.inertia_)\n",
    "plt.figure(figsize=(10,5))\n",
    "plt.plot(range(1, 10), Error)\n",
    "plt.title('Elbow method')\n",
    "plt.xlabel('No of clusters')\n",
    "plt.ylabel('Error')\n",
    "plt.show()"
   ]
  },
  {
   "cell_type": "markdown",
   "metadata": {},
   "source": [
    "https://heartbeat.fritz.ai/k-means-clustering-using-sklearn-and-python-4a054d67b187"
   ]
  },
  {
   "cell_type": "markdown",
   "metadata": {},
   "source": [
    "No clear elbow like shaped formed, therefore try another method."
   ]
  },
  {
   "cell_type": "markdown",
   "metadata": {},
   "source": [
    "<h3> Silhouette Method </h3>"
   ]
  },
  {
   "cell_type": "code",
   "execution_count": 43,
   "metadata": {},
   "outputs": [
    {
     "name": "stdout",
     "output_type": "stream",
     "text": [
      "For 2 clusters, the average silhouette score is 0.049115293225770094\n",
      "For 3 clusters, the average silhouette score is 0.04078997435666134\n",
      "For 4 clusters, the average silhouette score is 0.03970184872789039\n",
      "For 5 clusters, the average silhouette score is 0.03324661207304878\n",
      "For 6 clusters, the average silhouette score is 0.033038696763392196\n",
      "For 7 clusters, the average silhouette score is 0.029386706609769588\n",
      "For 8 clusters, the average silhouette score is 0.03481579418567962\n",
      "For 9 clusters, the average silhouette score is 0.024885188659276965\n",
      "For 10 clusters, the average silhouette score is 0.023838498613048074\n"
     ]
    }
   ],
   "source": [
    "from sklearn.metrics import silhouette_score\n",
    "\n",
    "sil = []\n",
    "kmax = 10\n",
    "\n",
    "# dissimilarity would not be defined for a single cluster, thus, minimum number of clusters should be 2\n",
    "for k in range(2, kmax+1):\n",
    "    kmeans = KMeans(n_clusters = k).fit(one_hot_encoded_df)\n",
    "    labels = kmeans.labels_\n",
    "    silhouette_avg = silhouette_score(one_hot_encoded_df, labels, metric = 'euclidean')\n",
    "    print(\"For {} clusters, the average silhouette score is {}\".format(k, silhouette_avg))\n",
    "    sil.append(silhouette_avg)"
   ]
  },
  {
   "cell_type": "markdown",
   "metadata": {},
   "source": [
    "Two clusters has the highest silhouette score, therefore use two as n_clusters"
   ]
  },
  {
   "cell_type": "code",
   "execution_count": 44,
   "metadata": {},
   "outputs": [],
   "source": [
    "kmeans = KMeans(n_clusters=2)"
   ]
  },
  {
   "cell_type": "code",
   "execution_count": 45,
   "metadata": {},
   "outputs": [
    {
     "data": {
      "text/plain": [
       "KMeans(algorithm='auto', copy_x=True, init='k-means++', max_iter=300,\n",
       "       n_clusters=2, n_init=10, n_jobs=None, precompute_distances='auto',\n",
       "       random_state=None, tol=0.0001, verbose=0)"
      ]
     },
     "execution_count": 45,
     "metadata": {},
     "output_type": "execute_result"
    }
   ],
   "source": [
    "kmeans.fit(one_hot_encoded_df)"
   ]
  },
  {
   "cell_type": "code",
   "execution_count": 46,
   "metadata": {},
   "outputs": [
    {
     "data": {
      "text/plain": [
       "array([1, 0, 1, ..., 0, 0, 0], dtype=int32)"
      ]
     },
     "execution_count": 46,
     "metadata": {},
     "output_type": "execute_result"
    }
   ],
   "source": [
    "kmeans.labels_"
   ]
  },
  {
   "cell_type": "code",
   "execution_count": 47,
   "metadata": {},
   "outputs": [
    {
     "data": {
      "text/plain": [
       "array([1, 0, 1, ..., 0, 0, 0], dtype=int32)"
      ]
     },
     "execution_count": 47,
     "metadata": {},
     "output_type": "execute_result"
    }
   ],
   "source": [
    "y_kmeans = kmeans.predict(one_hot_encoded_df)\n",
    "y_kmeans"
   ]
  },
  {
   "cell_type": "code",
   "execution_count": 48,
   "metadata": {},
   "outputs": [],
   "source": [
    "one_hot_encoded_df['Cluster'] = y_kmeans\n",
    "df['Cluster'] = y_kmeans"
   ]
  },
  {
   "cell_type": "code",
   "execution_count": 49,
   "metadata": {},
   "outputs": [
    {
     "data": {
      "text/html": [
       "<div>\n",
       "<style scoped>\n",
       "    .dataframe tbody tr th:only-of-type {\n",
       "        vertical-align: middle;\n",
       "    }\n",
       "\n",
       "    .dataframe tbody tr th {\n",
       "        vertical-align: top;\n",
       "    }\n",
       "\n",
       "    .dataframe thead th {\n",
       "        text-align: right;\n",
       "    }\n",
       "</style>\n",
       "<table border=\"1\" class=\"dataframe\">\n",
       "  <thead>\n",
       "    <tr style=\"text-align: right;\">\n",
       "      <th></th>\n",
       "      <th>District</th>\n",
       "      <th>Age</th>\n",
       "      <th>Gender</th>\n",
       "      <th>Caste</th>\n",
       "      <th>Occupation</th>\n",
       "      <th>Health Problem</th>\n",
       "      <th>Main Problems Met</th>\n",
       "      <th>Biggest Problem</th>\n",
       "      <th>Second Biggest Problem</th>\n",
       "      <th>Third Biggest Problem</th>\n",
       "      <th>...</th>\n",
       "      <th>Second Need Info</th>\n",
       "      <th>NGO Satisfaction</th>\n",
       "      <th>Top Need NGO</th>\n",
       "      <th>Second Need NGO</th>\n",
       "      <th>Support Fair</th>\n",
       "      <th>Top Reason Not Fair</th>\n",
       "      <th>Second Reason Not Fair</th>\n",
       "      <th>Heard</th>\n",
       "      <th>Relief Effort Progress</th>\n",
       "      <th>Cluster</th>\n",
       "    </tr>\n",
       "  </thead>\n",
       "  <tbody>\n",
       "    <tr>\n",
       "      <th>0</th>\n",
       "      <td>Kathmandu</td>\n",
       "      <td>40_54</td>\n",
       "      <td>female</td>\n",
       "      <td>Newar</td>\n",
       "      <td>other</td>\n",
       "      <td>no_difficulty</td>\n",
       "      <td>1___not_at_all</td>\n",
       "      <td>long_term_shelter__housing</td>\n",
       "      <td>financial_support</td>\n",
       "      <td>livelihoods</td>\n",
       "      <td>...</td>\n",
       "      <td>how_to_get_shelter_materials</td>\n",
       "      <td>4___mostly_yes</td>\n",
       "      <td>building_mater</td>\n",
       "      <td>cash_for_work</td>\n",
       "      <td>don_t_know</td>\n",
       "      <td>based_on_polit</td>\n",
       "      <td>based_on_polit</td>\n",
       "      <td>1___not_at_all</td>\n",
       "      <td>don_t_know</td>\n",
       "      <td>1</td>\n",
       "    </tr>\n",
       "    <tr>\n",
       "      <th>1</th>\n",
       "      <td>Kathmandu</td>\n",
       "      <td>55_greater</td>\n",
       "      <td>male</td>\n",
       "      <td>Newar</td>\n",
       "      <td>skilled_worker</td>\n",
       "      <td>no_difficulty</td>\n",
       "      <td>2___very_little</td>\n",
       "      <td>long_term_shelter__housing</td>\n",
       "      <td>financial_support</td>\n",
       "      <td>livelihoods</td>\n",
       "      <td>...</td>\n",
       "      <td>how_to_get_shelter_materials</td>\n",
       "      <td>2___very_little</td>\n",
       "      <td>building_mater</td>\n",
       "      <td>food_aid</td>\n",
       "      <td>2___very_little</td>\n",
       "      <td>based_on_caste</td>\n",
       "      <td>based_on_polit</td>\n",
       "      <td>2___not_very_m</td>\n",
       "      <td>2___very_little</td>\n",
       "      <td>0</td>\n",
       "    </tr>\n",
       "    <tr>\n",
       "      <th>2</th>\n",
       "      <td>Kathmandu</td>\n",
       "      <td>55_greater</td>\n",
       "      <td>male</td>\n",
       "      <td>Newar</td>\n",
       "      <td>skilled_worker</td>\n",
       "      <td>no_difficulty</td>\n",
       "      <td>2___very_little</td>\n",
       "      <td>long_term_shelter__housing</td>\n",
       "      <td>financial_support</td>\n",
       "      <td>livelihoods</td>\n",
       "      <td>...</td>\n",
       "      <td>how_to_get_shelter_materials</td>\n",
       "      <td>4___mostly_yes</td>\n",
       "      <td>building_mater</td>\n",
       "      <td>cash_for_work</td>\n",
       "      <td>2___very_little</td>\n",
       "      <td>based_on_caste</td>\n",
       "      <td>based_on_polit</td>\n",
       "      <td>1___not_at_all</td>\n",
       "      <td>1___not_at_all</td>\n",
       "      <td>1</td>\n",
       "    </tr>\n",
       "    <tr>\n",
       "      <th>3</th>\n",
       "      <td>Kathmandu</td>\n",
       "      <td>15_24</td>\n",
       "      <td>female</td>\n",
       "      <td>Tamang</td>\n",
       "      <td>other</td>\n",
       "      <td>yes__some_diff</td>\n",
       "      <td>3___neutral</td>\n",
       "      <td>long_term_shelter__housing</td>\n",
       "      <td>education</td>\n",
       "      <td>financial_support</td>\n",
       "      <td>...</td>\n",
       "      <td>how_to_get_shelter_materials</td>\n",
       "      <td>3___neutral</td>\n",
       "      <td>building_mater</td>\n",
       "      <td>cash_for_work</td>\n",
       "      <td>3___neutral</td>\n",
       "      <td>based_on_dista</td>\n",
       "      <td>first_come__fi</td>\n",
       "      <td>3___neutral</td>\n",
       "      <td>3___neutral</td>\n",
       "      <td>1</td>\n",
       "    </tr>\n",
       "    <tr>\n",
       "      <th>4</th>\n",
       "      <td>Kathmandu</td>\n",
       "      <td>25_39</td>\n",
       "      <td>female</td>\n",
       "      <td>Tamang</td>\n",
       "      <td>other</td>\n",
       "      <td>no_difficulty</td>\n",
       "      <td>3___neutral</td>\n",
       "      <td>short_term_she</td>\n",
       "      <td>long_term_shelter__housing</td>\n",
       "      <td>financial_support</td>\n",
       "      <td>...</td>\n",
       "      <td>how_to_get_shelter_materials</td>\n",
       "      <td>3___neutral</td>\n",
       "      <td>building_mater</td>\n",
       "      <td>cash_for_work</td>\n",
       "      <td>3___neutral</td>\n",
       "      <td>based_on_polit</td>\n",
       "      <td>first_come__fi</td>\n",
       "      <td>3___neutral</td>\n",
       "      <td>2___very_little</td>\n",
       "      <td>1</td>\n",
       "    </tr>\n",
       "  </tbody>\n",
       "</table>\n",
       "<p>5 rows × 25 columns</p>\n",
       "</div>"
      ],
      "text/plain": [
       "    District         Age  Gender   Caste      Occupation  Health Problem  \\\n",
       "0  Kathmandu       40_54  female   Newar           other   no_difficulty   \n",
       "1  Kathmandu  55_greater    male   Newar  skilled_worker   no_difficulty   \n",
       "2  Kathmandu  55_greater    male   Newar  skilled_worker   no_difficulty   \n",
       "3  Kathmandu       15_24  female  Tamang           other  yes__some_diff   \n",
       "4  Kathmandu       25_39  female  Tamang           other   no_difficulty   \n",
       "\n",
       "  Main Problems Met             Biggest Problem      Second Biggest Problem  \\\n",
       "0    1___not_at_all  long_term_shelter__housing           financial_support   \n",
       "1   2___very_little  long_term_shelter__housing           financial_support   \n",
       "2   2___very_little  long_term_shelter__housing           financial_support   \n",
       "3       3___neutral  long_term_shelter__housing                   education   \n",
       "4       3___neutral              short_term_she  long_term_shelter__housing   \n",
       "\n",
       "  Third Biggest Problem  ...              Second Need Info NGO Satisfaction  \\\n",
       "0           livelihoods  ...  how_to_get_shelter_materials   4___mostly_yes   \n",
       "1           livelihoods  ...  how_to_get_shelter_materials  2___very_little   \n",
       "2           livelihoods  ...  how_to_get_shelter_materials   4___mostly_yes   \n",
       "3     financial_support  ...  how_to_get_shelter_materials      3___neutral   \n",
       "4     financial_support  ...  how_to_get_shelter_materials      3___neutral   \n",
       "\n",
       "     Top Need NGO Second Need NGO     Support Fair Top Reason Not Fair  \\\n",
       "0  building_mater   cash_for_work       don_t_know      based_on_polit   \n",
       "1  building_mater        food_aid  2___very_little      based_on_caste   \n",
       "2  building_mater   cash_for_work  2___very_little      based_on_caste   \n",
       "3  building_mater   cash_for_work      3___neutral      based_on_dista   \n",
       "4  building_mater   cash_for_work      3___neutral      based_on_polit   \n",
       "\n",
       "  Second Reason Not Fair           Heard Relief Effort Progress Cluster  \n",
       "0         based_on_polit  1___not_at_all             don_t_know       1  \n",
       "1         based_on_polit  2___not_very_m        2___very_little       0  \n",
       "2         based_on_polit  1___not_at_all         1___not_at_all       1  \n",
       "3         first_come__fi     3___neutral            3___neutral       1  \n",
       "4         first_come__fi     3___neutral        2___very_little       1  \n",
       "\n",
       "[5 rows x 25 columns]"
      ]
     },
     "execution_count": 49,
     "metadata": {},
     "output_type": "execute_result"
    }
   ],
   "source": [
    "df.head()"
   ]
  },
  {
   "cell_type": "code",
   "execution_count": 50,
   "metadata": {},
   "outputs": [
    {
     "data": {
      "text/html": [
       "<div>\n",
       "<style scoped>\n",
       "    .dataframe tbody tr th:only-of-type {\n",
       "        vertical-align: middle;\n",
       "    }\n",
       "\n",
       "    .dataframe tbody tr th {\n",
       "        vertical-align: top;\n",
       "    }\n",
       "\n",
       "    .dataframe thead th {\n",
       "        text-align: right;\n",
       "    }\n",
       "</style>\n",
       "<table border=\"1\" class=\"dataframe\">\n",
       "  <thead>\n",
       "    <tr style=\"text-align: right;\">\n",
       "      <th></th>\n",
       "      <th>Bhaktapur</th>\n",
       "      <th>Dhading</th>\n",
       "      <th>Dolakha</th>\n",
       "      <th>Gorkha</th>\n",
       "      <th>Kathmandu</th>\n",
       "      <th>Kavrepalanchok</th>\n",
       "      <th>Lalitpur</th>\n",
       "      <th>Makwanpur</th>\n",
       "      <th>Nuwakot</th>\n",
       "      <th>Okhaldhunga</th>\n",
       "      <th>...</th>\n",
       "      <th>don_t_know</th>\n",
       "      <th>refused</th>\n",
       "      <th>1___not_at_all</th>\n",
       "      <th>2___very_little</th>\n",
       "      <th>3___neutral</th>\n",
       "      <th>4___mostly_yes</th>\n",
       "      <th>5___completely_yes</th>\n",
       "      <th>don_t_know</th>\n",
       "      <th>refused</th>\n",
       "      <th>Cluster</th>\n",
       "    </tr>\n",
       "  </thead>\n",
       "  <tbody>\n",
       "    <tr>\n",
       "      <th>0</th>\n",
       "      <td>0</td>\n",
       "      <td>0</td>\n",
       "      <td>0</td>\n",
       "      <td>0</td>\n",
       "      <td>1</td>\n",
       "      <td>0</td>\n",
       "      <td>0</td>\n",
       "      <td>0</td>\n",
       "      <td>0</td>\n",
       "      <td>0</td>\n",
       "      <td>...</td>\n",
       "      <td>0</td>\n",
       "      <td>0</td>\n",
       "      <td>0</td>\n",
       "      <td>0</td>\n",
       "      <td>0</td>\n",
       "      <td>0</td>\n",
       "      <td>0</td>\n",
       "      <td>1</td>\n",
       "      <td>0</td>\n",
       "      <td>1</td>\n",
       "    </tr>\n",
       "    <tr>\n",
       "      <th>1</th>\n",
       "      <td>0</td>\n",
       "      <td>0</td>\n",
       "      <td>0</td>\n",
       "      <td>0</td>\n",
       "      <td>1</td>\n",
       "      <td>0</td>\n",
       "      <td>0</td>\n",
       "      <td>0</td>\n",
       "      <td>0</td>\n",
       "      <td>0</td>\n",
       "      <td>...</td>\n",
       "      <td>0</td>\n",
       "      <td>0</td>\n",
       "      <td>0</td>\n",
       "      <td>1</td>\n",
       "      <td>0</td>\n",
       "      <td>0</td>\n",
       "      <td>0</td>\n",
       "      <td>0</td>\n",
       "      <td>0</td>\n",
       "      <td>0</td>\n",
       "    </tr>\n",
       "    <tr>\n",
       "      <th>2</th>\n",
       "      <td>0</td>\n",
       "      <td>0</td>\n",
       "      <td>0</td>\n",
       "      <td>0</td>\n",
       "      <td>1</td>\n",
       "      <td>0</td>\n",
       "      <td>0</td>\n",
       "      <td>0</td>\n",
       "      <td>0</td>\n",
       "      <td>0</td>\n",
       "      <td>...</td>\n",
       "      <td>0</td>\n",
       "      <td>0</td>\n",
       "      <td>1</td>\n",
       "      <td>0</td>\n",
       "      <td>0</td>\n",
       "      <td>0</td>\n",
       "      <td>0</td>\n",
       "      <td>0</td>\n",
       "      <td>0</td>\n",
       "      <td>1</td>\n",
       "    </tr>\n",
       "    <tr>\n",
       "      <th>3</th>\n",
       "      <td>0</td>\n",
       "      <td>0</td>\n",
       "      <td>0</td>\n",
       "      <td>0</td>\n",
       "      <td>1</td>\n",
       "      <td>0</td>\n",
       "      <td>0</td>\n",
       "      <td>0</td>\n",
       "      <td>0</td>\n",
       "      <td>0</td>\n",
       "      <td>...</td>\n",
       "      <td>0</td>\n",
       "      <td>0</td>\n",
       "      <td>0</td>\n",
       "      <td>0</td>\n",
       "      <td>1</td>\n",
       "      <td>0</td>\n",
       "      <td>0</td>\n",
       "      <td>0</td>\n",
       "      <td>0</td>\n",
       "      <td>1</td>\n",
       "    </tr>\n",
       "    <tr>\n",
       "      <th>4</th>\n",
       "      <td>0</td>\n",
       "      <td>0</td>\n",
       "      <td>0</td>\n",
       "      <td>0</td>\n",
       "      <td>1</td>\n",
       "      <td>0</td>\n",
       "      <td>0</td>\n",
       "      <td>0</td>\n",
       "      <td>0</td>\n",
       "      <td>0</td>\n",
       "      <td>...</td>\n",
       "      <td>0</td>\n",
       "      <td>0</td>\n",
       "      <td>0</td>\n",
       "      <td>1</td>\n",
       "      <td>0</td>\n",
       "      <td>0</td>\n",
       "      <td>0</td>\n",
       "      <td>0</td>\n",
       "      <td>0</td>\n",
       "      <td>1</td>\n",
       "    </tr>\n",
       "  </tbody>\n",
       "</table>\n",
       "<p>5 rows × 184 columns</p>\n",
       "</div>"
      ],
      "text/plain": [
       "   Bhaktapur  Dhading  Dolakha  Gorkha  Kathmandu  Kavrepalanchok  Lalitpur  \\\n",
       "0          0        0        0       0          1               0         0   \n",
       "1          0        0        0       0          1               0         0   \n",
       "2          0        0        0       0          1               0         0   \n",
       "3          0        0        0       0          1               0         0   \n",
       "4          0        0        0       0          1               0         0   \n",
       "\n",
       "   Makwanpur  Nuwakot  Okhaldhunga  ...  don_t_know  refused  1___not_at_all  \\\n",
       "0          0        0            0  ...           0        0               0   \n",
       "1          0        0            0  ...           0        0               0   \n",
       "2          0        0            0  ...           0        0               1   \n",
       "3          0        0            0  ...           0        0               0   \n",
       "4          0        0            0  ...           0        0               0   \n",
       "\n",
       "   2___very_little  3___neutral  4___mostly_yes  5___completely_yes  \\\n",
       "0                0            0               0                   0   \n",
       "1                1            0               0                   0   \n",
       "2                0            0               0                   0   \n",
       "3                0            1               0                   0   \n",
       "4                1            0               0                   0   \n",
       "\n",
       "   don_t_know  refused  Cluster  \n",
       "0           1        0        1  \n",
       "1           0        0        0  \n",
       "2           0        0        1  \n",
       "3           0        0        1  \n",
       "4           0        0        1  \n",
       "\n",
       "[5 rows x 184 columns]"
      ]
     },
     "execution_count": 50,
     "metadata": {},
     "output_type": "execute_result"
    }
   ],
   "source": [
    "one_hot_encoded_df.head()"
   ]
  },
  {
   "cell_type": "code",
   "execution_count": 51,
   "metadata": {},
   "outputs": [],
   "source": [
    "# kmeans.cluster_centers_"
   ]
  },
  {
   "cell_type": "markdown",
   "metadata": {},
   "source": [
    "<h3> PCA </h3>\n",
    "<h7> Dimensionality Reduction </h7>"
   ]
  },
  {
   "cell_type": "code",
   "execution_count": 52,
   "metadata": {},
   "outputs": [],
   "source": [
    "from sklearn.decomposition import PCA"
   ]
  },
  {
   "cell_type": "code",
   "execution_count": 53,
   "metadata": {},
   "outputs": [
    {
     "data": {
      "image/png": "[encoded data removed]",
      "text/plain": [
       "<Figure size 720x360 with 1 Axes>"
      ]
     },
     "metadata": {
      "needs_background": "light"
     },
     "output_type": "display_data"
    }
   ],
   "source": [
    "reduced_data = PCA(n_components=2).fit_transform(one_hot_encoded_df)\n",
    "results = pd.DataFrame(reduced_data,columns=['pca_1','pca_2'])\n",
    "\n",
    "plt.figure(figsize=(10,5))\n",
    "sns.scatterplot(x=\"pca_1\", y=\"pca_2\", hue=one_hot_encoded_df['Cluster'], data=results)\n",
    "plt.title('K-means Clustering with 2 dimensions')\n",
    "plt.show()"
   ]
  },
  {
   "cell_type": "markdown",
   "metadata": {},
   "source": [
    "<h2> References </h2>"
   ]
  },
  {
   "cell_type": "markdown",
   "metadata": {},
   "source": [
    "1. https://data.humdata.org/dataset/community-perceptions-in-earthquake-affected-nepal"
   ]
  }
 ],
 "metadata": {
  "kernelspec": {
   "display_name": "Python 3",
   "language": "python",
   "name": "python3"
  },
  "language_info": {
   "codemirror_mode": {
    "name": "ipython",
    "version": 3
   },
   "file_extension": ".py",
   "mimetype": "text/x-python",
   "name": "python",
   "nbconvert_exporter": "python",
   "pygments_lexer": "ipython3",
   "version": "3.7.5"
  }
 },
 "nbformat": 4,
 "nbformat_minor": 4
}
