{
 "cells": [
  {
   "cell_type": "markdown",
   "metadata": {},
   "source": [
    "<h1> Impacts of the 2015 Nepal Earthquake"
   ]
  },
  {
   "cell_type": "code",
   "execution_count": 1,
   "metadata": {},
   "outputs": [],
   "source": [
    "import numpy as np\n",
    "import pandas as pd\n",
    "import matplotlib.pyplot as plt\n",
    "import seaborn as sns"
   ]
  },
  {
   "cell_type": "code",
   "execution_count": 2,
   "metadata": {},
   "outputs": [],
   "source": [
    "df = pd.read_excel('community-perceptions-in-earthquake-affected-nepal-round-3-1.xlsx', \n",
    "                   sheet_name='uploaded_form_g54cmb')"
   ]
  },
  {
   "cell_type": "code",
   "execution_count": 3,
   "metadata": {},
   "outputs": [
    {
     "data": {
      "text/html": [
       "<div>\n",
       "<style scoped>\n",
       "    .dataframe tbody tr th:only-of-type {\n",
       "        vertical-align: middle;\n",
       "    }\n",
       "\n",
       "    .dataframe tbody tr th {\n",
       "        vertical-align: top;\n",
       "    }\n",
       "\n",
       "    .dataframe thead th {\n",
       "        text-align: right;\n",
       "    }\n",
       "</style>\n",
       "<table border=\"1\" class=\"dataframe\">\n",
       "  <thead>\n",
       "    <tr style=\"text-align: right;\">\n",
       "      <th></th>\n",
       "      <th>Name_of_interviewer</th>\n",
       "      <th>Agency</th>\n",
       "      <th>Date</th>\n",
       "      <th>Record_Location</th>\n",
       "      <th>_Record_Location_latitude</th>\n",
       "      <th>_Record_Location_longitude</th>\n",
       "      <th>_Record_Location_altitude</th>\n",
       "      <th>_Record_Location_precision</th>\n",
       "      <th>District</th>\n",
       "      <th>VDC_Municipality</th>\n",
       "      <th>...</th>\n",
       "      <th>This_is_the_end_of_the_survey_</th>\n",
       "      <th>meta/instanceID</th>\n",
       "      <th>_id</th>\n",
       "      <th>_uuid</th>\n",
       "      <th>_submission_time</th>\n",
       "      <th>_index</th>\n",
       "      <th>_parent_table_name</th>\n",
       "      <th>_parent_index</th>\n",
       "      <th>_tags</th>\n",
       "      <th>_notes</th>\n",
       "    </tr>\n",
       "  </thead>\n",
       "  <tbody>\n",
       "    <tr>\n",
       "      <th>0</th>\n",
       "      <td>Suruchi Pant</td>\n",
       "      <td>accountability</td>\n",
       "      <td>2015-09-30</td>\n",
       "      <td>NaN</td>\n",
       "      <td>NaN</td>\n",
       "      <td>NaN</td>\n",
       "      <td>NaN</td>\n",
       "      <td>NaN</td>\n",
       "      <td>Kathmandu</td>\n",
       "      <td>Satungal</td>\n",
       "      <td>...</td>\n",
       "      <td>NaN</td>\n",
       "      <td>uuid:e729f3e9-0cd8-41e3-8a86-2ef3465b6110</td>\n",
       "      <td>736272</td>\n",
       "      <td>e729f3e9-0cd8-41e3-8a86-2ef3465b6110</td>\n",
       "      <td>2015-09-30T12:25:57</td>\n",
       "      <td>1</td>\n",
       "      <td>NaN</td>\n",
       "      <td>-1</td>\n",
       "      <td>NaN</td>\n",
       "      <td>NaN</td>\n",
       "    </tr>\n",
       "    <tr>\n",
       "      <th>1</th>\n",
       "      <td>Suruchi Pant</td>\n",
       "      <td>accountability</td>\n",
       "      <td>2015-09-26</td>\n",
       "      <td>NaN</td>\n",
       "      <td>NaN</td>\n",
       "      <td>NaN</td>\n",
       "      <td>NaN</td>\n",
       "      <td>NaN</td>\n",
       "      <td>Kathmandu</td>\n",
       "      <td>Satungal</td>\n",
       "      <td>...</td>\n",
       "      <td>NaN</td>\n",
       "      <td>uuid:c7a0ec0f-2773-4947-8b2b-050eb6b4d659</td>\n",
       "      <td>736268</td>\n",
       "      <td>c7a0ec0f-2773-4947-8b2b-050eb6b4d659</td>\n",
       "      <td>2015-09-30T12:23:55</td>\n",
       "      <td>2</td>\n",
       "      <td>NaN</td>\n",
       "      <td>-1</td>\n",
       "      <td>NaN</td>\n",
       "      <td>NaN</td>\n",
       "    </tr>\n",
       "    <tr>\n",
       "      <th>2</th>\n",
       "      <td>Suruchi Pant</td>\n",
       "      <td>accountability</td>\n",
       "      <td>2015-09-26</td>\n",
       "      <td>NaN</td>\n",
       "      <td>NaN</td>\n",
       "      <td>NaN</td>\n",
       "      <td>NaN</td>\n",
       "      <td>NaN</td>\n",
       "      <td>Kathmandu</td>\n",
       "      <td>Satungal</td>\n",
       "      <td>...</td>\n",
       "      <td>NaN</td>\n",
       "      <td>uuid:f1c63191-cbdb-4e52-ba33-5cf125939c8b</td>\n",
       "      <td>736262</td>\n",
       "      <td>f1c63191-cbdb-4e52-ba33-5cf125939c8b</td>\n",
       "      <td>2015-09-30T12:21:46</td>\n",
       "      <td>3</td>\n",
       "      <td>NaN</td>\n",
       "      <td>-1</td>\n",
       "      <td>NaN</td>\n",
       "      <td>NaN</td>\n",
       "    </tr>\n",
       "    <tr>\n",
       "      <th>3</th>\n",
       "      <td>Jharana RaI</td>\n",
       "      <td>accountability</td>\n",
       "      <td>2015-09-28</td>\n",
       "      <td>NaN</td>\n",
       "      <td>NaN</td>\n",
       "      <td>NaN</td>\n",
       "      <td>NaN</td>\n",
       "      <td>NaN</td>\n",
       "      <td>Kathmandu</td>\n",
       "      <td>Jhormahankal</td>\n",
       "      <td>...</td>\n",
       "      <td>NaN</td>\n",
       "      <td>uuid:83625573-4b20-4876-b18d-c75789103218</td>\n",
       "      <td>736160</td>\n",
       "      <td>83625573-4b20-4876-b18d-c75789103218</td>\n",
       "      <td>2015-09-30T12:17:23</td>\n",
       "      <td>4</td>\n",
       "      <td>NaN</td>\n",
       "      <td>-1</td>\n",
       "      <td>NaN</td>\n",
       "      <td>NaN</td>\n",
       "    </tr>\n",
       "    <tr>\n",
       "      <th>4</th>\n",
       "      <td>Anjal Bhatta</td>\n",
       "      <td>accountability</td>\n",
       "      <td>2015-09-28</td>\n",
       "      <td>NaN</td>\n",
       "      <td>NaN</td>\n",
       "      <td>NaN</td>\n",
       "      <td>NaN</td>\n",
       "      <td>NaN</td>\n",
       "      <td>Kathmandu</td>\n",
       "      <td>Jhormahankal</td>\n",
       "      <td>...</td>\n",
       "      <td>NaN</td>\n",
       "      <td>uuid:508a6969-7f7b-4fac-8803-c1993fc410fe</td>\n",
       "      <td>736147</td>\n",
       "      <td>508a6969-7f7b-4fac-8803-c1993fc410fe</td>\n",
       "      <td>2015-09-30T12:15:20</td>\n",
       "      <td>5</td>\n",
       "      <td>NaN</td>\n",
       "      <td>-1</td>\n",
       "      <td>NaN</td>\n",
       "      <td>NaN</td>\n",
       "    </tr>\n",
       "  </tbody>\n",
       "</table>\n",
       "<p>5 rows × 64 columns</p>\n",
       "</div>"
      ],
      "text/plain": [
       "  Name_of_interviewer          Agency       Date  Record_Location  \\\n",
       "0        Suruchi Pant  accountability 2015-09-30              NaN   \n",
       "1        Suruchi Pant  accountability 2015-09-26              NaN   \n",
       "2        Suruchi Pant  accountability 2015-09-26              NaN   \n",
       "3         Jharana RaI  accountability 2015-09-28              NaN   \n",
       "4        Anjal Bhatta  accountability 2015-09-28              NaN   \n",
       "\n",
       "   _Record_Location_latitude  _Record_Location_longitude  \\\n",
       "0                        NaN                         NaN   \n",
       "1                        NaN                         NaN   \n",
       "2                        NaN                         NaN   \n",
       "3                        NaN                         NaN   \n",
       "4                        NaN                         NaN   \n",
       "\n",
       "   _Record_Location_altitude  _Record_Location_precision   District  \\\n",
       "0                        NaN                         NaN  Kathmandu   \n",
       "1                        NaN                         NaN  Kathmandu   \n",
       "2                        NaN                         NaN  Kathmandu   \n",
       "3                        NaN                         NaN  Kathmandu   \n",
       "4                        NaN                         NaN  Kathmandu   \n",
       "\n",
       "  VDC_Municipality  ...  This_is_the_end_of_the_survey_  \\\n",
       "0         Satungal  ...                             NaN   \n",
       "1         Satungal  ...                             NaN   \n",
       "2         Satungal  ...                             NaN   \n",
       "3     Jhormahankal  ...                             NaN   \n",
       "4     Jhormahankal  ...                             NaN   \n",
       "\n",
       "                             meta/instanceID     _id  \\\n",
       "0  uuid:e729f3e9-0cd8-41e3-8a86-2ef3465b6110  736272   \n",
       "1  uuid:c7a0ec0f-2773-4947-8b2b-050eb6b4d659  736268   \n",
       "2  uuid:f1c63191-cbdb-4e52-ba33-5cf125939c8b  736262   \n",
       "3  uuid:83625573-4b20-4876-b18d-c75789103218  736160   \n",
       "4  uuid:508a6969-7f7b-4fac-8803-c1993fc410fe  736147   \n",
       "\n",
       "                                  _uuid     _submission_time _index  \\\n",
       "0  e729f3e9-0cd8-41e3-8a86-2ef3465b6110  2015-09-30T12:25:57      1   \n",
       "1  c7a0ec0f-2773-4947-8b2b-050eb6b4d659  2015-09-30T12:23:55      2   \n",
       "2  f1c63191-cbdb-4e52-ba33-5cf125939c8b  2015-09-30T12:21:46      3   \n",
       "3  83625573-4b20-4876-b18d-c75789103218  2015-09-30T12:17:23      4   \n",
       "4  508a6969-7f7b-4fac-8803-c1993fc410fe  2015-09-30T12:15:20      5   \n",
       "\n",
       "  _parent_table_name _parent_index  _tags _notes  \n",
       "0                NaN            -1    NaN    NaN  \n",
       "1                NaN            -1    NaN    NaN  \n",
       "2                NaN            -1    NaN    NaN  \n",
       "3                NaN            -1    NaN    NaN  \n",
       "4                NaN            -1    NaN    NaN  \n",
       "\n",
       "[5 rows x 64 columns]"
      ]
     },
     "execution_count": 3,
     "metadata": {},
     "output_type": "execute_result"
    }
   ],
   "source": [
    "df.head()"
   ]
  },
  {
   "cell_type": "code",
   "execution_count": 4,
   "metadata": {},
   "outputs": [
    {
     "data": {
      "text/plain": [
       "(1400, 64)"
      ]
     },
     "execution_count": 4,
     "metadata": {},
     "output_type": "execute_result"
    }
   ],
   "source": [
    "df.shape"
   ]
  },
  {
   "cell_type": "markdown",
   "metadata": {},
   "source": [
    "<h2> Cleaning Data </h2>"
   ]
  },
  {
   "cell_type": "markdown",
   "metadata": {},
   "source": [
    "Drop Columns where 70% of the values are NaN"
   ]
  },
  {
   "cell_type": "code",
   "execution_count": 5,
   "metadata": {},
   "outputs": [
    {
     "name": "stdout",
     "output_type": "stream",
     "text": [
      "<class 'pandas.core.frame.DataFrame'>\n",
      "RangeIndex: 1400 entries, 0 to 1399\n",
      "Data columns (total 37 columns):\n",
      "Name_of_interviewer                1400 non-null object\n",
      "Agency                             1400 non-null object\n",
      "Date                               1400 non-null datetime64[ns]\n",
      "District                           1400 non-null object\n",
      "VDC_Municipality                   1400 non-null object\n",
      "Ward_                              1400 non-null int64\n",
      "Age                                1400 non-null object\n",
      "Gender                             1400 non-null object\n",
      "Caste_ethnicity                    1400 non-null object\n",
      "Occupation                         1400 non-null object\n",
      "Do_you_have_any_health_problem     1400 non-null object\n",
      "_1_Are_your_main_problems_bein     1400 non-null object\n",
      "_1a_What_is_your_biggest_probl     1125 non-null object\n",
      "_1b_What_is_your_second_biggest    1125 non-null object\n",
      "_1c_What_is_your_third_biggest_    1125 non-null object\n",
      "_2_Satisfied_with_gov              1400 non-null object\n",
      "_2a_Top_thing_gov                  979 non-null object\n",
      "_2b_Second_thing_gov               979 non-null object\n",
      "_3_Do_you_have_information         1400 non-null object\n",
      "_3a_Top_need_info                  802 non-null object\n",
      "_3b_Second_need_info               802 non-null object\n",
      "_4_Satisfied_with_NGOs             1400 non-null object\n",
      "_4a_Top_need_NGOs                  815 non-null object\n",
      "_4b_Second_need_NGOs               815 non-null object\n",
      "_5_Is_support_fair                 1400 non-null object\n",
      "_5a_Top_reason_not_fair            721 non-null object\n",
      "_5b_Second_reason_not_fair         721 non-null object\n",
      "_6_Prepared_for_                   1400 non-null object\n",
      "_7_Have_been_heard                 1400 non-null object\n",
      "_8_Relief_effort_progress          1400 non-null object\n",
      "_9_Main_problems_women             472 non-null object\n",
      "meta/instanceID                    1400 non-null object\n",
      "_id                                1400 non-null int64\n",
      "_uuid                              1400 non-null object\n",
      "_submission_time                   1400 non-null object\n",
      "_index                             1400 non-null int64\n",
      "_parent_index                      1400 non-null int64\n",
      "dtypes: datetime64[ns](1), int64(4), object(32)\n",
      "memory usage: 404.8+ KB\n"
     ]
    }
   ],
   "source": [
    "df = df.loc[:, df.isnull().sum() < 0.7*df.shape[0]]\n",
    "df.info()"
   ]
  },
  {
   "cell_type": "markdown",
   "metadata": {},
   "source": [
    "<h3> Drop irrelevant columns </h3>"
   ]
  },
  {
   "cell_type": "code",
   "execution_count": 6,
   "metadata": {},
   "outputs": [
    {
     "data": {
      "text/plain": [
       "Int64Index([2015], dtype='int64', name='Date')"
      ]
     },
     "execution_count": 6,
     "metadata": {},
     "output_type": "execute_result"
    }
   ],
   "source": [
    "# All data from 2015\n",
    "(pd.DatetimeIndex(df['Date']).year).unique()"
   ]
  },
  {
   "cell_type": "code",
   "execution_count": 7,
   "metadata": {},
   "outputs": [],
   "source": [
    "df.drop(['Name_of_interviewer', 'Agency', 'Date', 'meta/instanceID', '_id', '_uuid',\\\n",
    "         '_submission_time', '_index', '_parent_index'], axis=1, inplace=True)"
   ]
  },
  {
   "cell_type": "code",
   "execution_count": 8,
   "metadata": {},
   "outputs": [
    {
     "data": {
      "text/html": [
       "<div>\n",
       "<style scoped>\n",
       "    .dataframe tbody tr th:only-of-type {\n",
       "        vertical-align: middle;\n",
       "    }\n",
       "\n",
       "    .dataframe tbody tr th {\n",
       "        vertical-align: top;\n",
       "    }\n",
       "\n",
       "    .dataframe thead th {\n",
       "        text-align: right;\n",
       "    }\n",
       "</style>\n",
       "<table border=\"1\" class=\"dataframe\">\n",
       "  <thead>\n",
       "    <tr style=\"text-align: right;\">\n",
       "      <th></th>\n",
       "      <th>District</th>\n",
       "      <th>VDC_Municipality</th>\n",
       "      <th>Ward_</th>\n",
       "      <th>Age</th>\n",
       "      <th>Gender</th>\n",
       "      <th>Caste_ethnicity</th>\n",
       "      <th>Occupation</th>\n",
       "      <th>Do_you_have_any_health_problem</th>\n",
       "      <th>_1_Are_your_main_problems_bein</th>\n",
       "      <th>_1a_What_is_your_biggest_probl</th>\n",
       "      <th>...</th>\n",
       "      <th>_4_Satisfied_with_NGOs</th>\n",
       "      <th>_4a_Top_need_NGOs</th>\n",
       "      <th>_4b_Second_need_NGOs</th>\n",
       "      <th>_5_Is_support_fair</th>\n",
       "      <th>_5a_Top_reason_not_fair</th>\n",
       "      <th>_5b_Second_reason_not_fair</th>\n",
       "      <th>_6_Prepared_for_</th>\n",
       "      <th>_7_Have_been_heard</th>\n",
       "      <th>_8_Relief_effort_progress</th>\n",
       "      <th>_9_Main_problems_women</th>\n",
       "    </tr>\n",
       "  </thead>\n",
       "  <tbody>\n",
       "    <tr>\n",
       "      <th>0</th>\n",
       "      <td>Kathmandu</td>\n",
       "      <td>Satungal</td>\n",
       "      <td>1</td>\n",
       "      <td>40_54</td>\n",
       "      <td>female</td>\n",
       "      <td>Newar</td>\n",
       "      <td>other</td>\n",
       "      <td>no_difficulty</td>\n",
       "      <td>1___not_at_all</td>\n",
       "      <td>long_term_shelter__housing</td>\n",
       "      <td>...</td>\n",
       "      <td>4___mostly_yes</td>\n",
       "      <td>NaN</td>\n",
       "      <td>NaN</td>\n",
       "      <td>don_t_know</td>\n",
       "      <td>NaN</td>\n",
       "      <td>NaN</td>\n",
       "      <td>4___mostly_yes</td>\n",
       "      <td>1___not_at_all</td>\n",
       "      <td>don_t_know</td>\n",
       "      <td>1___not_at_all</td>\n",
       "    </tr>\n",
       "    <tr>\n",
       "      <th>1</th>\n",
       "      <td>Kathmandu</td>\n",
       "      <td>Satungal</td>\n",
       "      <td>1</td>\n",
       "      <td>55_greater</td>\n",
       "      <td>male</td>\n",
       "      <td>Newar</td>\n",
       "      <td>skilled_worker</td>\n",
       "      <td>no_difficulty</td>\n",
       "      <td>2___very_little</td>\n",
       "      <td>long_term_shelter__housing</td>\n",
       "      <td>...</td>\n",
       "      <td>2___very_little</td>\n",
       "      <td>building_mater</td>\n",
       "      <td>food_aid</td>\n",
       "      <td>2___very_little</td>\n",
       "      <td>based_on_caste</td>\n",
       "      <td>based_on_polit</td>\n",
       "      <td>4___mostly_yes</td>\n",
       "      <td>2___not_very_m</td>\n",
       "      <td>2___very_little</td>\n",
       "      <td>NaN</td>\n",
       "    </tr>\n",
       "    <tr>\n",
       "      <th>2</th>\n",
       "      <td>Kathmandu</td>\n",
       "      <td>Satungal</td>\n",
       "      <td>1</td>\n",
       "      <td>55_greater</td>\n",
       "      <td>male</td>\n",
       "      <td>Newar</td>\n",
       "      <td>skilled_worker</td>\n",
       "      <td>no_difficulty</td>\n",
       "      <td>2___very_little</td>\n",
       "      <td>long_term_shelter__housing</td>\n",
       "      <td>...</td>\n",
       "      <td>4___mostly_yes</td>\n",
       "      <td>NaN</td>\n",
       "      <td>NaN</td>\n",
       "      <td>2___very_little</td>\n",
       "      <td>based_on_caste</td>\n",
       "      <td>based_on_polit</td>\n",
       "      <td>4___mostly_yes</td>\n",
       "      <td>1___not_at_all</td>\n",
       "      <td>1___not_at_all</td>\n",
       "      <td>NaN</td>\n",
       "    </tr>\n",
       "    <tr>\n",
       "      <th>3</th>\n",
       "      <td>Kathmandu</td>\n",
       "      <td>Jhormahankal</td>\n",
       "      <td>2</td>\n",
       "      <td>15_24</td>\n",
       "      <td>female</td>\n",
       "      <td>Tamang</td>\n",
       "      <td>other</td>\n",
       "      <td>yes__some_diff</td>\n",
       "      <td>3___neutral</td>\n",
       "      <td>long_term_shelter__housing</td>\n",
       "      <td>...</td>\n",
       "      <td>3___neutral</td>\n",
       "      <td>building_mater</td>\n",
       "      <td>cash_for_work</td>\n",
       "      <td>3___neutral</td>\n",
       "      <td>based_on_dista</td>\n",
       "      <td>first_come__fi</td>\n",
       "      <td>4___mostly_yes</td>\n",
       "      <td>3___neutral</td>\n",
       "      <td>3___neutral</td>\n",
       "      <td>4___mostly_yes</td>\n",
       "    </tr>\n",
       "    <tr>\n",
       "      <th>4</th>\n",
       "      <td>Kathmandu</td>\n",
       "      <td>Jhormahankal</td>\n",
       "      <td>2</td>\n",
       "      <td>25_39</td>\n",
       "      <td>female</td>\n",
       "      <td>Tamang</td>\n",
       "      <td>other</td>\n",
       "      <td>no_difficulty</td>\n",
       "      <td>3___neutral</td>\n",
       "      <td>short_term_she</td>\n",
       "      <td>...</td>\n",
       "      <td>3___neutral</td>\n",
       "      <td>building_mater</td>\n",
       "      <td>cash_for_work</td>\n",
       "      <td>3___neutral</td>\n",
       "      <td>based_on_polit</td>\n",
       "      <td>first_come__fi</td>\n",
       "      <td>4___mostly_yes</td>\n",
       "      <td>3___neutral</td>\n",
       "      <td>2___very_little</td>\n",
       "      <td>4___mostly_yes</td>\n",
       "    </tr>\n",
       "    <tr>\n",
       "      <th>5</th>\n",
       "      <td>Kathmandu</td>\n",
       "      <td>Jhormahankal</td>\n",
       "      <td>2</td>\n",
       "      <td>40_54</td>\n",
       "      <td>female</td>\n",
       "      <td>Tamang</td>\n",
       "      <td>other</td>\n",
       "      <td>no_difficulty</td>\n",
       "      <td>1___not_at_all</td>\n",
       "      <td>long_term_shelter__housing</td>\n",
       "      <td>...</td>\n",
       "      <td>2___very_little</td>\n",
       "      <td>building_mater</td>\n",
       "      <td>cash_for_work</td>\n",
       "      <td>2___very_little</td>\n",
       "      <td>first_come__fi</td>\n",
       "      <td>based_on_polit</td>\n",
       "      <td>3___neutral</td>\n",
       "      <td>3___neutral</td>\n",
       "      <td>2___very_little</td>\n",
       "      <td>3___neutral</td>\n",
       "    </tr>\n",
       "    <tr>\n",
       "      <th>6</th>\n",
       "      <td>Kathmandu</td>\n",
       "      <td>Jhormahankal</td>\n",
       "      <td>2</td>\n",
       "      <td>40_54</td>\n",
       "      <td>male</td>\n",
       "      <td>Tamang</td>\n",
       "      <td>farmer_laborer</td>\n",
       "      <td>yes__some_diff</td>\n",
       "      <td>3___neutral</td>\n",
       "      <td>short_term_she</td>\n",
       "      <td>...</td>\n",
       "      <td>3___neutral</td>\n",
       "      <td>building_mater</td>\n",
       "      <td>cash_for_work</td>\n",
       "      <td>3___neutral</td>\n",
       "      <td>based_on_polit</td>\n",
       "      <td>based_on_dista</td>\n",
       "      <td>4___mostly_yes</td>\n",
       "      <td>3___neutral</td>\n",
       "      <td>3___neutral</td>\n",
       "      <td>NaN</td>\n",
       "    </tr>\n",
       "    <tr>\n",
       "      <th>7</th>\n",
       "      <td>Kathmandu</td>\n",
       "      <td>Jhormahankal</td>\n",
       "      <td>2</td>\n",
       "      <td>40_54</td>\n",
       "      <td>female</td>\n",
       "      <td>Tamang</td>\n",
       "      <td>other</td>\n",
       "      <td>no_difficulty</td>\n",
       "      <td>3___neutral</td>\n",
       "      <td>long_term_shelter__housing</td>\n",
       "      <td>...</td>\n",
       "      <td>3___neutral</td>\n",
       "      <td>building_mater</td>\n",
       "      <td>cash_for_work</td>\n",
       "      <td>3___neutral</td>\n",
       "      <td>based_on_polit</td>\n",
       "      <td>based_on_dista</td>\n",
       "      <td>3___neutral</td>\n",
       "      <td>3___neutral</td>\n",
       "      <td>3___neutral</td>\n",
       "      <td>3___neutral</td>\n",
       "    </tr>\n",
       "    <tr>\n",
       "      <th>8</th>\n",
       "      <td>Kathmandu</td>\n",
       "      <td>Sitapaila</td>\n",
       "      <td>8</td>\n",
       "      <td>25_39</td>\n",
       "      <td>female</td>\n",
       "      <td>Tamang</td>\n",
       "      <td>other</td>\n",
       "      <td>no_difficulty</td>\n",
       "      <td>3___neutral</td>\n",
       "      <td>long_term_shelter__housing</td>\n",
       "      <td>...</td>\n",
       "      <td>3___neutral</td>\n",
       "      <td>building_mater</td>\n",
       "      <td>cash_for_work</td>\n",
       "      <td>4___mostly_yes</td>\n",
       "      <td>NaN</td>\n",
       "      <td>NaN</td>\n",
       "      <td>4___mostly_yes</td>\n",
       "      <td>3___neutral</td>\n",
       "      <td>3___neutral</td>\n",
       "      <td>3___neutral</td>\n",
       "    </tr>\n",
       "    <tr>\n",
       "      <th>9</th>\n",
       "      <td>Kathmandu</td>\n",
       "      <td>Sitapaila</td>\n",
       "      <td>8</td>\n",
       "      <td>55_greater</td>\n",
       "      <td>female</td>\n",
       "      <td>Tamang</td>\n",
       "      <td>other</td>\n",
       "      <td>no_difficulty</td>\n",
       "      <td>3___neutral</td>\n",
       "      <td>long_term_shelter__housing</td>\n",
       "      <td>...</td>\n",
       "      <td>2___very_little</td>\n",
       "      <td>building_mater</td>\n",
       "      <td>cash_for_work</td>\n",
       "      <td>4___mostly_yes</td>\n",
       "      <td>NaN</td>\n",
       "      <td>NaN</td>\n",
       "      <td>4___mostly_yes</td>\n",
       "      <td>3___neutral</td>\n",
       "      <td>3___neutral</td>\n",
       "      <td>3___neutral</td>\n",
       "    </tr>\n",
       "    <tr>\n",
       "      <th>10</th>\n",
       "      <td>Kathmandu</td>\n",
       "      <td>Sitapaila</td>\n",
       "      <td>8</td>\n",
       "      <td>55_greater</td>\n",
       "      <td>female</td>\n",
       "      <td>Tamang</td>\n",
       "      <td>other</td>\n",
       "      <td>no_difficulty</td>\n",
       "      <td>3___neutral</td>\n",
       "      <td>long_term_shelter__housing</td>\n",
       "      <td>...</td>\n",
       "      <td>2___very_little</td>\n",
       "      <td>building_mater</td>\n",
       "      <td>cash_for_work</td>\n",
       "      <td>4___mostly_yes</td>\n",
       "      <td>NaN</td>\n",
       "      <td>NaN</td>\n",
       "      <td>4___mostly_yes</td>\n",
       "      <td>3___neutral</td>\n",
       "      <td>3___neutral</td>\n",
       "      <td>NaN</td>\n",
       "    </tr>\n",
       "    <tr>\n",
       "      <th>11</th>\n",
       "      <td>Kathmandu</td>\n",
       "      <td>Sitapaila</td>\n",
       "      <td>8</td>\n",
       "      <td>25_39</td>\n",
       "      <td>female</td>\n",
       "      <td>Brahmin</td>\n",
       "      <td>other</td>\n",
       "      <td>yes__some_diff</td>\n",
       "      <td>3___neutral</td>\n",
       "      <td>long_term_shelter__housing</td>\n",
       "      <td>...</td>\n",
       "      <td>3___neutral</td>\n",
       "      <td>building_mater</td>\n",
       "      <td>cash_for_work</td>\n",
       "      <td>4___mostly_yes</td>\n",
       "      <td>NaN</td>\n",
       "      <td>NaN</td>\n",
       "      <td>4___mostly_yes</td>\n",
       "      <td>3___neutral</td>\n",
       "      <td>3___neutral</td>\n",
       "      <td>3___neutral</td>\n",
       "    </tr>\n",
       "    <tr>\n",
       "      <th>12</th>\n",
       "      <td>Kathmandu</td>\n",
       "      <td>Dharmasthali</td>\n",
       "      <td>1</td>\n",
       "      <td>refused</td>\n",
       "      <td>male</td>\n",
       "      <td>Newar</td>\n",
       "      <td>farmer_laborer</td>\n",
       "      <td>yes__some_diff</td>\n",
       "      <td>1___not_at_all</td>\n",
       "      <td>long_term_shelter__housing</td>\n",
       "      <td>...</td>\n",
       "      <td>4___mostly_yes</td>\n",
       "      <td>NaN</td>\n",
       "      <td>NaN</td>\n",
       "      <td>4___mostly_yes</td>\n",
       "      <td>NaN</td>\n",
       "      <td>NaN</td>\n",
       "      <td>4___mostly_yes</td>\n",
       "      <td>4___mostly_yes</td>\n",
       "      <td>4___mostly_yes</td>\n",
       "      <td>NaN</td>\n",
       "    </tr>\n",
       "    <tr>\n",
       "      <th>13</th>\n",
       "      <td>Kathmandu</td>\n",
       "      <td>Dharmasthali</td>\n",
       "      <td>1</td>\n",
       "      <td>25_39</td>\n",
       "      <td>male</td>\n",
       "      <td>Newar</td>\n",
       "      <td>farmer_laborer</td>\n",
       "      <td>no_difficulty</td>\n",
       "      <td>1___not_at_all</td>\n",
       "      <td>long_term_shelter__housing</td>\n",
       "      <td>...</td>\n",
       "      <td>2___very_little</td>\n",
       "      <td>building_mater</td>\n",
       "      <td>cash_for_work</td>\n",
       "      <td>3___neutral</td>\n",
       "      <td>first_come__fi</td>\n",
       "      <td>because_people</td>\n",
       "      <td>3___neutral</td>\n",
       "      <td>1___not_at_all</td>\n",
       "      <td>2___very_little</td>\n",
       "      <td>NaN</td>\n",
       "    </tr>\n",
       "    <tr>\n",
       "      <th>14</th>\n",
       "      <td>Kathmandu</td>\n",
       "      <td>Sitapaila</td>\n",
       "      <td>8</td>\n",
       "      <td>15_24</td>\n",
       "      <td>female</td>\n",
       "      <td>Tamang</td>\n",
       "      <td>other</td>\n",
       "      <td>no_difficulty</td>\n",
       "      <td>3___neutral</td>\n",
       "      <td>long_term_shelter__housing</td>\n",
       "      <td>...</td>\n",
       "      <td>3___neutral</td>\n",
       "      <td>building_mater</td>\n",
       "      <td>cash_for_work</td>\n",
       "      <td>3___neutral</td>\n",
       "      <td>based_on_dista</td>\n",
       "      <td>based_on_polit</td>\n",
       "      <td>4___mostly_yes</td>\n",
       "      <td>3___neutral</td>\n",
       "      <td>3___neutral</td>\n",
       "      <td>3___neutral</td>\n",
       "    </tr>\n",
       "    <tr>\n",
       "      <th>15</th>\n",
       "      <td>Kathmandu</td>\n",
       "      <td>Dharmasthali</td>\n",
       "      <td>1</td>\n",
       "      <td>40_54</td>\n",
       "      <td>male</td>\n",
       "      <td>Newar</td>\n",
       "      <td>ngo_worker_bus</td>\n",
       "      <td>no_difficulty</td>\n",
       "      <td>4___mostly_yes</td>\n",
       "      <td>NaN</td>\n",
       "      <td>...</td>\n",
       "      <td>4___mostly_yes</td>\n",
       "      <td>NaN</td>\n",
       "      <td>NaN</td>\n",
       "      <td>4___mostly_yes</td>\n",
       "      <td>NaN</td>\n",
       "      <td>NaN</td>\n",
       "      <td>4___mostly_yes</td>\n",
       "      <td>3___neutral</td>\n",
       "      <td>4___mostly_yes</td>\n",
       "      <td>NaN</td>\n",
       "    </tr>\n",
       "    <tr>\n",
       "      <th>16</th>\n",
       "      <td>Kathmandu</td>\n",
       "      <td>Dharmasthali</td>\n",
       "      <td>1</td>\n",
       "      <td>25_39</td>\n",
       "      <td>male</td>\n",
       "      <td>Newar</td>\n",
       "      <td>farmer_laborer</td>\n",
       "      <td>no_difficulty</td>\n",
       "      <td>1___not_at_all</td>\n",
       "      <td>long_term_shelter__housing</td>\n",
       "      <td>...</td>\n",
       "      <td>4___mostly_yes</td>\n",
       "      <td>NaN</td>\n",
       "      <td>NaN</td>\n",
       "      <td>4___mostly_yes</td>\n",
       "      <td>NaN</td>\n",
       "      <td>NaN</td>\n",
       "      <td>4___mostly_yes</td>\n",
       "      <td>1___not_at_all</td>\n",
       "      <td>4___mostly_yes</td>\n",
       "      <td>NaN</td>\n",
       "    </tr>\n",
       "    <tr>\n",
       "      <th>17</th>\n",
       "      <td>Kathmandu</td>\n",
       "      <td>Bajrayogini</td>\n",
       "      <td>8</td>\n",
       "      <td>25_39</td>\n",
       "      <td>female</td>\n",
       "      <td>other</td>\n",
       "      <td>other</td>\n",
       "      <td>no_difficulty</td>\n",
       "      <td>3___neutral</td>\n",
       "      <td>financial_support</td>\n",
       "      <td>...</td>\n",
       "      <td>3___neutral</td>\n",
       "      <td>building_mater</td>\n",
       "      <td>cash_for_work</td>\n",
       "      <td>3___neutral</td>\n",
       "      <td>based_on_polit</td>\n",
       "      <td>first_come__fi</td>\n",
       "      <td>3___neutral</td>\n",
       "      <td>3___neutral</td>\n",
       "      <td>3___neutral</td>\n",
       "      <td>3___neutral</td>\n",
       "    </tr>\n",
       "    <tr>\n",
       "      <th>18</th>\n",
       "      <td>Lalitpur</td>\n",
       "      <td>Ghusel</td>\n",
       "      <td>8</td>\n",
       "      <td>25_39</td>\n",
       "      <td>male</td>\n",
       "      <td>Chhetri</td>\n",
       "      <td>farmer_laborer</td>\n",
       "      <td>no_difficulty</td>\n",
       "      <td>1___not_at_all</td>\n",
       "      <td>financial_support</td>\n",
       "      <td>...</td>\n",
       "      <td>5___completely_yes</td>\n",
       "      <td>NaN</td>\n",
       "      <td>NaN</td>\n",
       "      <td>3___neutral</td>\n",
       "      <td>first_come__fi</td>\n",
       "      <td>based_on_polit</td>\n",
       "      <td>3___neutral</td>\n",
       "      <td>1___not_at_all</td>\n",
       "      <td>1___not_at_all</td>\n",
       "      <td>NaN</td>\n",
       "    </tr>\n",
       "    <tr>\n",
       "      <th>19</th>\n",
       "      <td>Kathmandu</td>\n",
       "      <td>Bajrayogini</td>\n",
       "      <td>8</td>\n",
       "      <td>55_greater</td>\n",
       "      <td>female</td>\n",
       "      <td>Newar</td>\n",
       "      <td>other</td>\n",
       "      <td>no_difficulty</td>\n",
       "      <td>2___very_little</td>\n",
       "      <td>long_term_shelter__housing</td>\n",
       "      <td>...</td>\n",
       "      <td>3___neutral</td>\n",
       "      <td>building_mater</td>\n",
       "      <td>food_aid</td>\n",
       "      <td>2___very_little</td>\n",
       "      <td>first_come__fi</td>\n",
       "      <td>based_on_polit</td>\n",
       "      <td>4___mostly_yes</td>\n",
       "      <td>2___not_very_m</td>\n",
       "      <td>2___very_little</td>\n",
       "      <td>2___very_little</td>\n",
       "    </tr>\n",
       "  </tbody>\n",
       "</table>\n",
       "<p>20 rows × 28 columns</p>\n",
       "</div>"
      ],
      "text/plain": [
       "     District VDC_Municipality  Ward_         Age  Gender Caste_ethnicity  \\\n",
       "0   Kathmandu         Satungal      1       40_54  female           Newar   \n",
       "1   Kathmandu         Satungal      1  55_greater    male           Newar   \n",
       "2   Kathmandu         Satungal      1  55_greater    male           Newar   \n",
       "3   Kathmandu     Jhormahankal      2       15_24  female          Tamang   \n",
       "4   Kathmandu     Jhormahankal      2       25_39  female          Tamang   \n",
       "5   Kathmandu     Jhormahankal      2       40_54  female          Tamang   \n",
       "6   Kathmandu     Jhormahankal      2       40_54    male          Tamang   \n",
       "7   Kathmandu     Jhormahankal      2       40_54  female          Tamang   \n",
       "8   Kathmandu        Sitapaila      8       25_39  female          Tamang   \n",
       "9   Kathmandu        Sitapaila      8  55_greater  female          Tamang   \n",
       "10  Kathmandu        Sitapaila      8  55_greater  female          Tamang   \n",
       "11  Kathmandu        Sitapaila      8       25_39  female         Brahmin   \n",
       "12  Kathmandu     Dharmasthali      1     refused    male           Newar   \n",
       "13  Kathmandu     Dharmasthali      1       25_39    male           Newar   \n",
       "14  Kathmandu        Sitapaila      8       15_24  female          Tamang   \n",
       "15  Kathmandu     Dharmasthali      1       40_54    male           Newar   \n",
       "16  Kathmandu     Dharmasthali      1       25_39    male           Newar   \n",
       "17  Kathmandu      Bajrayogini      8       25_39  female           other   \n",
       "18   Lalitpur           Ghusel      8       25_39    male         Chhetri   \n",
       "19  Kathmandu      Bajrayogini      8  55_greater  female           Newar   \n",
       "\n",
       "        Occupation Do_you_have_any_health_problem  \\\n",
       "0            other                  no_difficulty   \n",
       "1   skilled_worker                  no_difficulty   \n",
       "2   skilled_worker                  no_difficulty   \n",
       "3            other                 yes__some_diff   \n",
       "4            other                  no_difficulty   \n",
       "5            other                  no_difficulty   \n",
       "6   farmer_laborer                 yes__some_diff   \n",
       "7            other                  no_difficulty   \n",
       "8            other                  no_difficulty   \n",
       "9            other                  no_difficulty   \n",
       "10           other                  no_difficulty   \n",
       "11           other                 yes__some_diff   \n",
       "12  farmer_laborer                 yes__some_diff   \n",
       "13  farmer_laborer                  no_difficulty   \n",
       "14           other                  no_difficulty   \n",
       "15  ngo_worker_bus                  no_difficulty   \n",
       "16  farmer_laborer                  no_difficulty   \n",
       "17           other                  no_difficulty   \n",
       "18  farmer_laborer                  no_difficulty   \n",
       "19           other                  no_difficulty   \n",
       "\n",
       "   _1_Are_your_main_problems_bein _1a_What_is_your_biggest_probl  ...  \\\n",
       "0                  1___not_at_all     long_term_shelter__housing  ...   \n",
       "1                 2___very_little     long_term_shelter__housing  ...   \n",
       "2                 2___very_little     long_term_shelter__housing  ...   \n",
       "3                     3___neutral     long_term_shelter__housing  ...   \n",
       "4                     3___neutral                 short_term_she  ...   \n",
       "5                  1___not_at_all     long_term_shelter__housing  ...   \n",
       "6                     3___neutral                 short_term_she  ...   \n",
       "7                     3___neutral     long_term_shelter__housing  ...   \n",
       "8                     3___neutral     long_term_shelter__housing  ...   \n",
       "9                     3___neutral     long_term_shelter__housing  ...   \n",
       "10                    3___neutral     long_term_shelter__housing  ...   \n",
       "11                    3___neutral     long_term_shelter__housing  ...   \n",
       "12                 1___not_at_all     long_term_shelter__housing  ...   \n",
       "13                 1___not_at_all     long_term_shelter__housing  ...   \n",
       "14                    3___neutral     long_term_shelter__housing  ...   \n",
       "15                 4___mostly_yes                            NaN  ...   \n",
       "16                 1___not_at_all     long_term_shelter__housing  ...   \n",
       "17                    3___neutral              financial_support  ...   \n",
       "18                 1___not_at_all              financial_support  ...   \n",
       "19                2___very_little     long_term_shelter__housing  ...   \n",
       "\n",
       "   _4_Satisfied_with_NGOs _4a_Top_need_NGOs _4b_Second_need_NGOs  \\\n",
       "0          4___mostly_yes               NaN                  NaN   \n",
       "1         2___very_little    building_mater             food_aid   \n",
       "2          4___mostly_yes               NaN                  NaN   \n",
       "3             3___neutral    building_mater        cash_for_work   \n",
       "4             3___neutral    building_mater        cash_for_work   \n",
       "5         2___very_little    building_mater        cash_for_work   \n",
       "6             3___neutral    building_mater        cash_for_work   \n",
       "7             3___neutral    building_mater        cash_for_work   \n",
       "8             3___neutral    building_mater        cash_for_work   \n",
       "9         2___very_little    building_mater        cash_for_work   \n",
       "10        2___very_little    building_mater        cash_for_work   \n",
       "11            3___neutral    building_mater        cash_for_work   \n",
       "12         4___mostly_yes               NaN                  NaN   \n",
       "13        2___very_little    building_mater        cash_for_work   \n",
       "14            3___neutral    building_mater        cash_for_work   \n",
       "15         4___mostly_yes               NaN                  NaN   \n",
       "16         4___mostly_yes               NaN                  NaN   \n",
       "17            3___neutral    building_mater        cash_for_work   \n",
       "18     5___completely_yes               NaN                  NaN   \n",
       "19            3___neutral    building_mater             food_aid   \n",
       "\n",
       "   _5_Is_support_fair _5a_Top_reason_not_fair _5b_Second_reason_not_fair  \\\n",
       "0          don_t_know                     NaN                        NaN   \n",
       "1     2___very_little          based_on_caste             based_on_polit   \n",
       "2     2___very_little          based_on_caste             based_on_polit   \n",
       "3         3___neutral          based_on_dista             first_come__fi   \n",
       "4         3___neutral          based_on_polit             first_come__fi   \n",
       "5     2___very_little          first_come__fi             based_on_polit   \n",
       "6         3___neutral          based_on_polit             based_on_dista   \n",
       "7         3___neutral          based_on_polit             based_on_dista   \n",
       "8      4___mostly_yes                     NaN                        NaN   \n",
       "9      4___mostly_yes                     NaN                        NaN   \n",
       "10     4___mostly_yes                     NaN                        NaN   \n",
       "11     4___mostly_yes                     NaN                        NaN   \n",
       "12     4___mostly_yes                     NaN                        NaN   \n",
       "13        3___neutral          first_come__fi             because_people   \n",
       "14        3___neutral          based_on_dista             based_on_polit   \n",
       "15     4___mostly_yes                     NaN                        NaN   \n",
       "16     4___mostly_yes                     NaN                        NaN   \n",
       "17        3___neutral          based_on_polit             first_come__fi   \n",
       "18        3___neutral          first_come__fi             based_on_polit   \n",
       "19    2___very_little          first_come__fi             based_on_polit   \n",
       "\n",
       "   _6_Prepared_for_ _7_Have_been_heard _8_Relief_effort_progress  \\\n",
       "0    4___mostly_yes     1___not_at_all                don_t_know   \n",
       "1    4___mostly_yes     2___not_very_m           2___very_little   \n",
       "2    4___mostly_yes     1___not_at_all            1___not_at_all   \n",
       "3    4___mostly_yes        3___neutral               3___neutral   \n",
       "4    4___mostly_yes        3___neutral           2___very_little   \n",
       "5       3___neutral        3___neutral           2___very_little   \n",
       "6    4___mostly_yes        3___neutral               3___neutral   \n",
       "7       3___neutral        3___neutral               3___neutral   \n",
       "8    4___mostly_yes        3___neutral               3___neutral   \n",
       "9    4___mostly_yes        3___neutral               3___neutral   \n",
       "10   4___mostly_yes        3___neutral               3___neutral   \n",
       "11   4___mostly_yes        3___neutral               3___neutral   \n",
       "12   4___mostly_yes     4___mostly_yes            4___mostly_yes   \n",
       "13      3___neutral     1___not_at_all           2___very_little   \n",
       "14   4___mostly_yes        3___neutral               3___neutral   \n",
       "15   4___mostly_yes        3___neutral            4___mostly_yes   \n",
       "16   4___mostly_yes     1___not_at_all            4___mostly_yes   \n",
       "17      3___neutral        3___neutral               3___neutral   \n",
       "18      3___neutral     1___not_at_all            1___not_at_all   \n",
       "19   4___mostly_yes     2___not_very_m           2___very_little   \n",
       "\n",
       "   _9_Main_problems_women  \n",
       "0          1___not_at_all  \n",
       "1                     NaN  \n",
       "2                     NaN  \n",
       "3          4___mostly_yes  \n",
       "4          4___mostly_yes  \n",
       "5             3___neutral  \n",
       "6                     NaN  \n",
       "7             3___neutral  \n",
       "8             3___neutral  \n",
       "9             3___neutral  \n",
       "10                    NaN  \n",
       "11            3___neutral  \n",
       "12                    NaN  \n",
       "13                    NaN  \n",
       "14            3___neutral  \n",
       "15                    NaN  \n",
       "16                    NaN  \n",
       "17            3___neutral  \n",
       "18                    NaN  \n",
       "19        2___very_little  \n",
       "\n",
       "[20 rows x 28 columns]"
      ]
     },
     "execution_count": 8,
     "metadata": {},
     "output_type": "execute_result"
    }
   ],
   "source": [
    "df.head(20)"
   ]
  },
  {
   "cell_type": "markdown",
   "metadata": {},
   "source": [
    "<h3> Rename Columns </h3>"
   ]
  },
  {
   "cell_type": "code",
   "execution_count": 9,
   "metadata": {},
   "outputs": [],
   "source": [
    "df.columns = ['District', 'Municipality', 'Ward','Age', 'Gender', 'Caste', 'Occupation', \n",
    "              'Health Problem','Main Problmes Met', 'Biggest Problem', 'Second Biggest Problem', \n",
    "              'Third Biggest Problem', 'GOV Satisfaction', 'Top Thing Gov', 'Second Thing Gov',\n",
    "              'Have Information', 'Top Need Info','Second Need Info', 'NGO Satisfaction', \n",
    "              'Top Need NGO', 'Second Need NGO', 'Support Fair','Top Reason Not Fair', \n",
    "              'Second Reason Not Fair', 'Prepared', 'Heard', 'Relief Effort Progress',\n",
    "              'Main Women Problem']"
   ]
  },
  {
   "cell_type": "markdown",
   "metadata": {},
   "source": [
    "<h3> Municipality </h3>"
   ]
  },
  {
   "cell_type": "code",
   "execution_count": 10,
   "metadata": {},
   "outputs": [
    {
     "data": {
      "text/plain": [
       "160"
      ]
     },
     "execution_count": 10,
     "metadata": {},
     "output_type": "execute_result"
    }
   ],
   "source": [
    "df['Municipality'].nunique()"
   ]
  },
  {
   "cell_type": "code",
   "execution_count": 11,
   "metadata": {},
   "outputs": [
    {
     "data": {
      "text/plain": [
       "array(['Satungal', 'Jhormahankal', 'Sitapaila', 'Dharmasthali',\n",
       "       'Bajrayogini', 'Ghusel', 'Hetauda Submetropolitan City',\n",
       "       'changunarayan', 'Bhorle', 'Changunarayan', 'Gairi Bisauna Deupur',\n",
       "       'Dhaibung', 'Jibanpur', 'Makha', 'Jhaukhel', 'Thakre', 'Pangretar',\n",
       "       'Dandagaun', 'Jalkanya', 'Ratanchaura', 'chhaling', 'Phulpindada',\n",
       "       'Nibuwatar', 'Manthali', 'kushadevi', 'Goljung', 'Pipaldada',\n",
       "       'salyantar', 'kashigaun', 'Bhuwaneswari', 'Salyantar', 'Hanspur',\n",
       "       'Tilpung', 'sundawati', 'melung', 'Manahari', 'Khadga Bhanjyang',\n",
       "       'Salyankot', 'Saramthali', 'bhaktpur', 'Ambhanjyang',\n",
       "       'Chandeni Mandan', 'Prithivi Narayan NP', 'panchkhal', 'Goldhunga',\n",
       "       'Gotikhel', 'Manikhel', 'lamidada', 'Khalte', 'changunaran',\n",
       "       'susmachhemawati', 'Phulasi', 'Tupche', 'Thulosiruwari',\n",
       "       'Kamalamai', 'Barpak', 'Bhimeswor', 'Bhimeshwor', 'Manbu',\n",
       "       'BHorle', 'Kamalmai', 'Tasarpur', 'Chhatiwan', 'Chilime', 'ryale',\n",
       "       'Chhatredurali', 'Bhimphedi', 'Chhaling', 'Thulogaun',\n",
       "       'Ratanchura', 'Kashigaun', 'Simjung', 'Tripura', 'Sangachok',\n",
       "       'jhaukhel', 'Bhaise', 'Ramche', 'mangaltar', 'Ramechhap', 'bunkot',\n",
       "       'Laharepauwa', 'Chautara', 'Basheswar', 'Namtar', 'mangatar',\n",
       "       'Pakarbas', 'Sanosiruwari', 'bhimkhori', 'Samarthali',\n",
       "       'Sankhupati Chaur', 'Yarsa', 'Aginchok', 'Makwanpurgadhi', 'yarsa',\n",
       "       'sunakhani', 'sahare', 'Kabhre Nittya', 'Puranagau', 'Irkhu',\n",
       "       'Sitalpati', 'madhyapur', 'Mulpani', 'Jhangajholi Ratmata',\n",
       "       'Panchkhal', 'Kalleri', 'Taple', 'Khadha Bhanjyang', 'Hadikhola',\n",
       "       'Chanakhu', 'Kusheswar Dumja', 'Chhatredeurali', 'laduk', 'kavre',\n",
       "       'Khoplang', 'Salyankot ', 'nambdu', 'Dadhuwa', 'Nambdu', 'Khimti',\n",
       "       'Sundarijal', 'Kapan', 'Gailu', 'Gonggabu', 'Khokana', 'Ramkot',\n",
       "       'Harisiddhi', 'harisiddhi', 'Jhormahankal ', 'Nalang', 'Ratmate',\n",
       "       'Siddhipur', 'Matatirtha', 'Icchangunarayan', 'Bidur Municipality',\n",
       "       'Bageshwari', 'Khanigaun', 'badikhel', 'Khiji Phalate',\n",
       "       'Khiji Chandeshwari', 'Lele', 'Suryamati', 'Harkapur', 'Madanpur',\n",
       "       'Jharuwarasi', 'Chyanam', 'Lalitpur', 'Salang', 'Budhasing',\n",
       "       'Siddhicharan Np', 'Charghare', 'Badikhel', 'salang', 'Kunta Devi',\n",
       "       'Bhattedanda', 'Bigutar', 'Jantar Khani', 'Prapcha', 'Belkot',\n",
       "       'Baruneshwar', 'Baraneshwar'], dtype=object)"
      ]
     },
     "execution_count": 11,
     "metadata": {},
     "output_type": "execute_result"
    }
   ],
   "source": [
    "df['Municipality'].unique()"
   ]
  },
  {
   "cell_type": "code",
   "execution_count": 12,
   "metadata": {},
   "outputs": [],
   "source": [
    "# Capitalize first letter, small else\n",
    "df['Municipality'] = df['Municipality'].apply(lambda x: x.title())"
   ]
  },
  {
   "cell_type": "code",
   "execution_count": 13,
   "metadata": {},
   "outputs": [
    {
     "data": {
      "text/plain": [
       "148"
      ]
     },
     "execution_count": 13,
     "metadata": {},
     "output_type": "execute_result"
    }
   ],
   "source": [
    "df['Municipality'].nunique()"
   ]
  },
  {
   "cell_type": "code",
   "execution_count": 14,
   "metadata": {},
   "outputs": [
    {
     "data": {
      "text/html": [
       "<div>\n",
       "<style scoped>\n",
       "    .dataframe tbody tr th:only-of-type {\n",
       "        vertical-align: middle;\n",
       "    }\n",
       "\n",
       "    .dataframe tbody tr th {\n",
       "        vertical-align: top;\n",
       "    }\n",
       "\n",
       "    .dataframe thead th {\n",
       "        text-align: right;\n",
       "    }\n",
       "</style>\n",
       "<table border=\"1\" class=\"dataframe\">\n",
       "  <thead>\n",
       "    <tr style=\"text-align: right;\">\n",
       "      <th></th>\n",
       "      <th>Municipality</th>\n",
       "    </tr>\n",
       "  </thead>\n",
       "  <tbody>\n",
       "    <tr>\n",
       "      <th>Madhyapur</th>\n",
       "      <td>25</td>\n",
       "    </tr>\n",
       "    <tr>\n",
       "      <th>Bhaktpur</th>\n",
       "      <td>25</td>\n",
       "    </tr>\n",
       "    <tr>\n",
       "      <th>Chhaling</th>\n",
       "      <td>20</td>\n",
       "    </tr>\n",
       "    <tr>\n",
       "      <th>Panchkhal</th>\n",
       "      <td>20</td>\n",
       "    </tr>\n",
       "    <tr>\n",
       "      <th>Barpak</th>\n",
       "      <td>20</td>\n",
       "    </tr>\n",
       "    <tr>\n",
       "      <th>...</th>\n",
       "      <td>...</td>\n",
       "    </tr>\n",
       "    <tr>\n",
       "      <th>Salyankot</th>\n",
       "      <td>1</td>\n",
       "    </tr>\n",
       "    <tr>\n",
       "      <th>Mangatar</th>\n",
       "      <td>1</td>\n",
       "    </tr>\n",
       "    <tr>\n",
       "      <th>Ratanchaura</th>\n",
       "      <td>1</td>\n",
       "    </tr>\n",
       "    <tr>\n",
       "      <th>Khadha Bhanjyang</th>\n",
       "      <td>1</td>\n",
       "    </tr>\n",
       "    <tr>\n",
       "      <th>Kamalmai</th>\n",
       "      <td>1</td>\n",
       "    </tr>\n",
       "  </tbody>\n",
       "</table>\n",
       "<p>148 rows × 1 columns</p>\n",
       "</div>"
      ],
      "text/plain": [
       "                  Municipality\n",
       "Madhyapur                   25\n",
       "Bhaktpur                    25\n",
       "Chhaling                    20\n",
       "Panchkhal                   20\n",
       "Barpak                      20\n",
       "...                        ...\n",
       "Salyankot                    1\n",
       "Mangatar                     1\n",
       "Ratanchaura                  1\n",
       "Khadha Bhanjyang             1\n",
       "Kamalmai                     1\n",
       "\n",
       "[148 rows x 1 columns]"
      ]
     },
     "execution_count": 14,
     "metadata": {},
     "output_type": "execute_result"
    }
   ],
   "source": [
    "df['Municipality'].value_counts().to_frame()"
   ]
  },
  {
   "cell_type": "code",
   "execution_count": 15,
   "metadata": {},
   "outputs": [],
   "source": [
    "df.drop(['Municipality', 'Ward'], axis=1, inplace=True)"
   ]
  },
  {
   "cell_type": "code",
   "execution_count": 16,
   "metadata": {},
   "outputs": [
    {
     "data": {
      "text/html": [
       "<div>\n",
       "<style scoped>\n",
       "    .dataframe tbody tr th:only-of-type {\n",
       "        vertical-align: middle;\n",
       "    }\n",
       "\n",
       "    .dataframe tbody tr th {\n",
       "        vertical-align: top;\n",
       "    }\n",
       "\n",
       "    .dataframe thead th {\n",
       "        text-align: right;\n",
       "    }\n",
       "</style>\n",
       "<table border=\"1\" class=\"dataframe\">\n",
       "  <thead>\n",
       "    <tr style=\"text-align: right;\">\n",
       "      <th></th>\n",
       "      <th>District</th>\n",
       "      <th>Age</th>\n",
       "      <th>Gender</th>\n",
       "      <th>Caste</th>\n",
       "      <th>Occupation</th>\n",
       "      <th>Health Problem</th>\n",
       "      <th>Main Problmes Met</th>\n",
       "      <th>Biggest Problem</th>\n",
       "      <th>Second Biggest Problem</th>\n",
       "      <th>Third Biggest Problem</th>\n",
       "      <th>...</th>\n",
       "      <th>NGO Satisfaction</th>\n",
       "      <th>Top Need NGO</th>\n",
       "      <th>Second Need NGO</th>\n",
       "      <th>Support Fair</th>\n",
       "      <th>Top Reason Not Fair</th>\n",
       "      <th>Second Reason Not Fair</th>\n",
       "      <th>Prepared</th>\n",
       "      <th>Heard</th>\n",
       "      <th>Relief Effort Progress</th>\n",
       "      <th>Main Women Problem</th>\n",
       "    </tr>\n",
       "  </thead>\n",
       "  <tbody>\n",
       "    <tr>\n",
       "      <th>0</th>\n",
       "      <td>Kathmandu</td>\n",
       "      <td>40_54</td>\n",
       "      <td>female</td>\n",
       "      <td>Newar</td>\n",
       "      <td>other</td>\n",
       "      <td>no_difficulty</td>\n",
       "      <td>1___not_at_all</td>\n",
       "      <td>long_term_shelter__housing</td>\n",
       "      <td>financial_support</td>\n",
       "      <td>livelihoods</td>\n",
       "      <td>...</td>\n",
       "      <td>4___mostly_yes</td>\n",
       "      <td>NaN</td>\n",
       "      <td>NaN</td>\n",
       "      <td>don_t_know</td>\n",
       "      <td>NaN</td>\n",
       "      <td>NaN</td>\n",
       "      <td>4___mostly_yes</td>\n",
       "      <td>1___not_at_all</td>\n",
       "      <td>don_t_know</td>\n",
       "      <td>1___not_at_all</td>\n",
       "    </tr>\n",
       "    <tr>\n",
       "      <th>1</th>\n",
       "      <td>Kathmandu</td>\n",
       "      <td>55_greater</td>\n",
       "      <td>male</td>\n",
       "      <td>Newar</td>\n",
       "      <td>skilled_worker</td>\n",
       "      <td>no_difficulty</td>\n",
       "      <td>2___very_little</td>\n",
       "      <td>long_term_shelter__housing</td>\n",
       "      <td>financial_support</td>\n",
       "      <td>livelihoods</td>\n",
       "      <td>...</td>\n",
       "      <td>2___very_little</td>\n",
       "      <td>building_mater</td>\n",
       "      <td>food_aid</td>\n",
       "      <td>2___very_little</td>\n",
       "      <td>based_on_caste</td>\n",
       "      <td>based_on_polit</td>\n",
       "      <td>4___mostly_yes</td>\n",
       "      <td>2___not_very_m</td>\n",
       "      <td>2___very_little</td>\n",
       "      <td>NaN</td>\n",
       "    </tr>\n",
       "    <tr>\n",
       "      <th>2</th>\n",
       "      <td>Kathmandu</td>\n",
       "      <td>55_greater</td>\n",
       "      <td>male</td>\n",
       "      <td>Newar</td>\n",
       "      <td>skilled_worker</td>\n",
       "      <td>no_difficulty</td>\n",
       "      <td>2___very_little</td>\n",
       "      <td>long_term_shelter__housing</td>\n",
       "      <td>financial_support</td>\n",
       "      <td>livelihoods</td>\n",
       "      <td>...</td>\n",
       "      <td>4___mostly_yes</td>\n",
       "      <td>NaN</td>\n",
       "      <td>NaN</td>\n",
       "      <td>2___very_little</td>\n",
       "      <td>based_on_caste</td>\n",
       "      <td>based_on_polit</td>\n",
       "      <td>4___mostly_yes</td>\n",
       "      <td>1___not_at_all</td>\n",
       "      <td>1___not_at_all</td>\n",
       "      <td>NaN</td>\n",
       "    </tr>\n",
       "    <tr>\n",
       "      <th>3</th>\n",
       "      <td>Kathmandu</td>\n",
       "      <td>15_24</td>\n",
       "      <td>female</td>\n",
       "      <td>Tamang</td>\n",
       "      <td>other</td>\n",
       "      <td>yes__some_diff</td>\n",
       "      <td>3___neutral</td>\n",
       "      <td>long_term_shelter__housing</td>\n",
       "      <td>education</td>\n",
       "      <td>financial_support</td>\n",
       "      <td>...</td>\n",
       "      <td>3___neutral</td>\n",
       "      <td>building_mater</td>\n",
       "      <td>cash_for_work</td>\n",
       "      <td>3___neutral</td>\n",
       "      <td>based_on_dista</td>\n",
       "      <td>first_come__fi</td>\n",
       "      <td>4___mostly_yes</td>\n",
       "      <td>3___neutral</td>\n",
       "      <td>3___neutral</td>\n",
       "      <td>4___mostly_yes</td>\n",
       "    </tr>\n",
       "    <tr>\n",
       "      <th>4</th>\n",
       "      <td>Kathmandu</td>\n",
       "      <td>25_39</td>\n",
       "      <td>female</td>\n",
       "      <td>Tamang</td>\n",
       "      <td>other</td>\n",
       "      <td>no_difficulty</td>\n",
       "      <td>3___neutral</td>\n",
       "      <td>short_term_she</td>\n",
       "      <td>long_term_shelter__housing</td>\n",
       "      <td>financial_support</td>\n",
       "      <td>...</td>\n",
       "      <td>3___neutral</td>\n",
       "      <td>building_mater</td>\n",
       "      <td>cash_for_work</td>\n",
       "      <td>3___neutral</td>\n",
       "      <td>based_on_polit</td>\n",
       "      <td>first_come__fi</td>\n",
       "      <td>4___mostly_yes</td>\n",
       "      <td>3___neutral</td>\n",
       "      <td>2___very_little</td>\n",
       "      <td>4___mostly_yes</td>\n",
       "    </tr>\n",
       "  </tbody>\n",
       "</table>\n",
       "<p>5 rows × 26 columns</p>\n",
       "</div>"
      ],
      "text/plain": [
       "    District         Age  Gender   Caste      Occupation  Health Problem  \\\n",
       "0  Kathmandu       40_54  female   Newar           other   no_difficulty   \n",
       "1  Kathmandu  55_greater    male   Newar  skilled_worker   no_difficulty   \n",
       "2  Kathmandu  55_greater    male   Newar  skilled_worker   no_difficulty   \n",
       "3  Kathmandu       15_24  female  Tamang           other  yes__some_diff   \n",
       "4  Kathmandu       25_39  female  Tamang           other   no_difficulty   \n",
       "\n",
       "  Main Problmes Met             Biggest Problem      Second Biggest Problem  \\\n",
       "0    1___not_at_all  long_term_shelter__housing           financial_support   \n",
       "1   2___very_little  long_term_shelter__housing           financial_support   \n",
       "2   2___very_little  long_term_shelter__housing           financial_support   \n",
       "3       3___neutral  long_term_shelter__housing                   education   \n",
       "4       3___neutral              short_term_she  long_term_shelter__housing   \n",
       "\n",
       "  Third Biggest Problem  ... NGO Satisfaction    Top Need NGO Second Need NGO  \\\n",
       "0           livelihoods  ...   4___mostly_yes             NaN             NaN   \n",
       "1           livelihoods  ...  2___very_little  building_mater        food_aid   \n",
       "2           livelihoods  ...   4___mostly_yes             NaN             NaN   \n",
       "3     financial_support  ...      3___neutral  building_mater   cash_for_work   \n",
       "4     financial_support  ...      3___neutral  building_mater   cash_for_work   \n",
       "\n",
       "      Support Fair Top Reason Not Fair Second Reason Not Fair        Prepared  \\\n",
       "0       don_t_know                 NaN                    NaN  4___mostly_yes   \n",
       "1  2___very_little      based_on_caste         based_on_polit  4___mostly_yes   \n",
       "2  2___very_little      based_on_caste         based_on_polit  4___mostly_yes   \n",
       "3      3___neutral      based_on_dista         first_come__fi  4___mostly_yes   \n",
       "4      3___neutral      based_on_polit         first_come__fi  4___mostly_yes   \n",
       "\n",
       "            Heard Relief Effort Progress Main Women Problem  \n",
       "0  1___not_at_all             don_t_know     1___not_at_all  \n",
       "1  2___not_very_m        2___very_little                NaN  \n",
       "2  1___not_at_all         1___not_at_all                NaN  \n",
       "3     3___neutral            3___neutral     4___mostly_yes  \n",
       "4     3___neutral        2___very_little     4___mostly_yes  \n",
       "\n",
       "[5 rows x 26 columns]"
      ]
     },
     "execution_count": 16,
     "metadata": {},
     "output_type": "execute_result"
    }
   ],
   "source": [
    "df.head()"
   ]
  },
  {
   "cell_type": "code",
   "execution_count": 17,
   "metadata": {},
   "outputs": [
    {
     "name": "stdout",
     "output_type": "stream",
     "text": [
      "<class 'pandas.core.frame.DataFrame'>\n",
      "RangeIndex: 1400 entries, 0 to 1399\n",
      "Data columns (total 26 columns):\n",
      "District                  1400 non-null object\n",
      "Age                       1400 non-null object\n",
      "Gender                    1400 non-null object\n",
      "Caste                     1400 non-null object\n",
      "Occupation                1400 non-null object\n",
      "Health Problem            1400 non-null object\n",
      "Main Problmes Met         1400 non-null object\n",
      "Biggest Problem           1125 non-null object\n",
      "Second Biggest Problem    1125 non-null object\n",
      "Third Biggest Problem     1125 non-null object\n",
      "GOV Satisfaction          1400 non-null object\n",
      "Top Thing Gov             979 non-null object\n",
      "Second Thing Gov          979 non-null object\n",
      "Have Information          1400 non-null object\n",
      "Top Need Info             802 non-null object\n",
      "Second Need Info          802 non-null object\n",
      "NGO Satisfaction          1400 non-null object\n",
      "Top Need NGO              815 non-null object\n",
      "Second Need NGO           815 non-null object\n",
      "Support Fair              1400 non-null object\n",
      "Top Reason Not Fair       721 non-null object\n",
      "Second Reason Not Fair    721 non-null object\n",
      "Prepared                  1400 non-null object\n",
      "Heard                     1400 non-null object\n",
      "Relief Effort Progress    1400 non-null object\n",
      "Main Women Problem        472 non-null object\n",
      "dtypes: object(26)\n",
      "memory usage: 284.5+ KB\n"
     ]
    }
   ],
   "source": [
    "df.info()"
   ]
  },
  {
   "cell_type": "markdown",
   "metadata": {},
   "source": [
    "<h2> Data Visualization </h2>"
   ]
  },
  {
   "cell_type": "code",
   "execution_count": 18,
   "metadata": {},
   "outputs": [
    {
     "data": {
      "text/plain": [
       "<matplotlib.axes._subplots.AxesSubplot at 0x126e4b6d0>"
      ]
     },
     "execution_count": 18,
     "metadata": {},
     "output_type": "execute_result"
    },
    {
     "data": {
      "image/png": "[encoded data removed]",
      "text/plain": [
       "<Figure size 504x360 with 1 Axes>"
      ]
     },
     "metadata": {
      "needs_background": "light"
     },
     "output_type": "display_data"
    }
   ],
   "source": [
    "plt.figure(figsize=(7,5))\n",
    "sns.countplot(x='Gender', data=df)"
   ]
  },
  {
   "cell_type": "code",
   "execution_count": 19,
   "metadata": {},
   "outputs": [
    {
     "data": {
      "text/plain": [
       "<matplotlib.axes._subplots.AxesSubplot at 0x1281bd350>"
      ]
     },
     "execution_count": 19,
     "metadata": {},
     "output_type": "execute_result"
    },
    {
     "data": {
      "image/png": "[encoded data removed]",
      "text/plain": [
       "<Figure size 504x360 with 1 Axes>"
      ]
     },
     "metadata": {
      "needs_background": "light"
     },
     "output_type": "display_data"
    }
   ],
   "source": [
    "plt.figure(figsize=(7,5))\n",
    "sns.countplot(x='Age', data=df)"
   ]
  },
  {
   "cell_type": "code",
   "execution_count": 20,
   "metadata": {},
   "outputs": [
    {
     "data": {
      "text/plain": [
       "<matplotlib.axes._subplots.AxesSubplot at 0x12a3b8710>"
      ]
     },
     "execution_count": 20,
     "metadata": {},
     "output_type": "execute_result"
    },
    {
     "data": {
      "image/png": "[encoded data removed]",
      "text/plain": [
       "<Figure size 504x360 with 1 Axes>"
      ]
     },
     "metadata": {
      "needs_background": "light"
     },
     "output_type": "display_data"
    }
   ],
   "source": [
    "plt.figure(figsize=(7,5))\n",
    "sns.countplot(x='Caste', data=df)"
   ]
  },
  {
   "cell_type": "code",
   "execution_count": 21,
   "metadata": {},
   "outputs": [
    {
     "data": {
      "text/plain": [
       "<matplotlib.axes._subplots.AxesSubplot at 0x12a55e590>"
      ]
     },
     "execution_count": 21,
     "metadata": {},
     "output_type": "execute_result"
    },
    {
     "data": {
      "image/png": "[encoded data removed]",
      "text/plain": [
       "<Figure size 576x360 with 1 Axes>"
      ]
     },
     "metadata": {
      "needs_background": "light"
     },
     "output_type": "display_data"
    }
   ],
   "source": [
    "plt.figure(figsize=(8,5))\n",
    "sns.countplot(x='Occupation', data=df)"
   ]
  },
  {
   "cell_type": "code",
   "execution_count": 22,
   "metadata": {},
   "outputs": [
    {
     "data": {
      "text/plain": [
       "<matplotlib.axes._subplots.AxesSubplot at 0x12a771550>"
      ]
     },
     "execution_count": 22,
     "metadata": {},
     "output_type": "execute_result"
    },
    {
     "data": {
      "image/png": "[encoded data removed]",
      "text/plain": [
       "<Figure size 432x288 with 1 Axes>"
      ]
     },
     "metadata": {
      "needs_background": "light"
     },
     "output_type": "display_data"
    }
   ],
   "source": [
    "sns.countplot(x='Health Problem', data=df, hue='Age')"
   ]
  },
  {
   "cell_type": "code",
   "execution_count": 23,
   "metadata": {},
   "outputs": [
    {
     "data": {
      "text/plain": [
       "<matplotlib.axes._subplots.AxesSubplot at 0x12a771a90>"
      ]
     },
     "execution_count": 23,
     "metadata": {},
     "output_type": "execute_result"
    },
    {
     "data": {
      "image/png": "[encoded data removed]",
      "text/plain": [
       "<Figure size 1800x720 with 1 Axes>"
      ]
     },
     "metadata": {
      "needs_background": "light"
     },
     "output_type": "display_data"
    }
   ],
   "source": [
    "plt.figure(figsize=(25,10))\n",
    "sns.countplot(x='Biggest Problem', data=df, hue='Age')"
   ]
  },
  {
   "cell_type": "code",
   "execution_count": 24,
   "metadata": {},
   "outputs": [
    {
     "data": {
      "text/plain": [
       "<matplotlib.axes._subplots.AxesSubplot at 0x12a8c4850>"
      ]
     },
     "execution_count": 24,
     "metadata": {},
     "output_type": "execute_result"
    },
    {
     "data": {
      "image/png": "[encoded data removed]",
      "text/plain": [
       "<Figure size 1800x720 with 1 Axes>"
      ]
     },
     "metadata": {
      "needs_background": "light"
     },
     "output_type": "display_data"
    }
   ],
   "source": [
    "plt.figure(figsize=(25,10))\n",
    "sns.countplot(x='Biggest Problem', data=df, hue='Gender')"
   ]
  },
  {
   "cell_type": "code",
   "execution_count": 25,
   "metadata": {},
   "outputs": [
    {
     "data": {
      "text/plain": [
       "<matplotlib.axes._subplots.AxesSubplot at 0x128106550>"
      ]
     },
     "execution_count": 25,
     "metadata": {},
     "output_type": "execute_result"
    },
    {
     "data": {
      "image/png": "[encoded data removed]",
      "text/plain": [
       "<Figure size 1800x720 with 1 Axes>"
      ]
     },
     "metadata": {
      "needs_background": "light"
     },
     "output_type": "display_data"
    }
   ],
   "source": [
    "plt.figure(figsize=(25,10))\n",
    "sns.countplot(x='GOV Satisfaction', data=df, hue='Age')"
   ]
  },
  {
   "cell_type": "code",
   "execution_count": 26,
   "metadata": {},
   "outputs": [
    {
     "data": {
      "text/plain": [
       "<matplotlib.axes._subplots.AxesSubplot at 0x12811d990>"
      ]
     },
     "execution_count": 26,
     "metadata": {},
     "output_type": "execute_result"
    },
    {
     "data": {
      "image/png": "[encoded data removed]",
      "text/plain": [
       "<Figure size 1800x720 with 1 Axes>"
      ]
     },
     "metadata": {
      "needs_background": "light"
     },
     "output_type": "display_data"
    }
   ],
   "source": [
    "plt.figure(figsize=(25,10))\n",
    "sns.countplot(x='Main Women Problem', data=df, hue='Gender')"
   ]
  },
  {
   "cell_type": "markdown",
   "metadata": {},
   "source": [
    "<h2> Null Values </h2>"
   ]
  },
  {
   "cell_type": "code",
   "execution_count": 27,
   "metadata": {},
   "outputs": [
    {
     "data": {
      "text/plain": [
       "male      905\n",
       "female    495\n",
       "Name: Gender, dtype: int64"
      ]
     },
     "execution_count": 27,
     "metadata": {},
     "output_type": "execute_result"
    }
   ],
   "source": [
    "df['Gender'].value_counts()"
   ]
  },
  {
   "cell_type": "code",
   "execution_count": 28,
   "metadata": {},
   "outputs": [
    {
     "data": {
      "text/plain": [
       "472"
      ]
     },
     "execution_count": 28,
     "metadata": {},
     "output_type": "execute_result"
    }
   ],
   "source": [
    "df['Main Women Problem'].count()"
   ]
  },
  {
   "cell_type": "code",
   "execution_count": 29,
   "metadata": {},
   "outputs": [],
   "source": [
    "df.drop(['Main Women Problem'], axis=1, inplace=True)"
   ]
  },
  {
   "cell_type": "code",
   "execution_count": 30,
   "metadata": {},
   "outputs": [
    {
     "data": {
      "text/plain": [
       "District                    0\n",
       "Age                         0\n",
       "Gender                      0\n",
       "Caste                       0\n",
       "Occupation                  0\n",
       "Health Problem              0\n",
       "Main Problmes Met           0\n",
       "Biggest Problem           275\n",
       "Second Biggest Problem    275\n",
       "Third Biggest Problem     275\n",
       "GOV Satisfaction            0\n",
       "Top Thing Gov             421\n",
       "Second Thing Gov          421\n",
       "Have Information            0\n",
       "Top Need Info             598\n",
       "Second Need Info          598\n",
       "NGO Satisfaction            0\n",
       "Top Need NGO              585\n",
       "Second Need NGO           585\n",
       "Support Fair                0\n",
       "Top Reason Not Fair       679\n",
       "Second Reason Not Fair    679\n",
       "Prepared                    0\n",
       "Heard                       0\n",
       "Relief Effort Progress      0\n",
       "dtype: int64"
      ]
     },
     "execution_count": 30,
     "metadata": {},
     "output_type": "execute_result"
    }
   ],
   "source": [
    "df.isna().sum()"
   ]
  },
  {
   "cell_type": "code",
   "execution_count": 31,
   "metadata": {},
   "outputs": [],
   "source": [
    "columns_with_null = [col for col in df.columns if df[col].isnull().any()]\n",
    "\n",
    "for col in columns_with_null:\n",
    "    df[col].fillna(df[col].value_counts().index[0], inplace=True)"
   ]
  },
  {
   "cell_type": "code",
   "execution_count": 32,
   "metadata": {},
   "outputs": [
    {
     "name": "stdout",
     "output_type": "stream",
     "text": [
      "<class 'pandas.core.frame.DataFrame'>\n",
      "RangeIndex: 1400 entries, 0 to 1399\n",
      "Data columns (total 25 columns):\n",
      "District                  1400 non-null object\n",
      "Age                       1400 non-null object\n",
      "Gender                    1400 non-null object\n",
      "Caste                     1400 non-null object\n",
      "Occupation                1400 non-null object\n",
      "Health Problem            1400 non-null object\n",
      "Main Problmes Met         1400 non-null object\n",
      "Biggest Problem           1400 non-null object\n",
      "Second Biggest Problem    1400 non-null object\n",
      "Third Biggest Problem     1400 non-null object\n",
      "GOV Satisfaction          1400 non-null object\n",
      "Top Thing Gov             1400 non-null object\n",
      "Second Thing Gov          1400 non-null object\n",
      "Have Information          1400 non-null object\n",
      "Top Need Info             1400 non-null object\n",
      "Second Need Info          1400 non-null object\n",
      "NGO Satisfaction          1400 non-null object\n",
      "Top Need NGO              1400 non-null object\n",
      "Second Need NGO           1400 non-null object\n",
      "Support Fair              1400 non-null object\n",
      "Top Reason Not Fair       1400 non-null object\n",
      "Second Reason Not Fair    1400 non-null object\n",
      "Prepared                  1400 non-null object\n",
      "Heard                     1400 non-null object\n",
      "Relief Effort Progress    1400 non-null object\n",
      "dtypes: object(25)\n",
      "memory usage: 273.6+ KB\n"
     ]
    }
   ],
   "source": [
    "df.info()"
   ]
  },
  {
   "cell_type": "markdown",
   "metadata": {},
   "source": [
    "<h2> Cluster Analysis </h2>"
   ]
  },
  {
   "cell_type": "markdown",
   "metadata": {},
   "source": [
    "<h3> One Hot Encoding </h3>"
   ]
  },
  {
   "cell_type": "code",
   "execution_count": 33,
   "metadata": {},
   "outputs": [],
   "source": [
    "one_hot_encoded_df = pd.DataFrame()\n",
    "\n",
    "for col in df.columns:\n",
    "    one_hot_encoded_df = pd.concat([one_hot_encoded_df, pd.get_dummies(df[col])], axis=1)"
   ]
  },
  {
   "cell_type": "code",
   "execution_count": 34,
   "metadata": {},
   "outputs": [
    {
     "data": {
      "text/html": [
       "<div>\n",
       "<style scoped>\n",
       "    .dataframe tbody tr th:only-of-type {\n",
       "        vertical-align: middle;\n",
       "    }\n",
       "\n",
       "    .dataframe tbody tr th {\n",
       "        vertical-align: top;\n",
       "    }\n",
       "\n",
       "    .dataframe thead th {\n",
       "        text-align: right;\n",
       "    }\n",
       "</style>\n",
       "<table border=\"1\" class=\"dataframe\">\n",
       "  <thead>\n",
       "    <tr style=\"text-align: right;\">\n",
       "      <th></th>\n",
       "      <th>Bhaktapur</th>\n",
       "      <th>Dhading</th>\n",
       "      <th>Dolakha</th>\n",
       "      <th>Gorkha</th>\n",
       "      <th>Kathmandu</th>\n",
       "      <th>Kavrepalanchok</th>\n",
       "      <th>Lalitpur</th>\n",
       "      <th>Makwanpur</th>\n",
       "      <th>Nuwakot</th>\n",
       "      <th>Okhaldhunga</th>\n",
       "      <th>...</th>\n",
       "      <th>5___completely</th>\n",
       "      <th>don_t_know</th>\n",
       "      <th>refused</th>\n",
       "      <th>1___not_at_all</th>\n",
       "      <th>2___very_little</th>\n",
       "      <th>3___neutral</th>\n",
       "      <th>4___mostly_yes</th>\n",
       "      <th>5___completely_yes</th>\n",
       "      <th>don_t_know</th>\n",
       "      <th>refused</th>\n",
       "    </tr>\n",
       "  </thead>\n",
       "  <tbody>\n",
       "    <tr>\n",
       "      <th>0</th>\n",
       "      <td>0</td>\n",
       "      <td>0</td>\n",
       "      <td>0</td>\n",
       "      <td>0</td>\n",
       "      <td>1</td>\n",
       "      <td>0</td>\n",
       "      <td>0</td>\n",
       "      <td>0</td>\n",
       "      <td>0</td>\n",
       "      <td>0</td>\n",
       "      <td>...</td>\n",
       "      <td>0</td>\n",
       "      <td>0</td>\n",
       "      <td>0</td>\n",
       "      <td>0</td>\n",
       "      <td>0</td>\n",
       "      <td>0</td>\n",
       "      <td>0</td>\n",
       "      <td>0</td>\n",
       "      <td>1</td>\n",
       "      <td>0</td>\n",
       "    </tr>\n",
       "    <tr>\n",
       "      <th>1</th>\n",
       "      <td>0</td>\n",
       "      <td>0</td>\n",
       "      <td>0</td>\n",
       "      <td>0</td>\n",
       "      <td>1</td>\n",
       "      <td>0</td>\n",
       "      <td>0</td>\n",
       "      <td>0</td>\n",
       "      <td>0</td>\n",
       "      <td>0</td>\n",
       "      <td>...</td>\n",
       "      <td>0</td>\n",
       "      <td>0</td>\n",
       "      <td>0</td>\n",
       "      <td>0</td>\n",
       "      <td>1</td>\n",
       "      <td>0</td>\n",
       "      <td>0</td>\n",
       "      <td>0</td>\n",
       "      <td>0</td>\n",
       "      <td>0</td>\n",
       "    </tr>\n",
       "    <tr>\n",
       "      <th>2</th>\n",
       "      <td>0</td>\n",
       "      <td>0</td>\n",
       "      <td>0</td>\n",
       "      <td>0</td>\n",
       "      <td>1</td>\n",
       "      <td>0</td>\n",
       "      <td>0</td>\n",
       "      <td>0</td>\n",
       "      <td>0</td>\n",
       "      <td>0</td>\n",
       "      <td>...</td>\n",
       "      <td>0</td>\n",
       "      <td>0</td>\n",
       "      <td>0</td>\n",
       "      <td>1</td>\n",
       "      <td>0</td>\n",
       "      <td>0</td>\n",
       "      <td>0</td>\n",
       "      <td>0</td>\n",
       "      <td>0</td>\n",
       "      <td>0</td>\n",
       "    </tr>\n",
       "    <tr>\n",
       "      <th>3</th>\n",
       "      <td>0</td>\n",
       "      <td>0</td>\n",
       "      <td>0</td>\n",
       "      <td>0</td>\n",
       "      <td>1</td>\n",
       "      <td>0</td>\n",
       "      <td>0</td>\n",
       "      <td>0</td>\n",
       "      <td>0</td>\n",
       "      <td>0</td>\n",
       "      <td>...</td>\n",
       "      <td>0</td>\n",
       "      <td>0</td>\n",
       "      <td>0</td>\n",
       "      <td>0</td>\n",
       "      <td>0</td>\n",
       "      <td>1</td>\n",
       "      <td>0</td>\n",
       "      <td>0</td>\n",
       "      <td>0</td>\n",
       "      <td>0</td>\n",
       "    </tr>\n",
       "    <tr>\n",
       "      <th>4</th>\n",
       "      <td>0</td>\n",
       "      <td>0</td>\n",
       "      <td>0</td>\n",
       "      <td>0</td>\n",
       "      <td>1</td>\n",
       "      <td>0</td>\n",
       "      <td>0</td>\n",
       "      <td>0</td>\n",
       "      <td>0</td>\n",
       "      <td>0</td>\n",
       "      <td>...</td>\n",
       "      <td>0</td>\n",
       "      <td>0</td>\n",
       "      <td>0</td>\n",
       "      <td>0</td>\n",
       "      <td>1</td>\n",
       "      <td>0</td>\n",
       "      <td>0</td>\n",
       "      <td>0</td>\n",
       "      <td>0</td>\n",
       "      <td>0</td>\n",
       "    </tr>\n",
       "  </tbody>\n",
       "</table>\n",
       "<p>5 rows × 189 columns</p>\n",
       "</div>"
      ],
      "text/plain": [
       "   Bhaktapur  Dhading  Dolakha  Gorkha  Kathmandu  Kavrepalanchok  Lalitpur  \\\n",
       "0          0        0        0       0          1               0         0   \n",
       "1          0        0        0       0          1               0         0   \n",
       "2          0        0        0       0          1               0         0   \n",
       "3          0        0        0       0          1               0         0   \n",
       "4          0        0        0       0          1               0         0   \n",
       "\n",
       "   Makwanpur  Nuwakot  Okhaldhunga  ...  5___completely  don_t_know  refused  \\\n",
       "0          0        0            0  ...               0           0        0   \n",
       "1          0        0            0  ...               0           0        0   \n",
       "2          0        0            0  ...               0           0        0   \n",
       "3          0        0            0  ...               0           0        0   \n",
       "4          0        0            0  ...               0           0        0   \n",
       "\n",
       "   1___not_at_all  2___very_little  3___neutral  4___mostly_yes  \\\n",
       "0               0                0            0               0   \n",
       "1               0                1            0               0   \n",
       "2               1                0            0               0   \n",
       "3               0                0            1               0   \n",
       "4               0                1            0               0   \n",
       "\n",
       "   5___completely_yes  don_t_know  refused  \n",
       "0                   0           1        0  \n",
       "1                   0           0        0  \n",
       "2                   0           0        0  \n",
       "3                   0           0        0  \n",
       "4                   0           0        0  \n",
       "\n",
       "[5 rows x 189 columns]"
      ]
     },
     "execution_count": 34,
     "metadata": {},
     "output_type": "execute_result"
    }
   ],
   "source": [
    "one_hot_encoded_df.head()"
   ]
  },
  {
   "cell_type": "code",
   "execution_count": 35,
   "metadata": {},
   "outputs": [],
   "source": [
    "from sklearn.cluster import KMeans"
   ]
  },
  {
   "cell_type": "markdown",
   "metadata": {},
   "source": [
    "<h3> Elbow Method </h3>"
   ]
  },
  {
   "cell_type": "code",
   "execution_count": 48,
   "metadata": {},
   "outputs": [
    {
     "data": {
      "image/png": "[encoded data removed]",
      "text/plain": [
       "<Figure size 720x360 with 1 Axes>"
      ]
     },
     "metadata": {
      "needs_background": "light"
     },
     "output_type": "display_data"
    }
   ],
   "source": [
    "Error =[]\n",
    "for i in range(1, 10):\n",
    "    kmeans = KMeans(n_clusters = i).fit(one_hot_encoded_df)\n",
    "    kmeans.fit(one_hot_encoded_df)\n",
    "    Error.append(kmeans.inertia_)\n",
    "plt.figure(figsize=(10,5))\n",
    "plt.plot(range(1, 10), Error)\n",
    "plt.title('Elbow method')\n",
    "plt.xlabel('No of clusters')\n",
    "plt.ylabel('Error')\n",
    "plt.show()"
   ]
  },
  {
   "cell_type": "markdown",
   "metadata": {},
   "source": [
    "https://heartbeat.fritz.ai/k-means-clustering-using-sklearn-and-python-4a054d67b187"
   ]
  },
  {
   "cell_type": "markdown",
   "metadata": {},
   "source": [
    "<h3> Silhouette Method </h3>"
   ]
  },
  {
   "cell_type": "code",
   "execution_count": 37,
   "metadata": {},
   "outputs": [
    {
     "name": "stdout",
     "output_type": "stream",
     "text": [
      "For n_clusters = 2 The average silhouette_score is : 0.05726971379576684\n",
      "For n_clusters = 3 The average silhouette_score is : 0.053169784537339115\n",
      "For n_clusters = 4 The average silhouette_score is : 0.05120921013740197\n",
      "For n_clusters = 5 The average silhouette_score is : 0.03325897057220211\n",
      "For n_clusters = 6 The average silhouette_score is : 0.034618561734392414\n",
      "For n_clusters = 7 The average silhouette_score is : 0.03749190179785894\n",
      "For n_clusters = 8 The average silhouette_score is : 0.03792884883988737\n",
      "For n_clusters = 9 The average silhouette_score is : 0.03559208169271032\n",
      "For n_clusters = 10 The average silhouette_score is : 0.036546522044194174\n"
     ]
    }
   ],
   "source": [
    "from sklearn.metrics import silhouette_score\n",
    "\n",
    "sil = []\n",
    "kmax = 10\n",
    "\n",
    "# dissimilarity would not be defined for a single cluster, thus, minimum number of clusters should be 2\n",
    "for k in range(2, kmax+1):\n",
    "    kmeans = KMeans(n_clusters = k).fit(one_hot_encoded_df)\n",
    "    labels = kmeans.labels_\n",
    "    silhouette_avg = silhouette_score(one_hot_encoded_df, labels, metric = 'euclidean')\n",
    "    print(\"For n_clusters =\", k,\n",
    "          \"The average silhouette_score is :\", silhouette_avg)\n",
    "    sil.append(silhouette_avg)"
   ]
  },
  {
   "cell_type": "code",
   "execution_count": 38,
   "metadata": {},
   "outputs": [],
   "source": [
    "kmeans = KMeans(n_clusters=2)"
   ]
  },
  {
   "cell_type": "code",
   "execution_count": 39,
   "metadata": {},
   "outputs": [
    {
     "data": {
      "text/plain": [
       "KMeans(algorithm='auto', copy_x=True, init='k-means++', max_iter=300,\n",
       "       n_clusters=2, n_init=10, n_jobs=None, precompute_distances='auto',\n",
       "       random_state=None, tol=0.0001, verbose=0)"
      ]
     },
     "execution_count": 39,
     "metadata": {},
     "output_type": "execute_result"
    }
   ],
   "source": [
    "kmeans.fit(one_hot_encoded_df)"
   ]
  },
  {
   "cell_type": "code",
   "execution_count": 40,
   "metadata": {},
   "outputs": [
    {
     "data": {
      "text/plain": [
       "array([0, 1, 0, ..., 1, 0, 0], dtype=int32)"
      ]
     },
     "execution_count": 40,
     "metadata": {},
     "output_type": "execute_result"
    }
   ],
   "source": [
    "kmeans.labels_"
   ]
  },
  {
   "cell_type": "code",
   "execution_count": 41,
   "metadata": {},
   "outputs": [
    {
     "data": {
      "text/plain": [
       "array([0, 1, 0, ..., 1, 0, 0], dtype=int32)"
      ]
     },
     "execution_count": 41,
     "metadata": {},
     "output_type": "execute_result"
    }
   ],
   "source": [
    "y_kmeans = kmeans.predict(one_hot_encoded_df)\n",
    "y_kmeans"
   ]
  },
  {
   "cell_type": "code",
   "execution_count": 42,
   "metadata": {},
   "outputs": [],
   "source": [
    "one_hot_encoded_df['Cluster'] = y_kmeans\n",
    "df['Cluster'] = y_kmeans"
   ]
  },
  {
   "cell_type": "code",
   "execution_count": 43,
   "metadata": {},
   "outputs": [
    {
     "data": {
      "text/html": [
       "<div>\n",
       "<style scoped>\n",
       "    .dataframe tbody tr th:only-of-type {\n",
       "        vertical-align: middle;\n",
       "    }\n",
       "\n",
       "    .dataframe tbody tr th {\n",
       "        vertical-align: top;\n",
       "    }\n",
       "\n",
       "    .dataframe thead th {\n",
       "        text-align: right;\n",
       "    }\n",
       "</style>\n",
       "<table border=\"1\" class=\"dataframe\">\n",
       "  <thead>\n",
       "    <tr style=\"text-align: right;\">\n",
       "      <th></th>\n",
       "      <th>District</th>\n",
       "      <th>Age</th>\n",
       "      <th>Gender</th>\n",
       "      <th>Caste</th>\n",
       "      <th>Occupation</th>\n",
       "      <th>Health Problem</th>\n",
       "      <th>Main Problmes Met</th>\n",
       "      <th>Biggest Problem</th>\n",
       "      <th>Second Biggest Problem</th>\n",
       "      <th>Third Biggest Problem</th>\n",
       "      <th>...</th>\n",
       "      <th>NGO Satisfaction</th>\n",
       "      <th>Top Need NGO</th>\n",
       "      <th>Second Need NGO</th>\n",
       "      <th>Support Fair</th>\n",
       "      <th>Top Reason Not Fair</th>\n",
       "      <th>Second Reason Not Fair</th>\n",
       "      <th>Prepared</th>\n",
       "      <th>Heard</th>\n",
       "      <th>Relief Effort Progress</th>\n",
       "      <th>Cluster</th>\n",
       "    </tr>\n",
       "  </thead>\n",
       "  <tbody>\n",
       "    <tr>\n",
       "      <th>0</th>\n",
       "      <td>Kathmandu</td>\n",
       "      <td>40_54</td>\n",
       "      <td>female</td>\n",
       "      <td>Newar</td>\n",
       "      <td>other</td>\n",
       "      <td>no_difficulty</td>\n",
       "      <td>1___not_at_all</td>\n",
       "      <td>long_term_shelter__housing</td>\n",
       "      <td>financial_support</td>\n",
       "      <td>livelihoods</td>\n",
       "      <td>...</td>\n",
       "      <td>4___mostly_yes</td>\n",
       "      <td>building_mater</td>\n",
       "      <td>cash_for_work</td>\n",
       "      <td>don_t_know</td>\n",
       "      <td>based_on_polit</td>\n",
       "      <td>based_on_polit</td>\n",
       "      <td>4___mostly_yes</td>\n",
       "      <td>1___not_at_all</td>\n",
       "      <td>don_t_know</td>\n",
       "      <td>0</td>\n",
       "    </tr>\n",
       "    <tr>\n",
       "      <th>1</th>\n",
       "      <td>Kathmandu</td>\n",
       "      <td>55_greater</td>\n",
       "      <td>male</td>\n",
       "      <td>Newar</td>\n",
       "      <td>skilled_worker</td>\n",
       "      <td>no_difficulty</td>\n",
       "      <td>2___very_little</td>\n",
       "      <td>long_term_shelter__housing</td>\n",
       "      <td>financial_support</td>\n",
       "      <td>livelihoods</td>\n",
       "      <td>...</td>\n",
       "      <td>2___very_little</td>\n",
       "      <td>building_mater</td>\n",
       "      <td>food_aid</td>\n",
       "      <td>2___very_little</td>\n",
       "      <td>based_on_caste</td>\n",
       "      <td>based_on_polit</td>\n",
       "      <td>4___mostly_yes</td>\n",
       "      <td>2___not_very_m</td>\n",
       "      <td>2___very_little</td>\n",
       "      <td>1</td>\n",
       "    </tr>\n",
       "    <tr>\n",
       "      <th>2</th>\n",
       "      <td>Kathmandu</td>\n",
       "      <td>55_greater</td>\n",
       "      <td>male</td>\n",
       "      <td>Newar</td>\n",
       "      <td>skilled_worker</td>\n",
       "      <td>no_difficulty</td>\n",
       "      <td>2___very_little</td>\n",
       "      <td>long_term_shelter__housing</td>\n",
       "      <td>financial_support</td>\n",
       "      <td>livelihoods</td>\n",
       "      <td>...</td>\n",
       "      <td>4___mostly_yes</td>\n",
       "      <td>building_mater</td>\n",
       "      <td>cash_for_work</td>\n",
       "      <td>2___very_little</td>\n",
       "      <td>based_on_caste</td>\n",
       "      <td>based_on_polit</td>\n",
       "      <td>4___mostly_yes</td>\n",
       "      <td>1___not_at_all</td>\n",
       "      <td>1___not_at_all</td>\n",
       "      <td>0</td>\n",
       "    </tr>\n",
       "    <tr>\n",
       "      <th>3</th>\n",
       "      <td>Kathmandu</td>\n",
       "      <td>15_24</td>\n",
       "      <td>female</td>\n",
       "      <td>Tamang</td>\n",
       "      <td>other</td>\n",
       "      <td>yes__some_diff</td>\n",
       "      <td>3___neutral</td>\n",
       "      <td>long_term_shelter__housing</td>\n",
       "      <td>education</td>\n",
       "      <td>financial_support</td>\n",
       "      <td>...</td>\n",
       "      <td>3___neutral</td>\n",
       "      <td>building_mater</td>\n",
       "      <td>cash_for_work</td>\n",
       "      <td>3___neutral</td>\n",
       "      <td>based_on_dista</td>\n",
       "      <td>first_come__fi</td>\n",
       "      <td>4___mostly_yes</td>\n",
       "      <td>3___neutral</td>\n",
       "      <td>3___neutral</td>\n",
       "      <td>0</td>\n",
       "    </tr>\n",
       "    <tr>\n",
       "      <th>4</th>\n",
       "      <td>Kathmandu</td>\n",
       "      <td>25_39</td>\n",
       "      <td>female</td>\n",
       "      <td>Tamang</td>\n",
       "      <td>other</td>\n",
       "      <td>no_difficulty</td>\n",
       "      <td>3___neutral</td>\n",
       "      <td>short_term_she</td>\n",
       "      <td>long_term_shelter__housing</td>\n",
       "      <td>financial_support</td>\n",
       "      <td>...</td>\n",
       "      <td>3___neutral</td>\n",
       "      <td>building_mater</td>\n",
       "      <td>cash_for_work</td>\n",
       "      <td>3___neutral</td>\n",
       "      <td>based_on_polit</td>\n",
       "      <td>first_come__fi</td>\n",
       "      <td>4___mostly_yes</td>\n",
       "      <td>3___neutral</td>\n",
       "      <td>2___very_little</td>\n",
       "      <td>0</td>\n",
       "    </tr>\n",
       "  </tbody>\n",
       "</table>\n",
       "<p>5 rows × 26 columns</p>\n",
       "</div>"
      ],
      "text/plain": [
       "    District         Age  Gender   Caste      Occupation  Health Problem  \\\n",
       "0  Kathmandu       40_54  female   Newar           other   no_difficulty   \n",
       "1  Kathmandu  55_greater    male   Newar  skilled_worker   no_difficulty   \n",
       "2  Kathmandu  55_greater    male   Newar  skilled_worker   no_difficulty   \n",
       "3  Kathmandu       15_24  female  Tamang           other  yes__some_diff   \n",
       "4  Kathmandu       25_39  female  Tamang           other   no_difficulty   \n",
       "\n",
       "  Main Problmes Met             Biggest Problem      Second Biggest Problem  \\\n",
       "0    1___not_at_all  long_term_shelter__housing           financial_support   \n",
       "1   2___very_little  long_term_shelter__housing           financial_support   \n",
       "2   2___very_little  long_term_shelter__housing           financial_support   \n",
       "3       3___neutral  long_term_shelter__housing                   education   \n",
       "4       3___neutral              short_term_she  long_term_shelter__housing   \n",
       "\n",
       "  Third Biggest Problem  ... NGO Satisfaction    Top Need NGO Second Need NGO  \\\n",
       "0           livelihoods  ...   4___mostly_yes  building_mater   cash_for_work   \n",
       "1           livelihoods  ...  2___very_little  building_mater        food_aid   \n",
       "2           livelihoods  ...   4___mostly_yes  building_mater   cash_for_work   \n",
       "3     financial_support  ...      3___neutral  building_mater   cash_for_work   \n",
       "4     financial_support  ...      3___neutral  building_mater   cash_for_work   \n",
       "\n",
       "      Support Fair Top Reason Not Fair Second Reason Not Fair        Prepared  \\\n",
       "0       don_t_know      based_on_polit         based_on_polit  4___mostly_yes   \n",
       "1  2___very_little      based_on_caste         based_on_polit  4___mostly_yes   \n",
       "2  2___very_little      based_on_caste         based_on_polit  4___mostly_yes   \n",
       "3      3___neutral      based_on_dista         first_come__fi  4___mostly_yes   \n",
       "4      3___neutral      based_on_polit         first_come__fi  4___mostly_yes   \n",
       "\n",
       "            Heard Relief Effort Progress Cluster  \n",
       "0  1___not_at_all             don_t_know       0  \n",
       "1  2___not_very_m        2___very_little       1  \n",
       "2  1___not_at_all         1___not_at_all       0  \n",
       "3     3___neutral            3___neutral       0  \n",
       "4     3___neutral        2___very_little       0  \n",
       "\n",
       "[5 rows x 26 columns]"
      ]
     },
     "execution_count": 43,
     "metadata": {},
     "output_type": "execute_result"
    }
   ],
   "source": [
    "df.head()"
   ]
  },
  {
   "cell_type": "code",
   "execution_count": 44,
   "metadata": {},
   "outputs": [
    {
     "data": {
      "text/html": [
       "<div>\n",
       "<style scoped>\n",
       "    .dataframe tbody tr th:only-of-type {\n",
       "        vertical-align: middle;\n",
       "    }\n",
       "\n",
       "    .dataframe tbody tr th {\n",
       "        vertical-align: top;\n",
       "    }\n",
       "\n",
       "    .dataframe thead th {\n",
       "        text-align: right;\n",
       "    }\n",
       "</style>\n",
       "<table border=\"1\" class=\"dataframe\">\n",
       "  <thead>\n",
       "    <tr style=\"text-align: right;\">\n",
       "      <th></th>\n",
       "      <th>Bhaktapur</th>\n",
       "      <th>Dhading</th>\n",
       "      <th>Dolakha</th>\n",
       "      <th>Gorkha</th>\n",
       "      <th>Kathmandu</th>\n",
       "      <th>Kavrepalanchok</th>\n",
       "      <th>Lalitpur</th>\n",
       "      <th>Makwanpur</th>\n",
       "      <th>Nuwakot</th>\n",
       "      <th>Okhaldhunga</th>\n",
       "      <th>...</th>\n",
       "      <th>don_t_know</th>\n",
       "      <th>refused</th>\n",
       "      <th>1___not_at_all</th>\n",
       "      <th>2___very_little</th>\n",
       "      <th>3___neutral</th>\n",
       "      <th>4___mostly_yes</th>\n",
       "      <th>5___completely_yes</th>\n",
       "      <th>don_t_know</th>\n",
       "      <th>refused</th>\n",
       "      <th>Cluster</th>\n",
       "    </tr>\n",
       "  </thead>\n",
       "  <tbody>\n",
       "    <tr>\n",
       "      <th>0</th>\n",
       "      <td>0</td>\n",
       "      <td>0</td>\n",
       "      <td>0</td>\n",
       "      <td>0</td>\n",
       "      <td>1</td>\n",
       "      <td>0</td>\n",
       "      <td>0</td>\n",
       "      <td>0</td>\n",
       "      <td>0</td>\n",
       "      <td>0</td>\n",
       "      <td>...</td>\n",
       "      <td>0</td>\n",
       "      <td>0</td>\n",
       "      <td>0</td>\n",
       "      <td>0</td>\n",
       "      <td>0</td>\n",
       "      <td>0</td>\n",
       "      <td>0</td>\n",
       "      <td>1</td>\n",
       "      <td>0</td>\n",
       "      <td>0</td>\n",
       "    </tr>\n",
       "    <tr>\n",
       "      <th>1</th>\n",
       "      <td>0</td>\n",
       "      <td>0</td>\n",
       "      <td>0</td>\n",
       "      <td>0</td>\n",
       "      <td>1</td>\n",
       "      <td>0</td>\n",
       "      <td>0</td>\n",
       "      <td>0</td>\n",
       "      <td>0</td>\n",
       "      <td>0</td>\n",
       "      <td>...</td>\n",
       "      <td>0</td>\n",
       "      <td>0</td>\n",
       "      <td>0</td>\n",
       "      <td>1</td>\n",
       "      <td>0</td>\n",
       "      <td>0</td>\n",
       "      <td>0</td>\n",
       "      <td>0</td>\n",
       "      <td>0</td>\n",
       "      <td>1</td>\n",
       "    </tr>\n",
       "    <tr>\n",
       "      <th>2</th>\n",
       "      <td>0</td>\n",
       "      <td>0</td>\n",
       "      <td>0</td>\n",
       "      <td>0</td>\n",
       "      <td>1</td>\n",
       "      <td>0</td>\n",
       "      <td>0</td>\n",
       "      <td>0</td>\n",
       "      <td>0</td>\n",
       "      <td>0</td>\n",
       "      <td>...</td>\n",
       "      <td>0</td>\n",
       "      <td>0</td>\n",
       "      <td>1</td>\n",
       "      <td>0</td>\n",
       "      <td>0</td>\n",
       "      <td>0</td>\n",
       "      <td>0</td>\n",
       "      <td>0</td>\n",
       "      <td>0</td>\n",
       "      <td>0</td>\n",
       "    </tr>\n",
       "    <tr>\n",
       "      <th>3</th>\n",
       "      <td>0</td>\n",
       "      <td>0</td>\n",
       "      <td>0</td>\n",
       "      <td>0</td>\n",
       "      <td>1</td>\n",
       "      <td>0</td>\n",
       "      <td>0</td>\n",
       "      <td>0</td>\n",
       "      <td>0</td>\n",
       "      <td>0</td>\n",
       "      <td>...</td>\n",
       "      <td>0</td>\n",
       "      <td>0</td>\n",
       "      <td>0</td>\n",
       "      <td>0</td>\n",
       "      <td>1</td>\n",
       "      <td>0</td>\n",
       "      <td>0</td>\n",
       "      <td>0</td>\n",
       "      <td>0</td>\n",
       "      <td>0</td>\n",
       "    </tr>\n",
       "    <tr>\n",
       "      <th>4</th>\n",
       "      <td>0</td>\n",
       "      <td>0</td>\n",
       "      <td>0</td>\n",
       "      <td>0</td>\n",
       "      <td>1</td>\n",
       "      <td>0</td>\n",
       "      <td>0</td>\n",
       "      <td>0</td>\n",
       "      <td>0</td>\n",
       "      <td>0</td>\n",
       "      <td>...</td>\n",
       "      <td>0</td>\n",
       "      <td>0</td>\n",
       "      <td>0</td>\n",
       "      <td>1</td>\n",
       "      <td>0</td>\n",
       "      <td>0</td>\n",
       "      <td>0</td>\n",
       "      <td>0</td>\n",
       "      <td>0</td>\n",
       "      <td>0</td>\n",
       "    </tr>\n",
       "  </tbody>\n",
       "</table>\n",
       "<p>5 rows × 190 columns</p>\n",
       "</div>"
      ],
      "text/plain": [
       "   Bhaktapur  Dhading  Dolakha  Gorkha  Kathmandu  Kavrepalanchok  Lalitpur  \\\n",
       "0          0        0        0       0          1               0         0   \n",
       "1          0        0        0       0          1               0         0   \n",
       "2          0        0        0       0          1               0         0   \n",
       "3          0        0        0       0          1               0         0   \n",
       "4          0        0        0       0          1               0         0   \n",
       "\n",
       "   Makwanpur  Nuwakot  Okhaldhunga  ...  don_t_know  refused  1___not_at_all  \\\n",
       "0          0        0            0  ...           0        0               0   \n",
       "1          0        0            0  ...           0        0               0   \n",
       "2          0        0            0  ...           0        0               1   \n",
       "3          0        0            0  ...           0        0               0   \n",
       "4          0        0            0  ...           0        0               0   \n",
       "\n",
       "   2___very_little  3___neutral  4___mostly_yes  5___completely_yes  \\\n",
       "0                0            0               0                   0   \n",
       "1                1            0               0                   0   \n",
       "2                0            0               0                   0   \n",
       "3                0            1               0                   0   \n",
       "4                1            0               0                   0   \n",
       "\n",
       "   don_t_know  refused  Cluster  \n",
       "0           1        0        0  \n",
       "1           0        0        1  \n",
       "2           0        0        0  \n",
       "3           0        0        0  \n",
       "4           0        0        0  \n",
       "\n",
       "[5 rows x 190 columns]"
      ]
     },
     "execution_count": 44,
     "metadata": {},
     "output_type": "execute_result"
    }
   ],
   "source": [
    "one_hot_encoded_df.head()"
   ]
  },
  {
   "cell_type": "code",
   "execution_count": 45,
   "metadata": {},
   "outputs": [],
   "source": [
    "# kmeans.cluster_centers_"
   ]
  },
  {
   "cell_type": "markdown",
   "metadata": {},
   "source": [
    "<h3> PCA </h3>\n",
    "<h7> Dimensionality Reduction </h7>"
   ]
  },
  {
   "cell_type": "code",
   "execution_count": 46,
   "metadata": {},
   "outputs": [],
   "source": [
    "from sklearn.decomposition import PCA"
   ]
  },
  {
   "cell_type": "code",
   "execution_count": 49,
   "metadata": {},
   "outputs": [
    {
     "data": {
      "image/png": "[encoded data removed]",
      "text/plain": [
       "<Figure size 720x360 with 1 Axes>"
      ]
     },
     "metadata": {
      "needs_background": "light"
     },
     "output_type": "display_data"
    }
   ],
   "source": [
    "reduced_data = PCA(n_components=2).fit_transform(one_hot_encoded_df)\n",
    "results = pd.DataFrame(reduced_data,columns=['pca1','pca2'])\n",
    "\n",
    "plt.figure(figsize=(10,5))\n",
    "sns.scatterplot(x=\"pca1\", y=\"pca2\", hue=one_hot_encoded_df['Cluster'], data=results)\n",
    "plt.title('K-means Clustering with 2 dimensions')\n",
    "plt.show()"
   ]
  },
  {
   "cell_type": "code",
   "execution_count": null,
   "metadata": {},
   "outputs": [],
   "source": []
  }
 ],
 "metadata": {
  "kernelspec": {
   "display_name": "Python 3",
   "language": "python",
   "name": "python3"
  },
  "language_info": {
   "codemirror_mode": {
    "name": "ipython",
    "version": 3
   },
   "file_extension": ".py",
   "mimetype": "text/x-python",
   "name": "python",
   "nbconvert_exporter": "python",
   "pygments_lexer": "ipython3",
   "version": "3.7.5"
  }
 },
 "nbformat": 4,
 "nbformat_minor": 4
}
